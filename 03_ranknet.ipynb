{
  "nbformat": 4,
  "nbformat_minor": 0,
  "metadata": {
    "colab": {
      "provenance": [],
      "include_colab_link": true
    },
    "kernelspec": {
      "name": "python3",
      "display_name": "Python 3"
    },
    "language_info": {
      "name": "python"
    },
    "accelerator": "GPU"
  },
  "cells": [
    {
      "cell_type": "markdown",
      "metadata": {
        "id": "view-in-github",
        "colab_type": "text"
      },
      "source": [
        "<a href=\"https://colab.research.google.com/github/ihagoSantos/special-topics-in-machine-learning/blob/main/03_ranknet.ipynb\" target=\"_parent\"><img src=\"https://colab.research.google.com/assets/colab-badge.svg\" alt=\"Open In Colab\"/></a>"
      ]
    },
    {
      "cell_type": "markdown",
      "source": [
        "**Learning to Rank**"
      ],
      "metadata": {
        "id": "u3csrRVa9B7x"
      }
    },
    {
      "cell_type": "markdown",
      "source": [
        "Técnica de ML usada para resolução de problemas de classificação. Uma das principais aplicações é em sistemas de busca (para e-commerce por exemplo), em que o objetivo é obter uma lista de itens claasificada, onde a ordem é importante.  "
      ],
      "metadata": {
        "id": "Ih7KrI0W9Gtu"
      }
    },
    {
      "cell_type": "markdown",
      "source": [
        "Em um sistema de busca, é importante que os resultados sejam ranqueados por relevância."
      ],
      "metadata": {
        "id": "NKuX1YY6260d"
      }
    },
    {
      "cell_type": "markdown",
      "source": [
        "RankNet é um algoritmo de Learning to Rank desenvolvido em 2005 por Chris Burges da Microsoft Research. O algoritmo pode ser implementado usando um rede neural que analisa pares de objetos. Sua função de custo tem como objetivo minimizar o número de trocas necessárias para melhorar uma ordenação incorreta na classificação de uma par de resultados.\n",
        "\n"
      ],
      "metadata": {
        "id": "OoiMz07y6as1"
      }
    },
    {
      "cell_type": "markdown",
      "source": [
        "**RankNet**"
      ],
      "metadata": {
        "id": "0gG16vu3y87s"
      }
    },
    {
      "cell_type": "code",
      "execution_count": 1,
      "metadata": {
        "id": "CEinbHvoy3gm",
        "colab": {
          "base_uri": "https://localhost:8080/"
        },
        "outputId": "51fff7f5-44ed-49f8-8fc0-714d4746aa44"
      },
      "outputs": [
        {
          "output_type": "stream",
          "name": "stdout",
          "text": [
            "Populating the interactive namespace from numpy and matplotlib\n"
          ]
        }
      ],
      "source": [
        "import numpy as np\n",
        "\n",
        "import keras\n",
        "from keras import backend\n",
        "from keras.layers import Activation, Add, Dense, Input, Lambda, Dropout, Subtract\n",
        "from keras.models import Model, Sequential\n",
        "from tensorflow.keras.utils import plot_model\n",
        "%pylab inline\n",
        "\n",
        "INPUT_DIM = 1536"
      ]
    },
    {
      "cell_type": "markdown",
      "source": [
        "**Rede Base**"
      ],
      "metadata": {
        "id": "U26vEjPQkr1m"
      }
    },
    {
      "cell_type": "markdown",
      "source": [
        "A rede siamesa cria duas dessas redes base para itens de classificação mais alta e mais baixa, respectivamente."
      ],
      "metadata": {
        "id": "gwioE0H4ztRz"
      }
    },
    {
      "cell_type": "markdown",
      "source": [
        "Para saber mais sobre redes siamesas:\n",
        "\n",
        "[Image similarity estimation using a Siamese Network with a triplet loss](https://keras.io/examples/vision/siamese_network/)\n",
        "\n",
        "[Siamese Neural Networks for One-shot Image Recognition](https://www.cs.cmu.edu/~rsalakhu/papers/oneshot1.pdf)"
      ],
      "metadata": {
        "id": "oG-1IkgM0P5H"
      }
    },
    {
      "cell_type": "code",
      "source": [
        "def create_base_network(input_dim):\n",
        "    '''Base network to be shared (eq. to feature extraction).\n",
        "    '''\n",
        "    seq = Sequential()\n",
        "    seq.add(Dense(INPUT_DIM, input_shape=(input_dim,), activation='relu'))\n",
        "    seq.add(Dropout(0.1))\n",
        "    seq.add(Dense(64, activation='relu'))\n",
        "    seq.add(Dropout(0.1))\n",
        "    seq.add(Dense(32, activation='relu'))\n",
        "    seq.add(Dense(1))\n",
        "    return seq"
      ],
      "metadata": {
        "id": "JyenB5PZzqPD"
      },
      "execution_count": 2,
      "outputs": []
    },
    {
      "cell_type": "markdown",
      "source": [
        "**Arquitetura da rede siamesa**"
      ],
      "metadata": {
        "id": "hxzJJohJztxL"
      }
    },
    {
      "cell_type": "markdown",
      "source": [
        "São criadas duas instâncias da arquitetura base e a diferença entre suas saídas são calculadas no final.\n",
        "\n",
        "A diferença será a entrada para uma função de classificação para o cálculo da loss."
      ],
      "metadata": {
        "id": "LWOCSsrFzt2u"
      }
    },
    {
      "cell_type": "code",
      "source": [
        "def create_meta_network(input_dim, base_network):\n",
        "    input_a = Input(shape=(input_dim,))\n",
        "    input_b = Input(shape=(input_dim,))\n",
        "\n",
        "    rel_score = base_network(input_a)\n",
        "    irr_score = base_network(input_b)\n",
        "\n",
        "    # subtract scores\n",
        "    diff = Subtract()([rel_score, irr_score])\n",
        "\n",
        "    # Pass difference through sigmoid function.\n",
        "    prob = Activation(\"sigmoid\")(diff)\n",
        "\n",
        "    # Build model.\n",
        "    model = Model(inputs = [input_a, input_b], outputs = prob)\n",
        "    model.compile(optimizer = \"adam\", loss = \"binary_crossentropy\")\n",
        "\n",
        "    return model"
      ],
      "metadata": {
        "id": "y_sYzMYBzuB5"
      },
      "execution_count": 3,
      "outputs": []
    },
    {
      "cell_type": "code",
      "source": [
        "base_network = create_base_network(INPUT_DIM)\n",
        "model = create_meta_network(INPUT_DIM, base_network)\n",
        "model.summary()\n",
        "\n",
        "plot_model(base_network, to_file='base.png')\n",
        "plot_model(model, to_file='meta.png')"
      ],
      "metadata": {
        "id": "vCA2Ty25zw4Y",
        "colab": {
          "base_uri": "https://localhost:8080/",
          "height": 1000
        },
        "outputId": "994fe199-dd24-4f07-dd72-9bbf5c0d5c41"
      },
      "execution_count": 4,
      "outputs": [
        {
          "output_type": "stream",
          "name": "stderr",
          "text": [
            "/usr/local/lib/python3.11/dist-packages/keras/src/layers/core/dense.py:87: UserWarning: Do not pass an `input_shape`/`input_dim` argument to a layer. When using Sequential models, prefer using an `Input(shape)` object as the first layer in the model instead.\n",
            "  super().__init__(activity_regularizer=activity_regularizer, **kwargs)\n"
          ]
        },
        {
          "output_type": "display_data",
          "data": {
            "text/plain": [
              "\u001b[1mModel: \"functional_6\"\u001b[0m\n"
            ],
            "text/html": [
              "<pre style=\"white-space:pre;overflow-x:auto;line-height:normal;font-family:Menlo,'DejaVu Sans Mono',consolas,'Courier New',monospace\"><span style=\"font-weight: bold\">Model: \"functional_6\"</span>\n",
              "</pre>\n"
            ]
          },
          "metadata": {}
        },
        {
          "output_type": "display_data",
          "data": {
            "text/plain": [
              "┏━━━━━━━━━━━━━━━━━━━━━┳━━━━━━━━━━━━━━━━━━━┳━━━━━━━━━━━━┳━━━━━━━━━━━━━━━━━━━┓\n",
              "┃\u001b[1m \u001b[0m\u001b[1mLayer (type)       \u001b[0m\u001b[1m \u001b[0m┃\u001b[1m \u001b[0m\u001b[1mOutput Shape     \u001b[0m\u001b[1m \u001b[0m┃\u001b[1m \u001b[0m\u001b[1m   Param #\u001b[0m\u001b[1m \u001b[0m┃\u001b[1m \u001b[0m\u001b[1mConnected to     \u001b[0m\u001b[1m \u001b[0m┃\n",
              "┡━━━━━━━━━━━━━━━━━━━━━╇━━━━━━━━━━━━━━━━━━━╇━━━━━━━━━━━━╇━━━━━━━━━━━━━━━━━━━┩\n",
              "│ input_layer_1       │ (\u001b[38;5;45mNone\u001b[0m, \u001b[38;5;34m1536\u001b[0m)      │          \u001b[38;5;34m0\u001b[0m │ -                 │\n",
              "│ (\u001b[38;5;33mInputLayer\u001b[0m)        │                   │            │                   │\n",
              "├─────────────────────┼───────────────────┼────────────┼───────────────────┤\n",
              "│ input_layer_2       │ (\u001b[38;5;45mNone\u001b[0m, \u001b[38;5;34m1536\u001b[0m)      │          \u001b[38;5;34m0\u001b[0m │ -                 │\n",
              "│ (\u001b[38;5;33mInputLayer\u001b[0m)        │                   │            │                   │\n",
              "├─────────────────────┼───────────────────┼────────────┼───────────────────┤\n",
              "│ sequential          │ (\u001b[38;5;45mNone\u001b[0m, \u001b[38;5;34m1\u001b[0m)         │  \u001b[38;5;34m2,461,313\u001b[0m │ input_layer_1[\u001b[38;5;34m0\u001b[0m]… │\n",
              "│ (\u001b[38;5;33mSequential\u001b[0m)        │                   │            │ input_layer_2[\u001b[38;5;34m0\u001b[0m]… │\n",
              "├─────────────────────┼───────────────────┼────────────┼───────────────────┤\n",
              "│ subtract (\u001b[38;5;33mSubtract\u001b[0m) │ (\u001b[38;5;45mNone\u001b[0m, \u001b[38;5;34m1\u001b[0m)         │          \u001b[38;5;34m0\u001b[0m │ sequential[\u001b[38;5;34m0\u001b[0m][\u001b[38;5;34m0\u001b[0m], │\n",
              "│                     │                   │            │ sequential[\u001b[38;5;34m1\u001b[0m][\u001b[38;5;34m0\u001b[0m]  │\n",
              "├─────────────────────┼───────────────────┼────────────┼───────────────────┤\n",
              "│ activation          │ (\u001b[38;5;45mNone\u001b[0m, \u001b[38;5;34m1\u001b[0m)         │          \u001b[38;5;34m0\u001b[0m │ subtract[\u001b[38;5;34m0\u001b[0m][\u001b[38;5;34m0\u001b[0m]    │\n",
              "│ (\u001b[38;5;33mActivation\u001b[0m)        │                   │            │                   │\n",
              "└─────────────────────┴───────────────────┴────────────┴───────────────────┘\n"
            ],
            "text/html": [
              "<pre style=\"white-space:pre;overflow-x:auto;line-height:normal;font-family:Menlo,'DejaVu Sans Mono',consolas,'Courier New',monospace\">┏━━━━━━━━━━━━━━━━━━━━━┳━━━━━━━━━━━━━━━━━━━┳━━━━━━━━━━━━┳━━━━━━━━━━━━━━━━━━━┓\n",
              "┃<span style=\"font-weight: bold\"> Layer (type)        </span>┃<span style=\"font-weight: bold\"> Output Shape      </span>┃<span style=\"font-weight: bold\">    Param # </span>┃<span style=\"font-weight: bold\"> Connected to      </span>┃\n",
              "┡━━━━━━━━━━━━━━━━━━━━━╇━━━━━━━━━━━━━━━━━━━╇━━━━━━━━━━━━╇━━━━━━━━━━━━━━━━━━━┩\n",
              "│ input_layer_1       │ (<span style=\"color: #00d7ff; text-decoration-color: #00d7ff\">None</span>, <span style=\"color: #00af00; text-decoration-color: #00af00\">1536</span>)      │          <span style=\"color: #00af00; text-decoration-color: #00af00\">0</span> │ -                 │\n",
              "│ (<span style=\"color: #0087ff; text-decoration-color: #0087ff\">InputLayer</span>)        │                   │            │                   │\n",
              "├─────────────────────┼───────────────────┼────────────┼───────────────────┤\n",
              "│ input_layer_2       │ (<span style=\"color: #00d7ff; text-decoration-color: #00d7ff\">None</span>, <span style=\"color: #00af00; text-decoration-color: #00af00\">1536</span>)      │          <span style=\"color: #00af00; text-decoration-color: #00af00\">0</span> │ -                 │\n",
              "│ (<span style=\"color: #0087ff; text-decoration-color: #0087ff\">InputLayer</span>)        │                   │            │                   │\n",
              "├─────────────────────┼───────────────────┼────────────┼───────────────────┤\n",
              "│ sequential          │ (<span style=\"color: #00d7ff; text-decoration-color: #00d7ff\">None</span>, <span style=\"color: #00af00; text-decoration-color: #00af00\">1</span>)         │  <span style=\"color: #00af00; text-decoration-color: #00af00\">2,461,313</span> │ input_layer_1[<span style=\"color: #00af00; text-decoration-color: #00af00\">0</span>]… │\n",
              "│ (<span style=\"color: #0087ff; text-decoration-color: #0087ff\">Sequential</span>)        │                   │            │ input_layer_2[<span style=\"color: #00af00; text-decoration-color: #00af00\">0</span>]… │\n",
              "├─────────────────────┼───────────────────┼────────────┼───────────────────┤\n",
              "│ subtract (<span style=\"color: #0087ff; text-decoration-color: #0087ff\">Subtract</span>) │ (<span style=\"color: #00d7ff; text-decoration-color: #00d7ff\">None</span>, <span style=\"color: #00af00; text-decoration-color: #00af00\">1</span>)         │          <span style=\"color: #00af00; text-decoration-color: #00af00\">0</span> │ sequential[<span style=\"color: #00af00; text-decoration-color: #00af00\">0</span>][<span style=\"color: #00af00; text-decoration-color: #00af00\">0</span>], │\n",
              "│                     │                   │            │ sequential[<span style=\"color: #00af00; text-decoration-color: #00af00\">1</span>][<span style=\"color: #00af00; text-decoration-color: #00af00\">0</span>]  │\n",
              "├─────────────────────┼───────────────────┼────────────┼───────────────────┤\n",
              "│ activation          │ (<span style=\"color: #00d7ff; text-decoration-color: #00d7ff\">None</span>, <span style=\"color: #00af00; text-decoration-color: #00af00\">1</span>)         │          <span style=\"color: #00af00; text-decoration-color: #00af00\">0</span> │ subtract[<span style=\"color: #00af00; text-decoration-color: #00af00\">0</span>][<span style=\"color: #00af00; text-decoration-color: #00af00\">0</span>]    │\n",
              "│ (<span style=\"color: #0087ff; text-decoration-color: #0087ff\">Activation</span>)        │                   │            │                   │\n",
              "└─────────────────────┴───────────────────┴────────────┴───────────────────┘\n",
              "</pre>\n"
            ]
          },
          "metadata": {}
        },
        {
          "output_type": "display_data",
          "data": {
            "text/plain": [
              "\u001b[1m Total params: \u001b[0m\u001b[38;5;34m2,461,313\u001b[0m (9.39 MB)\n"
            ],
            "text/html": [
              "<pre style=\"white-space:pre;overflow-x:auto;line-height:normal;font-family:Menlo,'DejaVu Sans Mono',consolas,'Courier New',monospace\"><span style=\"font-weight: bold\"> Total params: </span><span style=\"color: #00af00; text-decoration-color: #00af00\">2,461,313</span> (9.39 MB)\n",
              "</pre>\n"
            ]
          },
          "metadata": {}
        },
        {
          "output_type": "display_data",
          "data": {
            "text/plain": [
              "\u001b[1m Trainable params: \u001b[0m\u001b[38;5;34m2,461,313\u001b[0m (9.39 MB)\n"
            ],
            "text/html": [
              "<pre style=\"white-space:pre;overflow-x:auto;line-height:normal;font-family:Menlo,'DejaVu Sans Mono',consolas,'Courier New',monospace\"><span style=\"font-weight: bold\"> Trainable params: </span><span style=\"color: #00af00; text-decoration-color: #00af00\">2,461,313</span> (9.39 MB)\n",
              "</pre>\n"
            ]
          },
          "metadata": {}
        },
        {
          "output_type": "display_data",
          "data": {
            "text/plain": [
              "\u001b[1m Non-trainable params: \u001b[0m\u001b[38;5;34m0\u001b[0m (0.00 B)\n"
            ],
            "text/html": [
              "<pre style=\"white-space:pre;overflow-x:auto;line-height:normal;font-family:Menlo,'DejaVu Sans Mono',consolas,'Courier New',monospace\"><span style=\"font-weight: bold\"> Non-trainable params: </span><span style=\"color: #00af00; text-decoration-color: #00af00\">0</span> (0.00 B)\n",
              "</pre>\n"
            ]
          },
          "metadata": {}
        },
        {
          "output_type": "execute_result",
          "data": {
            "image/png": "[encoded data removed]",
            "text/plain": [
              "<IPython.core.display.Image object>"
            ]
          },
          "metadata": {},
          "execution_count": 4
        }
      ]
    },
    {
      "cell_type": "markdown",
      "source": [
        "**Dataset sintético**"
      ],
      "metadata": {
        "id": "SBIhvqx8zz9C"
      }
    },
    {
      "cell_type": "markdown",
      "source": [
        "O dataset será composto por dois conjuntos de dimensão \"N\" gerados aleatoriamente."
      ],
      "metadata": {
        "id": "9EpcYcDYz2Bi"
      }
    },
    {
      "cell_type": "code",
      "source": [
        "# Fake data.\n",
        "N = 1000\n",
        "SPLIT=750\n",
        "X_1 = 2* np.random.randn(N, INPUT_DIM) # notice this data is shifted by 2\n",
        "X_2 = np.random.randn(N, INPUT_DIM)\n",
        "\n",
        "X_1_train = X_1[0:SPLIT,:]\n",
        "X_1_test = X_1[SPLIT:N,:]\n",
        "\n",
        "X_2_train = X_2[0:SPLIT,:]\n",
        "X_2_test =  X_2[SPLIT:N,:]\n",
        "\n",
        "\n",
        "y = np.ones((X_1.shape[0], 1))\n",
        "\n",
        "y_train = y[0:SPLIT,:]\n",
        "y_test = y[SPLIT:N,:]\n",
        "\n",
        "np.mean(X_1_train), np.mean(X_2_train)"
      ],
      "metadata": {
        "id": "CkKOrIZGz0MZ",
        "colab": {
          "base_uri": "https://localhost:8080/"
        },
        "outputId": "c59d88f4-100b-4e74-9d23-2579653ce353"
      },
      "execution_count": 5,
      "outputs": [
        {
          "output_type": "execute_result",
          "data": {
            "text/plain": [
              "(np.float64(-0.0039597043203795845), np.float64(0.0010213370548403874))"
            ]
          },
          "metadata": {},
          "execution_count": 5
        }
      ]
    },
    {
      "cell_type": "code",
      "source": [
        "# Train model.\n",
        "\n",
        "es=keras.callbacks.EarlyStopping(monitor='val_loss',\n",
        "                              min_delta=0,\n",
        "                              patience=2,\n",
        "                              verbose=1, mode='auto')\n",
        "\n",
        "NUM_EPOCHS = 10\n",
        "BATCH_SIZE = 10\n",
        "history = model.fit([X_1_train, X_2_train], y_train,\n",
        "                    validation_data=([X_1_test, X_2_test], y_test),\n",
        "                    batch_size = BATCH_SIZE, epochs = NUM_EPOCHS, verbose = 1, callbacks=[es])"
      ],
      "metadata": {
        "id": "yqr0dHD-z6KB",
        "colab": {
          "base_uri": "https://localhost:8080/"
        },
        "outputId": "dc1f9e95-0629-4547-d5d7-4e90d672b27a"
      },
      "execution_count": 6,
      "outputs": [
        {
          "output_type": "stream",
          "name": "stdout",
          "text": [
            "Epoch 1/10\n",
            "\u001b[1m75/75\u001b[0m \u001b[32m━━━━━━━━━━━━━━━━━━━━\u001b[0m\u001b[37m\u001b[0m \u001b[1m5s\u001b[0m 9ms/step - loss: 0.1356 - val_loss: 1.6886e-04\n",
            "Epoch 2/10\n",
            "\u001b[1m75/75\u001b[0m \u001b[32m━━━━━━━━━━━━━━━━━━━━\u001b[0m\u001b[37m\u001b[0m \u001b[1m0s\u001b[0m 5ms/step - loss: 0.0016 - val_loss: 2.5591e-04\n",
            "Epoch 3/10\n",
            "\u001b[1m75/75\u001b[0m \u001b[32m━━━━━━━━━━━━━━━━━━━━\u001b[0m\u001b[37m\u001b[0m \u001b[1m1s\u001b[0m 5ms/step - loss: 0.0036 - val_loss: 2.5720e-04\n",
            "Epoch 3: early stopping\n"
          ]
        }
      ]
    },
    {
      "cell_type": "code",
      "source": [
        "# summarize history for loss\n",
        "plt.plot(history.history['loss'])\n",
        "plt.plot(history.history['val_loss'])\n",
        "plt.title('model loss')\n",
        "plt.ylabel('loss')\n",
        "plt.xlabel('epoch')\n",
        "plt.legend(['train', 'test'], loc='upper right')\n",
        "plt.show()"
      ],
      "metadata": {
        "id": "G-BR5Kosz-KB",
        "colab": {
          "base_uri": "https://localhost:8080/",
          "height": 472
        },
        "outputId": "ce58ec86-8f59-440d-f1fa-3597c2f3cfae"
      },
      "execution_count": 7,
      "outputs": [
        {
          "output_type": "display_data",
          "data": {
            "text/plain": [
              "<Figure size 640x480 with 1 Axes>"
            ],
            "image/png": "[encoded data removed]"
          },
          "metadata": {}
        }
      ]
    },
    {
      "cell_type": "code",
      "source": [
        "#the mean score of the high-rank distribution should be higher\n",
        "np.mean(base_network.predict(X_1_test)), np.mean(base_network.predict(X_2_test))"
      ],
      "metadata": {
        "id": "HpjIWjjp0Aju",
        "colab": {
          "base_uri": "https://localhost:8080/"
        },
        "outputId": "4d20ebf4-4308-4be9-f5bb-de0fed7c9fc1"
      },
      "execution_count": 8,
      "outputs": [
        {
          "output_type": "stream",
          "name": "stdout",
          "text": [
            "\u001b[1m8/8\u001b[0m \u001b[32m━━━━━━━━━━━━━━━━━━━━\u001b[0m\u001b[37m\u001b[0m \u001b[1m1s\u001b[0m 51ms/step\n",
            "\u001b[1m8/8\u001b[0m \u001b[32m━━━━━━━━━━━━━━━━━━━━\u001b[0m\u001b[37m\u001b[0m \u001b[1m0s\u001b[0m 5ms/step \n"
          ]
        },
        {
          "output_type": "execute_result",
          "data": {
            "text/plain": [
              "(np.float32(39.21983), np.float32(19.880709))"
            ]
          },
          "metadata": {},
          "execution_count": 8
        }
      ]
    },
    {
      "cell_type": "code",
      "source": [
        "#AUC\n",
        "(np.sum(base_network.predict(X_1_test) > base_network.predict(X_2_test))+0.0) / X_1_test.shape[0]"
      ],
      "metadata": {
        "id": "nHls_M9w0AvH",
        "colab": {
          "base_uri": "https://localhost:8080/"
        },
        "outputId": "6c8f36bd-4f24-4a86-c950-964108b34fc9"
      },
      "execution_count": 9,
      "outputs": [
        {
          "output_type": "stream",
          "name": "stdout",
          "text": [
            "\u001b[1m8/8\u001b[0m \u001b[32m━━━━━━━━━━━━━━━━━━━━\u001b[0m\u001b[37m\u001b[0m \u001b[1m0s\u001b[0m 3ms/step \n",
            "\u001b[1m8/8\u001b[0m \u001b[32m━━━━━━━━━━━━━━━━━━━━\u001b[0m\u001b[37m\u001b[0m \u001b[1m0s\u001b[0m 4ms/step \n"
          ]
        },
        {
          "output_type": "execute_result",
          "data": {
            "text/plain": [
              "np.float64(1.0)"
            ]
          },
          "metadata": {},
          "execution_count": 9
        }
      ]
    },
    {
      "cell_type": "code",
      "source": [
        "np.sum(base_network.predict(X_1_test) > base_network.predict(X_2_test))"
      ],
      "metadata": {
        "id": "NJd56LlpTP8P",
        "colab": {
          "base_uri": "https://localhost:8080/"
        },
        "outputId": "8330586d-8b93-4cf0-ec25-fc5299ff9098"
      },
      "execution_count": 10,
      "outputs": [
        {
          "output_type": "stream",
          "name": "stdout",
          "text": [
            "\u001b[1m8/8\u001b[0m \u001b[32m━━━━━━━━━━━━━━━━━━━━\u001b[0m\u001b[37m\u001b[0m \u001b[1m0s\u001b[0m 4ms/step \n",
            "\u001b[1m8/8\u001b[0m \u001b[32m━━━━━━━━━━━━━━━━━━━━\u001b[0m\u001b[37m\u001b[0m \u001b[1m0s\u001b[0m 3ms/step \n"
          ]
        },
        {
          "output_type": "execute_result",
          "data": {
            "text/plain": [
              "np.int64(250)"
            ]
          },
          "metadata": {},
          "execution_count": 10
        }
      ]
    },
    {
      "cell_type": "markdown",
      "source": [
        "**Referência**\n",
        "\n",
        "[Learning to Rank from Pair-wise data](https://github.com/eggie5/RankNet)\n",
        "\n",
        "[Learning to Rank using Gradient Descent](https://icml.cc/2015/wp-content/uploads/2015/06/icml_ranking.pdf)\n"
      ],
      "metadata": {
        "id": "woV98meD0uwQ"
      }
    }
  ]
}