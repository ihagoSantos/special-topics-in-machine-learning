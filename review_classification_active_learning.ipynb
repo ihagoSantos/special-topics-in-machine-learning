{
  "cells": [
    {
      "cell_type": "markdown",
      "metadata": {
        "id": "view-in-github",
        "colab_type": "text"
      },
      "source": [
        "<a href=\"https://colab.research.google.com/github/ihagoSantos/special-topics-in-machine-learning/blob/main/review_classification_active_learning.ipynb\" target=\"_parent\"><img src=\"https://colab.research.google.com/assets/colab-badge.svg\" alt=\"Open In Colab\"/></a>"
      ]
    },
    {
      "cell_type": "markdown",
      "metadata": {
        "id": "8AS1uYqnJn5K"
      },
      "source": [
        "# Review Classification using Active Learning\n",
        "\n",
        "**Author:** [Darshan Deshpande](https://twitter.com/getdarshan)<br>\n",
        "**Date created:** 2021/10/29<br>\n",
        "**Last modified:** 2021/10/29<br>\n",
        "**Description:** Demonstrating the advantages of active learning through review classification."
      ]
    },
    {
      "cell_type": "code",
      "execution_count": null,
      "metadata": {
        "id": "8aKX6zASJnX6"
      },
      "outputs": [],
      "source": [
        "import tensorflow_datasets as tfds\n",
        "import tensorflow as tf\n",
        "from tensorflow import keras\n",
        "from tensorflow.keras import layers\n",
        "import matplotlib.pyplot as plt\n",
        "import re\n",
        "import string\n",
        "\n",
        "tfds.disable_progress_bar()"
      ]
    },
    {
      "cell_type": "markdown",
      "metadata": {
        "id": "iBBZ2e0xMULK"
      },
      "source": [
        "## Loading and preprocessing the data"
      ]
    },
    {
      "cell_type": "code",
      "execution_count": null,
      "metadata": {
        "colab": {
          "base_uri": "https://localhost:8080/"
        },
        "id": "2ZGzZIxwJlzL",
        "outputId": "b9e2df20-216c-4594-eb72-1bbcc70053e2"
      },
      "outputs": [
        {
          "output_type": "stream",
          "name": "stderr",
          "text": [
            "WARNING:absl:Variant folder /root/tensorflow_datasets/imdb_reviews/plain_text/1.0.0 has no dataset_info.json\n"
          ]
        },
        {
          "output_type": "stream",
          "name": "stdout",
          "text": [
            "Downloading and preparing dataset Unknown size (download: Unknown size, generated: Unknown size, total: Unknown size) to /root/tensorflow_datasets/imdb_reviews/plain_text/1.0.0...\n",
            "Dataset imdb_reviews downloaded and prepared to /root/tensorflow_datasets/imdb_reviews/plain_text/1.0.0. Subsequent calls will reuse this data.\n",
            "total examples: 50000\n"
          ]
        }
      ],
      "source": [
        "dataset = tfds.load(\n",
        "    \"imdb_reviews\",\n",
        "    split=\"train + test\",\n",
        "    as_supervised=True,\n",
        "    batch_size=-1,\n",
        "    shuffle_files=False,\n",
        ")\n",
        "\n",
        "reviews, labels = tfds.as_numpy(dataset)\n",
        "\n",
        "print(\"total examples:\", reviews.shape[0])"
      ]
    },
    {
      "cell_type": "code",
      "execution_count": null,
      "metadata": {
        "colab": {
          "base_uri": "https://localhost:8080/"
        },
        "id": "jj08vMwPM4Lv",
        "outputId": "811676c1-091d-4da9-af67-0d6ba2d916e1"
      },
      "outputs": [
        {
          "output_type": "stream",
          "name": "stdout",
          "text": [
            "Initial training set size: 15000\n",
            "Validation set size: 5000\n",
            "Testing set size: 5000\n",
            "Unlabeled negative pool: 12500\n",
            "Unlabeled positive pool: 12500\n"
          ]
        }
      ],
      "source": [
        "val_split = 2500\n",
        "test_split = 2500\n",
        "train_split = 7500\n",
        "\n",
        "# Separating negatives and positives samples for manual stratification\n",
        "x_positives, y_positives = reviews[labels == 1], labels[labels == 1]\n",
        "x_negatives, y_negatives = reviews[labels == 0], labels[labels == 0]\n",
        "\n",
        "# creating training validation and testing splits\n",
        "x_val, y_val = (\n",
        "    tf.concat((x_positives[:val_split], x_negatives[:val_split]), 0),\n",
        "    tf.concat((y_positives[:val_split], y_negatives[:val_split]), 0)\n",
        ")\n",
        "\n",
        "x_test, y_test = (\n",
        "    tf.concat(\n",
        "        (\n",
        "            x_positives[val_split : val_split + test_split],\n",
        "            x_negatives[val_split : val_split + test_split],\n",
        "        ),\n",
        "        0,\n",
        "    ),\n",
        "    tf.concat(\n",
        "        (\n",
        "            y_positives[val_split : val_split + test_split],\n",
        "            y_negatives[val_split : val_split + test_split],\n",
        "        ),\n",
        "        0,\n",
        "    )\n",
        ")\n",
        "\n",
        "x_train, y_train = (\n",
        "    tf.concat(\n",
        "        (\n",
        "            x_positives[val_split + test_split : val_split + test_split + train_split],\n",
        "            x_negatives[val_split + test_split : val_split + test_split + train_split],\n",
        "        ),\n",
        "        0,\n",
        "    ),\n",
        "    tf.concat(\n",
        "        (\n",
        "            y_positives[val_split + test_split : val_split + test_split + train_split],\n",
        "            y_negatives[val_split + test_split : val_split + test_split + train_split],\n",
        "        ),\n",
        "        0,\n",
        "    ),\n",
        ")\n",
        "\n",
        "# Remaining pool of samples are stored separately. These are only labeled as and when required\n",
        "x_pool_positives, y_pool_positives = (\n",
        "    x_positives[val_split + test_split + train_split :],\n",
        "    y_positives[val_split + test_split + train_split :],\n",
        ")\n",
        "x_pool_negatives, y_pool_negatives = (\n",
        "    x_negatives[val_split + test_split + train_split :],\n",
        "    y_negatives[val_split + test_split + train_split :],\n",
        ")\n",
        "\n",
        "# Creating TF Datasets for faster prefetching and parallelization\n",
        "train_dataset = tf.data.Dataset.from_tensor_slices((x_train, y_train))\n",
        "val_dataset = tf.data.Dataset.from_tensor_slices((x_val, y_val))\n",
        "test_dataset = tf.data.Dataset.from_tensor_slices((x_test, y_test))\n",
        "\n",
        "pool_negatives = tf.data.Dataset.from_tensor_slices(\n",
        "    (x_pool_negatives, y_pool_negatives)\n",
        ")\n",
        "pool_positives = tf.data.Dataset.from_tensor_slices(\n",
        "    (x_pool_positives, y_pool_positives)\n",
        ")\n",
        "\n",
        "print(f\"Initial training set size: {len(train_dataset)}\")\n",
        "print(f\"Validation set size: {len(val_dataset)}\")\n",
        "print(f\"Testing set size: {len(test_dataset)}\")\n",
        "print(f\"Unlabeled negative pool: {len(pool_negatives)}\")\n",
        "print(f\"Unlabeled positive pool: {len(pool_positives)}\")"
      ]
    },
    {
      "cell_type": "markdown",
      "metadata": {
        "id": "XYh6oRLbO9S5"
      },
      "source": [
        "## Fitting the TextVectorization layer"
      ]
    },
    {
      "cell_type": "code",
      "execution_count": null,
      "metadata": {
        "id": "4N1lq1JnLaPy"
      },
      "outputs": [],
      "source": [
        "\n",
        "def custom_standardization(input_data):\n",
        "    lowercase = tf.strings.lower(input_data)\n",
        "    stripped_html = tf.strings.regex_replace(lowercase, \"<br />\", \" \")\n",
        "    return tf.strings.regex_replace(\n",
        "        stripped_html, f\"[{re.escape(string.punctuation)}]\", \"\"\n",
        "    )\n",
        "\n",
        "\n",
        "vectorizer = layers.TextVectorization(\n",
        "    3000, standardize=custom_standardization, output_sequence_length=150\n",
        ")\n",
        "# Adapting the dataset\n",
        "vectorizer.adapt(\n",
        "    train_dataset.map(lambda x, y: x, num_parallel_calls=tf.data.AUTOTUNE).batch(256)\n",
        ")\n",
        "\n",
        "\n",
        "def vectorize_text(text, label):\n",
        "    text = vectorizer(text)\n",
        "    return text, label\n",
        "\n",
        "\n",
        "train_dataset = train_dataset.map(\n",
        "    vectorize_text, num_parallel_calls=tf.data.AUTOTUNE\n",
        ").prefetch(tf.data.AUTOTUNE)\n",
        "pool_negatives = pool_negatives.map(vectorize_text, num_parallel_calls=tf.data.AUTOTUNE)\n",
        "pool_positives = pool_positives.map(vectorize_text, num_parallel_calls=tf.data.AUTOTUNE)\n",
        "\n",
        "val_dataset = val_dataset.batch(256).map(\n",
        "    vectorize_text, num_parallel_calls=tf.data.AUTOTUNE\n",
        ")\n",
        "test_dataset = test_dataset.batch(256).map(\n",
        "    vectorize_text, num_parallel_calls=tf.data.AUTOTUNE\n",
        ")"
      ]
    },
    {
      "cell_type": "markdown",
      "metadata": {
        "id": "lz3KAVRWPTYN"
      },
      "source": [
        "## Creating Helper Function"
      ]
    },
    {
      "cell_type": "code",
      "execution_count": null,
      "metadata": {
        "id": "9Q6ejT14PaZR"
      },
      "outputs": [],
      "source": [
        "# Helper function for merging new history objects with older ones\n",
        "def append_history(losses, val_losses, accuracy, val_accuracy, history):\n",
        "    losses = losses + history.history[\"loss\"]\n",
        "    val_losses = val_losses + history.history[\"val_loss\"]\n",
        "    accuracy = accuracy + history.history[\"binary_accuracy\"]\n",
        "    val_accuracy = val_accuracy + history.history[\"val_binary_accuracy\"]\n",
        "    return losses, val_losses, accuracy, val_accuracy\n",
        "\n",
        "\n",
        "# Plotter function\n",
        "def plot_history(losses, val_losses, accuracies, val_accuracies):\n",
        "    plt.plot(losses)\n",
        "    plt.plot(val_losses)\n",
        "    plt.legend([\"train_loss\", \"val_loss\"])\n",
        "    plt.xlabel(\"Epochs\")\n",
        "    plt.ylabel(\"Loss\")\n",
        "    plt.show()\n",
        "\n",
        "    plt.plot(accuracies)\n",
        "    plt.plot(val_accuracies)\n",
        "    plt.legend([\"train_accuracy\", \"val_accuracy\"])\n",
        "    plt.xlabel(\"Epochs\")\n",
        "    plt.ylabel(\"Accuracy\")\n",
        "    plt.show()\n"
      ]
    },
    {
      "cell_type": "markdown",
      "metadata": {
        "id": "QRAkjbMJPruj"
      },
      "source": [
        "## Creating the Model"
      ]
    },
    {
      "cell_type": "code",
      "execution_count": null,
      "metadata": {
        "id": "CDyPk15LPrba"
      },
      "outputs": [],
      "source": [
        "\n",
        "def create_model():\n",
        "    model = keras.models.Sequential(\n",
        "        [\n",
        "            layers.Input(shape=(150,)),\n",
        "            layers.Embedding(input_dim=3000, output_dim=128),\n",
        "            layers.Bidirectional(layers.LSTM(32, return_sequences=True)),\n",
        "            layers.GlobalMaxPool1D(),\n",
        "            layers.Dense(20, activation=\"relu\"),\n",
        "            layers.Dropout(0.5),\n",
        "            layers.Dense(1, activation=\"sigmoid\"),\n",
        "        ]\n",
        "    )\n",
        "    model.summary()\n",
        "    return model\n"
      ]
    },
    {
      "cell_type": "markdown",
      "metadata": {
        "id": "H7GPWQfJP1WQ"
      },
      "source": [
        "## Training on te entire dataset"
      ]
    },
    {
      "cell_type": "code",
      "execution_count": null,
      "metadata": {
        "colab": {
          "base_uri": "https://localhost:8080/",
          "height": 1000
        },
        "id": "UG9D5DfrP3WC",
        "outputId": "33c32597-ee22-485d-ab69-fba412b27c0d"
      },
      "outputs": [
        {
          "output_type": "display_data",
          "data": {
            "text/plain": [
              "\u001b[1mModel: \"sequential\"\u001b[0m\n"
            ],
            "text/html": [
              "<pre style=\"white-space:pre;overflow-x:auto;line-height:normal;font-family:Menlo,'DejaVu Sans Mono',consolas,'Courier New',monospace\"><span style=\"font-weight: bold\">Model: \"sequential\"</span>\n",
              "</pre>\n"
            ]
          },
          "metadata": {}
        },
        {
          "output_type": "display_data",
          "data": {
            "text/plain": [
              "┏━━━━━━━━━━━━━━━━━━━━━━━━━━━━━━━━━┳━━━━━━━━━━━━━━━━━━━━━━━━┳━━━━━━━━━━━━━━━┓\n",
              "┃\u001b[1m \u001b[0m\u001b[1mLayer (type)                   \u001b[0m\u001b[1m \u001b[0m┃\u001b[1m \u001b[0m\u001b[1mOutput Shape          \u001b[0m\u001b[1m \u001b[0m┃\u001b[1m \u001b[0m\u001b[1m      Param #\u001b[0m\u001b[1m \u001b[0m┃\n",
              "┡━━━━━━━━━━━━━━━━━━━━━━━━━━━━━━━━━╇━━━━━━━━━━━━━━━━━━━━━━━━╇━━━━━━━━━━━━━━━┩\n",
              "│ embedding (\u001b[38;5;33mEmbedding\u001b[0m)           │ (\u001b[38;5;45mNone\u001b[0m, \u001b[38;5;34m150\u001b[0m, \u001b[38;5;34m128\u001b[0m)       │       \u001b[38;5;34m384,000\u001b[0m │\n",
              "├─────────────────────────────────┼────────────────────────┼───────────────┤\n",
              "│ bidirectional (\u001b[38;5;33mBidirectional\u001b[0m)   │ (\u001b[38;5;45mNone\u001b[0m, \u001b[38;5;34m150\u001b[0m, \u001b[38;5;34m64\u001b[0m)        │        \u001b[38;5;34m41,216\u001b[0m │\n",
              "├─────────────────────────────────┼────────────────────────┼───────────────┤\n",
              "│ global_max_pooling1d            │ (\u001b[38;5;45mNone\u001b[0m, \u001b[38;5;34m64\u001b[0m)             │             \u001b[38;5;34m0\u001b[0m │\n",
              "│ (\u001b[38;5;33mGlobalMaxPooling1D\u001b[0m)            │                        │               │\n",
              "├─────────────────────────────────┼────────────────────────┼───────────────┤\n",
              "│ dense (\u001b[38;5;33mDense\u001b[0m)                   │ (\u001b[38;5;45mNone\u001b[0m, \u001b[38;5;34m20\u001b[0m)             │         \u001b[38;5;34m1,300\u001b[0m │\n",
              "├─────────────────────────────────┼────────────────────────┼───────────────┤\n",
              "│ dropout (\u001b[38;5;33mDropout\u001b[0m)               │ (\u001b[38;5;45mNone\u001b[0m, \u001b[38;5;34m20\u001b[0m)             │             \u001b[38;5;34m0\u001b[0m │\n",
              "├─────────────────────────────────┼────────────────────────┼───────────────┤\n",
              "│ dense_1 (\u001b[38;5;33mDense\u001b[0m)                 │ (\u001b[38;5;45mNone\u001b[0m, \u001b[38;5;34m1\u001b[0m)              │            \u001b[38;5;34m21\u001b[0m │\n",
              "└─────────────────────────────────┴────────────────────────┴───────────────┘\n"
            ],
            "text/html": [
              "<pre style=\"white-space:pre;overflow-x:auto;line-height:normal;font-family:Menlo,'DejaVu Sans Mono',consolas,'Courier New',monospace\">┏━━━━━━━━━━━━━━━━━━━━━━━━━━━━━━━━━┳━━━━━━━━━━━━━━━━━━━━━━━━┳━━━━━━━━━━━━━━━┓\n",
              "┃<span style=\"font-weight: bold\"> Layer (type)                    </span>┃<span style=\"font-weight: bold\"> Output Shape           </span>┃<span style=\"font-weight: bold\">       Param # </span>┃\n",
              "┡━━━━━━━━━━━━━━━━━━━━━━━━━━━━━━━━━╇━━━━━━━━━━━━━━━━━━━━━━━━╇━━━━━━━━━━━━━━━┩\n",
              "│ embedding (<span style=\"color: #0087ff; text-decoration-color: #0087ff\">Embedding</span>)           │ (<span style=\"color: #00d7ff; text-decoration-color: #00d7ff\">None</span>, <span style=\"color: #00af00; text-decoration-color: #00af00\">150</span>, <span style=\"color: #00af00; text-decoration-color: #00af00\">128</span>)       │       <span style=\"color: #00af00; text-decoration-color: #00af00\">384,000</span> │\n",
              "├─────────────────────────────────┼────────────────────────┼───────────────┤\n",
              "│ bidirectional (<span style=\"color: #0087ff; text-decoration-color: #0087ff\">Bidirectional</span>)   │ (<span style=\"color: #00d7ff; text-decoration-color: #00d7ff\">None</span>, <span style=\"color: #00af00; text-decoration-color: #00af00\">150</span>, <span style=\"color: #00af00; text-decoration-color: #00af00\">64</span>)        │        <span style=\"color: #00af00; text-decoration-color: #00af00\">41,216</span> │\n",
              "├─────────────────────────────────┼────────────────────────┼───────────────┤\n",
              "│ global_max_pooling1d            │ (<span style=\"color: #00d7ff; text-decoration-color: #00d7ff\">None</span>, <span style=\"color: #00af00; text-decoration-color: #00af00\">64</span>)             │             <span style=\"color: #00af00; text-decoration-color: #00af00\">0</span> │\n",
              "│ (<span style=\"color: #0087ff; text-decoration-color: #0087ff\">GlobalMaxPooling1D</span>)            │                        │               │\n",
              "├─────────────────────────────────┼────────────────────────┼───────────────┤\n",
              "│ dense (<span style=\"color: #0087ff; text-decoration-color: #0087ff\">Dense</span>)                   │ (<span style=\"color: #00d7ff; text-decoration-color: #00d7ff\">None</span>, <span style=\"color: #00af00; text-decoration-color: #00af00\">20</span>)             │         <span style=\"color: #00af00; text-decoration-color: #00af00\">1,300</span> │\n",
              "├─────────────────────────────────┼────────────────────────┼───────────────┤\n",
              "│ dropout (<span style=\"color: #0087ff; text-decoration-color: #0087ff\">Dropout</span>)               │ (<span style=\"color: #00d7ff; text-decoration-color: #00d7ff\">None</span>, <span style=\"color: #00af00; text-decoration-color: #00af00\">20</span>)             │             <span style=\"color: #00af00; text-decoration-color: #00af00\">0</span> │\n",
              "├─────────────────────────────────┼────────────────────────┼───────────────┤\n",
              "│ dense_1 (<span style=\"color: #0087ff; text-decoration-color: #0087ff\">Dense</span>)                 │ (<span style=\"color: #00d7ff; text-decoration-color: #00d7ff\">None</span>, <span style=\"color: #00af00; text-decoration-color: #00af00\">1</span>)              │            <span style=\"color: #00af00; text-decoration-color: #00af00\">21</span> │\n",
              "└─────────────────────────────────┴────────────────────────┴───────────────┘\n",
              "</pre>\n"
            ]
          },
          "metadata": {}
        },
        {
          "output_type": "display_data",
          "data": {
            "text/plain": [
              "\u001b[1m Total params: \u001b[0m\u001b[38;5;34m426,537\u001b[0m (1.63 MB)\n"
            ],
            "text/html": [
              "<pre style=\"white-space:pre;overflow-x:auto;line-height:normal;font-family:Menlo,'DejaVu Sans Mono',consolas,'Courier New',monospace\"><span style=\"font-weight: bold\"> Total params: </span><span style=\"color: #00af00; text-decoration-color: #00af00\">426,537</span> (1.63 MB)\n",
              "</pre>\n"
            ]
          },
          "metadata": {}
        },
        {
          "output_type": "display_data",
          "data": {
            "text/plain": [
              "\u001b[1m Trainable params: \u001b[0m\u001b[38;5;34m426,537\u001b[0m (1.63 MB)\n"
            ],
            "text/html": [
              "<pre style=\"white-space:pre;overflow-x:auto;line-height:normal;font-family:Menlo,'DejaVu Sans Mono',consolas,'Courier New',monospace\"><span style=\"font-weight: bold\"> Trainable params: </span><span style=\"color: #00af00; text-decoration-color: #00af00\">426,537</span> (1.63 MB)\n",
              "</pre>\n"
            ]
          },
          "metadata": {}
        },
        {
          "output_type": "display_data",
          "data": {
            "text/plain": [
              "\u001b[1m Non-trainable params: \u001b[0m\u001b[38;5;34m0\u001b[0m (0.00 B)\n"
            ],
            "text/html": [
              "<pre style=\"white-space:pre;overflow-x:auto;line-height:normal;font-family:Menlo,'DejaVu Sans Mono',consolas,'Courier New',monospace\"><span style=\"font-weight: bold\"> Non-trainable params: </span><span style=\"color: #00af00; text-decoration-color: #00af00\">0</span> (0.00 B)\n",
              "</pre>\n"
            ]
          },
          "metadata": {}
        },
        {
          "output_type": "stream",
          "name": "stdout",
          "text": [
            "Epoch 1/20\n",
            "\u001b[1m156/157\u001b[0m \u001b[32m━━━━━━━━━━━━━━━━━━━\u001b[0m\u001b[37m━\u001b[0m \u001b[1m0s\u001b[0m 38ms/step - binary_accuracy: 0.6432 - false_negatives: 1891.4679 - false_positives: 5379.4165 - loss: 0.6505\n",
            "Epoch 1: val_loss improved from inf to 0.59158, saving model to FullModelCheckpoint.h5\n"
          ]
        },
        {
          "output_type": "stream",
          "name": "stderr",
          "text": [
            "WARNING:absl:You are saving your model as an HDF5 file via `model.save()` or `keras.saving.save_model(model)`. This file format is considered legacy. We recommend using instead the native Keras format, e.g. `model.save('my_model.keras')` or `keras.saving.save_model(model, 'my_model.keras')`. \n"
          ]
        },
        {
          "output_type": "stream",
          "name": "stdout",
          "text": [
            "\b\b\b\b\b\b\b\b\b\b\b\b\b\b\b\b\b\b\b\b\b\b\b\b\b\b\b\b\b\b\b\b\b\b\b\b\b\b\b\b\b\b\b\b\b\b\b\b\b\b\b\b\b\b\b\b\b\b\b\b\b\b\b\b\b\b\b\b\b\b\b\b\b\b\b\b\b\b\b\b\b\b\b\b\b\b\b\b\b\b\b\b\b\b\b\b\b\b\b\b\b\b\b\b\b\b\b\b\b\b\b\b\b\b\b\b\b\b\b\b\b\b\b\b\b\b\b\b\b\b\b\b\b\b\b\b\b\b\b\b\r\u001b[1m157/157\u001b[0m \u001b[32m━━━━━━━━━━━━━━━━━━━━\u001b[0m\u001b[37m\u001b[0m \u001b[1m15s\u001b[0m 43ms/step - binary_accuracy: 0.6432 - false_negatives: 1937.0570 - false_positives: 5423.9556 - loss: 0.6504 - val_binary_accuracy: 0.7230 - val_false_negatives: 518.0000 - val_false_positives: 867.0000 - val_loss: 0.5916\n",
            "Epoch 2/20\n",
            "\u001b[1m157/157\u001b[0m \u001b[32m━━━━━━━━━━━━━━━━━━━━\u001b[0m\u001b[37m\u001b[0m \u001b[1m0s\u001b[0m 20ms/step - binary_accuracy: 0.7551 - false_negatives: 1810.9172 - false_positives: 3098.8916 - loss: 0.5389\n",
            "Epoch 2: val_loss improved from 0.59158 to 0.45709, saving model to FullModelCheckpoint.h5\n"
          ]
        },
        {
          "output_type": "stream",
          "name": "stderr",
          "text": [
            "WARNING:absl:You are saving your model as an HDF5 file via `model.save()` or `keras.saving.save_model(model)`. This file format is considered legacy. We recommend using instead the native Keras format, e.g. `model.save('my_model.keras')` or `keras.saving.save_model(model, 'my_model.keras')`. \n"
          ]
        },
        {
          "output_type": "stream",
          "name": "stdout",
          "text": [
            "\b\b\b\b\b\b\b\b\b\b\b\b\b\b\b\b\b\b\b\b\b\b\b\b\b\b\b\b\b\b\b\b\b\b\b\b\b\b\b\b\b\b\b\b\b\b\b\b\b\b\b\b\b\b\b\b\b\b\b\b\b\b\b\b\b\b\b\b\b\b\b\b\b\b\b\b\b\b\b\b\b\b\b\b\b\b\b\b\b\b\b\b\b\b\b\b\b\b\b\b\b\b\b\b\b\b\b\b\b\b\b\b\b\b\b\b\b\b\b\b\b\b\b\b\b\b\b\b\b\b\b\b\b\b\b\b\b\b\b\b\r\u001b[1m157/157\u001b[0m \u001b[32m━━━━━━━━━━━━━━━━━━━━\u001b[0m\u001b[37m\u001b[0m \u001b[1m3s\u001b[0m 22ms/step - binary_accuracy: 0.7551 - false_negatives: 1824.5950 - false_positives: 3114.6899 - loss: 0.5388 - val_binary_accuracy: 0.8018 - val_false_negatives: 699.0000 - val_false_positives: 292.0000 - val_loss: 0.4571\n",
            "Epoch 3/20\n",
            "\u001b[1m155/157\u001b[0m \u001b[32m━━━━━━━━━━━━━━━━━━━\u001b[0m\u001b[37m━\u001b[0m \u001b[1m0s\u001b[0m 22ms/step - binary_accuracy: 0.8147 - false_negatives: 1535.2451 - false_positives: 2187.7419 - loss: 0.4381\n",
            "Epoch 3: val_loss improved from 0.45709 to 0.36877, saving model to FullModelCheckpoint.h5\n"
          ]
        },
        {
          "output_type": "stream",
          "name": "stderr",
          "text": [
            "WARNING:absl:You are saving your model as an HDF5 file via `model.save()` or `keras.saving.save_model(model)`. This file format is considered legacy. We recommend using instead the native Keras format, e.g. `model.save('my_model.keras')` or `keras.saving.save_model(model, 'my_model.keras')`. \n"
          ]
        },
        {
          "output_type": "stream",
          "name": "stdout",
          "text": [
            "\b\b\b\b\b\b\b\b\b\b\b\b\b\b\b\b\b\b\b\b\b\b\b\b\b\b\b\b\b\b\b\b\b\b\b\b\b\b\b\b\b\b\b\b\b\b\b\b\b\b\b\b\b\b\b\b\b\b\b\b\b\b\b\b\b\b\b\b\b\b\b\b\b\b\b\b\b\b\b\b\b\b\b\b\b\b\b\b\b\b\b\b\b\b\b\b\b\b\b\b\b\b\b\b\b\b\b\b\b\b\b\b\b\b\b\b\b\b\b\b\b\b\b\b\b\b\b\b\b\b\b\b\b\b\b\b\b\b\b\b\r\u001b[1m157/157\u001b[0m \u001b[32m━━━━━━━━━━━━━━━━━━━━\u001b[0m\u001b[37m\u001b[0m \u001b[1m4s\u001b[0m 27ms/step - binary_accuracy: 0.8147 - false_negatives: 1569.0063 - false_positives: 2223.5759 - loss: 0.4380 - val_binary_accuracy: 0.8384 - val_false_negatives: 421.0000 - val_false_positives: 387.0000 - val_loss: 0.3688\n",
            "Epoch 4/20\n",
            "\u001b[1m156/157\u001b[0m \u001b[32m━━━━━━━━━━━━━━━━━━━\u001b[0m\u001b[37m━\u001b[0m \u001b[1m0s\u001b[0m 20ms/step - binary_accuracy: 0.8409 - false_negatives: 1413.6410 - false_positives: 1804.1346 - loss: 0.3875\n",
            "Epoch 4: val_loss did not improve from 0.36877\n",
            "\u001b[1m157/157\u001b[0m \u001b[32m━━━━━━━━━━━━━━━━━━━━\u001b[0m\u001b[37m\u001b[0m \u001b[1m4s\u001b[0m 22ms/step - binary_accuracy: 0.8408 - false_negatives: 1434.2405 - false_positives: 1824.3102 - loss: 0.3875 - val_binary_accuracy: 0.8250 - val_false_negatives: 694.0000 - val_false_positives: 181.0000 - val_loss: 0.3907\n",
            "Epoch 5/20\n",
            "\u001b[1m157/157\u001b[0m \u001b[32m━━━━━━━━━━━━━━━━━━━━\u001b[0m\u001b[37m\u001b[0m \u001b[1m0s\u001b[0m 20ms/step - binary_accuracy: 0.8601 - false_negatives: 1290.0574 - false_positives: 1576.1720 - loss: 0.3469\n",
            "Epoch 5: val_loss improved from 0.36877 to 0.35910, saving model to FullModelCheckpoint.h5\n"
          ]
        },
        {
          "output_type": "stream",
          "name": "stderr",
          "text": [
            "WARNING:absl:You are saving your model as an HDF5 file via `model.save()` or `keras.saving.save_model(model)`. This file format is considered legacy. We recommend using instead the native Keras format, e.g. `model.save('my_model.keras')` or `keras.saving.save_model(model, 'my_model.keras')`. \n"
          ]
        },
        {
          "output_type": "stream",
          "name": "stdout",
          "text": [
            "\b\b\b\b\b\b\b\b\b\b\b\b\b\b\b\b\b\b\b\b\b\b\b\b\b\b\b\b\b\b\b\b\b\b\b\b\b\b\b\b\b\b\b\b\b\b\b\b\b\b\b\b\b\b\b\b\b\b\b\b\b\b\b\b\b\b\b\b\b\b\b\b\b\b\b\b\b\b\b\b\b\b\b\b\b\b\b\b\b\b\b\b\b\b\b\b\b\b\b\b\b\b\b\b\b\b\b\b\b\b\b\b\b\b\b\b\b\b\b\b\b\b\b\b\b\b\b\b\b\b\b\b\b\b\b\b\b\b\b\b\r\u001b[1m157/157\u001b[0m \u001b[32m━━━━━━━━━━━━━━━━━━━━\u001b[0m\u001b[37m\u001b[0m \u001b[1m3s\u001b[0m 22ms/step - binary_accuracy: 0.8601 - false_negatives: 1299.6772 - false_positives: 1585.3102 - loss: 0.3470 - val_binary_accuracy: 0.8372 - val_false_negatives: 607.0000 - val_false_positives: 207.0000 - val_loss: 0.3591\n",
            "Epoch 6/20\n",
            "\u001b[1m155/157\u001b[0m \u001b[32m━━━━━━━━━━━━━━━━━━━\u001b[0m\u001b[37m━\u001b[0m \u001b[1m0s\u001b[0m 23ms/step - binary_accuracy: 0.8629 - false_negatives: 1245.5807 - false_positives: 1499.3226 - loss: 0.3350\n",
            "Epoch 6: val_loss improved from 0.35910 to 0.35268, saving model to FullModelCheckpoint.h5\n"
          ]
        },
        {
          "output_type": "stream",
          "name": "stderr",
          "text": [
            "WARNING:absl:You are saving your model as an HDF5 file via `model.save()` or `keras.saving.save_model(model)`. This file format is considered legacy. We recommend using instead the native Keras format, e.g. `model.save('my_model.keras')` or `keras.saving.save_model(model, 'my_model.keras')`. \n"
          ]
        },
        {
          "output_type": "stream",
          "name": "stdout",
          "text": [
            "\b\b\b\b\b\b\b\b\b\b\b\b\b\b\b\b\b\b\b\b\b\b\b\b\b\b\b\b\b\b\b\b\b\b\b\b\b\b\b\b\b\b\b\b\b\b\b\b\b\b\b\b\b\b\b\b\b\b\b\b\b\b\b\b\b\b\b\b\b\b\b\b\b\b\b\b\b\b\b\b\b\b\b\b\b\b\b\b\b\b\b\b\b\b\b\b\b\b\b\b\b\b\b\b\b\b\b\b\b\b\b\b\b\b\b\b\b\b\b\b\b\b\b\b\b\b\b\b\b\b\b\b\b\b\b\b\b\b\b\b\r\u001b[1m157/157\u001b[0m \u001b[32m━━━━━━━━━━━━━━━━━━━━\u001b[0m\u001b[37m\u001b[0m \u001b[1m6s\u001b[0m 25ms/step - binary_accuracy: 0.8629 - false_negatives: 1271.8418 - false_positives: 1525.1013 - loss: 0.3351 - val_binary_accuracy: 0.8506 - val_false_negatives: 513.0000 - val_false_positives: 234.0000 - val_loss: 0.3527\n",
            "Epoch 7/20\n",
            "\u001b[1m157/157\u001b[0m \u001b[32m━━━━━━━━━━━━━━━━━━━━\u001b[0m\u001b[37m\u001b[0m \u001b[1m0s\u001b[0m 20ms/step - binary_accuracy: 0.8783 - false_negatives: 1142.0891 - false_positives: 1374.3630 - loss: 0.3119\n",
            "Epoch 7: val_loss improved from 0.35268 to 0.35097, saving model to FullModelCheckpoint.h5\n"
          ]
        },
        {
          "output_type": "stream",
          "name": "stderr",
          "text": [
            "WARNING:absl:You are saving your model as an HDF5 file via `model.save()` or `keras.saving.save_model(model)`. This file format is considered legacy. We recommend using instead the native Keras format, e.g. `model.save('my_model.keras')` or `keras.saving.save_model(model, 'my_model.keras')`. \n"
          ]
        },
        {
          "output_type": "stream",
          "name": "stdout",
          "text": [
            "\b\b\b\b\b\b\b\b\b\b\b\b\b\b\b\b\b\b\b\b\b\b\b\b\b\b\b\b\b\b\b\b\b\b\b\b\b\b\b\b\b\b\b\b\b\b\b\b\b\b\b\b\b\b\b\b\b\b\b\b\b\b\b\b\b\b\b\b\b\b\b\b\b\b\b\b\b\b\b\b\b\b\b\b\b\b\b\b\b\b\b\b\b\b\b\b\b\b\b\b\b\b\b\b\b\b\b\b\b\b\b\b\b\b\b\b\b\b\b\b\b\b\b\b\b\b\b\b\b\b\b\b\b\b\b\b\b\b\b\b\r\u001b[1m157/157\u001b[0m \u001b[32m━━━━━━━━━━━━━━━━━━━━\u001b[0m\u001b[37m\u001b[0m \u001b[1m5s\u001b[0m 22ms/step - binary_accuracy: 0.8783 - false_negatives: 1150.3671 - false_positives: 1382.8734 - loss: 0.3119 - val_binary_accuracy: 0.8418 - val_false_negatives: 179.0000 - val_false_positives: 612.0000 - val_loss: 0.3510\n",
            "Epoch 8/20\n",
            "\u001b[1m157/157\u001b[0m \u001b[32m━━━━━━━━━━━━━━━━━━━━\u001b[0m\u001b[37m\u001b[0m \u001b[1m0s\u001b[0m 20ms/step - binary_accuracy: 0.8836 - false_negatives: 1088.3058 - false_positives: 1331.4523 - loss: 0.2990\n",
            "Epoch 8: val_loss did not improve from 0.35097\n",
            "\u001b[1m157/157\u001b[0m \u001b[32m━━━━━━━━━━━━━━━━━━━━\u001b[0m\u001b[37m\u001b[0m \u001b[1m4s\u001b[0m 22ms/step - binary_accuracy: 0.8835 - false_negatives: 1096.2911 - false_positives: 1339.3861 - loss: 0.2991 - val_binary_accuracy: 0.8410 - val_false_negatives: 606.0000 - val_false_positives: 189.0000 - val_loss: 0.3575\n",
            "Epoch 9/20\n",
            "\u001b[1m156/157\u001b[0m \u001b[32m━━━━━━━━━━━━━━━━━━━\u001b[0m\u001b[37m━\u001b[0m \u001b[1m0s\u001b[0m 25ms/step - binary_accuracy: 0.8841 - false_negatives: 1033.2885 - false_positives: 1297.1859 - loss: 0.2950\n",
            "Epoch 9: val_loss improved from 0.35097 to 0.32282, saving model to FullModelCheckpoint.h5\n"
          ]
        },
        {
          "output_type": "stream",
          "name": "stderr",
          "text": [
            "WARNING:absl:You are saving your model as an HDF5 file via `model.save()` or `keras.saving.save_model(model)`. This file format is considered legacy. We recommend using instead the native Keras format, e.g. `model.save('my_model.keras')` or `keras.saving.save_model(model, 'my_model.keras')`. \n"
          ]
        },
        {
          "output_type": "stream",
          "name": "stdout",
          "text": [
            "\b\b\b\b\b\b\b\b\b\b\b\b\b\b\b\b\b\b\b\b\b\b\b\b\b\b\b\b\b\b\b\b\b\b\b\b\b\b\b\b\b\b\b\b\b\b\b\b\b\b\b\b\b\b\b\b\b\b\b\b\b\b\b\b\b\b\b\b\b\b\b\b\b\b\b\b\b\b\b\b\b\b\b\b\b\b\b\b\b\b\b\b\b\b\b\b\b\b\b\b\b\b\b\b\b\b\b\b\b\b\b\b\b\b\b\b\b\b\b\b\b\b\b\b\b\b\b\b\b\b\b\b\b\b\b\b\b\b\b\b\r\u001b[1m157/157\u001b[0m \u001b[32m━━━━━━━━━━━━━━━━━━━━\u001b[0m\u001b[37m\u001b[0m \u001b[1m4s\u001b[0m 28ms/step - binary_accuracy: 0.8841 - false_negatives: 1047.8038 - false_positives: 1312.1202 - loss: 0.2950 - val_binary_accuracy: 0.8562 - val_false_negatives: 281.0000 - val_false_positives: 438.0000 - val_loss: 0.3228\n",
            "Epoch 10/20\n",
            "\u001b[1m156/157\u001b[0m \u001b[32m━━━━━━━━━━━━━━━━━━━\u001b[0m\u001b[37m━\u001b[0m \u001b[1m0s\u001b[0m 20ms/step - binary_accuracy: 0.8884 - false_negatives: 996.8782 - false_positives: 1233.0834 - loss: 0.2868\n",
            "Epoch 10: val_loss did not improve from 0.32282\n",
            "\u001b[1m157/157\u001b[0m \u001b[32m━━━━━━━━━━━━━━━━━━━━\u001b[0m\u001b[37m\u001b[0m \u001b[1m4s\u001b[0m 22ms/step - binary_accuracy: 0.8884 - false_negatives: 1010.7278 - false_positives: 1247.5886 - loss: 0.2869 - val_binary_accuracy: 0.8564 - val_false_negatives: 227.0000 - val_false_positives: 491.0000 - val_loss: 0.3348\n",
            "Epoch 11/20\n",
            "\u001b[1m155/157\u001b[0m \u001b[32m━━━━━━━━━━━━━━━━━━━\u001b[0m\u001b[37m━\u001b[0m \u001b[1m0s\u001b[0m 21ms/step - binary_accuracy: 0.9012 - false_negatives: 940.7806 - false_positives: 1104.3162 - loss: 0.2623\n",
            "Epoch 11: val_loss improved from 0.32282 to 0.32224, saving model to FullModelCheckpoint.h5\n"
          ]
        },
        {
          "output_type": "stream",
          "name": "stderr",
          "text": [
            "WARNING:absl:You are saving your model as an HDF5 file via `model.save()` or `keras.saving.save_model(model)`. This file format is considered legacy. We recommend using instead the native Keras format, e.g. `model.save('my_model.keras')` or `keras.saving.save_model(model, 'my_model.keras')`. \n"
          ]
        },
        {
          "output_type": "stream",
          "name": "stdout",
          "text": [
            "\b\b\b\b\b\b\b\b\b\b\b\b\b\b\b\b\b\b\b\b\b\b\b\b\b\b\b\b\b\b\b\b\b\b\b\b\b\b\b\b\b\b\b\b\b\b\b\b\b\b\b\b\b\b\b\b\b\b\b\b\b\b\b\b\b\b\b\b\b\b\b\b\b\b\b\b\b\b\b\b\b\b\b\b\b\b\b\b\b\b\b\b\b\b\b\b\b\b\b\b\b\b\b\b\b\b\b\b\b\b\b\b\b\b\b\b\b\b\b\b\b\b\b\b\b\b\b\b\b\b\b\b\b\b\b\b\b\b\b\r\u001b[1m157/157\u001b[0m \u001b[32m━━━━━━━━━━━━━━━━━━━━\u001b[0m\u001b[37m\u001b[0m \u001b[1m6s\u001b[0m 26ms/step - binary_accuracy: 0.9011 - false_negatives: 962.0126 - false_positives: 1125.3354 - loss: 0.2625 - val_binary_accuracy: 0.8586 - val_false_negatives: 371.0000 - val_false_positives: 336.0000 - val_loss: 0.3222\n",
            "Epoch 12/20\n",
            "\u001b[1m156/157\u001b[0m \u001b[32m━━━━━━━━━━━━━━━━━━━\u001b[0m\u001b[37m━\u001b[0m \u001b[1m0s\u001b[0m 21ms/step - binary_accuracy: 0.9011 - false_negatives: 942.0449 - false_positives: 1075.2179 - loss: 0.2567\n",
            "Epoch 12: val_loss did not improve from 0.32224\n",
            "\u001b[1m157/157\u001b[0m \u001b[32m━━━━━━━━━━━━━━━━━━━━\u001b[0m\u001b[37m\u001b[0m \u001b[1m4s\u001b[0m 24ms/step - binary_accuracy: 0.9011 - false_negatives: 955.5507 - false_positives: 1088.2659 - loss: 0.2568 - val_binary_accuracy: 0.8524 - val_false_negatives: 488.0000 - val_false_positives: 250.0000 - val_loss: 0.3393\n",
            "Epoch 13/20\n",
            "\u001b[1m156/157\u001b[0m \u001b[32m━━━━━━━━━━━━━━━━━━━\u001b[0m\u001b[37m━\u001b[0m \u001b[1m0s\u001b[0m 22ms/step - binary_accuracy: 0.9090 - false_negatives: 882.8461 - false_positives: 1010.1218 - loss: 0.2444\n",
            "Epoch 13: val_loss did not improve from 0.32224\n",
            "\u001b[1m157/157\u001b[0m \u001b[32m━━━━━━━━━━━━━━━━━━━━\u001b[0m\u001b[37m\u001b[0m \u001b[1m4s\u001b[0m 24ms/step - binary_accuracy: 0.9089 - false_negatives: 895.6329 - false_positives: 1022.6392 - loss: 0.2445 - val_binary_accuracy: 0.8578 - val_false_negatives: 391.0000 - val_false_positives: 320.0000 - val_loss: 0.3300\n",
            "Epoch 14/20\n",
            "\u001b[1m156/157\u001b[0m \u001b[32m━━━━━━━━━━━━━━━━━━━\u001b[0m\u001b[37m━\u001b[0m \u001b[1m0s\u001b[0m 22ms/step - binary_accuracy: 0.9108 - false_negatives: 867.4423 - false_positives: 942.3525 - loss: 0.2337\n",
            "Epoch 14: val_loss did not improve from 0.32224\n",
            "\u001b[1m157/157\u001b[0m \u001b[32m━━━━━━━━━━━━━━━━━━━━\u001b[0m\u001b[37m\u001b[0m \u001b[1m5s\u001b[0m 25ms/step - binary_accuracy: 0.9108 - false_negatives: 880.2975 - false_positives: 954.0823 - loss: 0.2338 - val_binary_accuracy: 0.8290 - val_false_negatives: 697.0000 - val_false_positives: 158.0000 - val_loss: 0.4207\n",
            "Epoch 15/20\n",
            "\u001b[1m157/157\u001b[0m \u001b[32m━━━━━━━━━━━━━━━━━━━━\u001b[0m\u001b[37m\u001b[0m \u001b[1m0s\u001b[0m 20ms/step - binary_accuracy: 0.9152 - false_negatives: 814.8663 - false_positives: 906.9618 - loss: 0.2242\n",
            "Epoch 15: val_loss did not improve from 0.32224\n",
            "\u001b[1m157/157\u001b[0m \u001b[32m━━━━━━━━━━━━━━━━━━━━\u001b[0m\u001b[37m\u001b[0m \u001b[1m3s\u001b[0m 22ms/step - binary_accuracy: 0.9152 - false_negatives: 821.1202 - false_positives: 912.3924 - loss: 0.2242 - val_binary_accuracy: 0.8640 - val_false_negatives: 343.0000 - val_false_positives: 337.0000 - val_loss: 0.3409\n",
            "Epoch 15: early stopping\n"
          ]
        },
        {
          "output_type": "display_data",
          "data": {
            "text/plain": [
              "<Figure size 640x480 with 1 Axes>"
            ],
            "image/png": "[encoded data removed]"
          },
          "metadata": {}
        },
        {
          "output_type": "display_data",
          "data": {
            "text/plain": [
              "<Figure size 640x480 with 1 Axes>"
            ],
            "image/png": "[encoded data removed]"
          },
          "metadata": {}
        },
        {
          "output_type": "stream",
          "name": "stderr",
          "text": [
            "WARNING:absl:Compiled the loaded model, but the compiled metrics have yet to be built. `model.compile_metrics` will be empty until you train or evaluate the model.\n"
          ]
        },
        {
          "output_type": "stream",
          "name": "stdout",
          "text": [
            "----------------------------------------------------------------------------------------------------\n",
            "Test set evaluation:  {'binary_accuracy': 0.8586000204086304, 'false_negatives': 390.0, 'false_positives': 317.0, 'loss': 0.3296171724796295}\n",
            "----------------------------------------------------------------------------------------------------\n"
          ]
        }
      ],
      "source": [
        "\n",
        "def train_full_model(full_train_dataset, val_dataset, test_dataset):\n",
        "    model = create_model()\n",
        "    model.compile(\n",
        "        loss=\"binary_crossentropy\",\n",
        "        optimizer=\"rmsprop\",\n",
        "        metrics=[\n",
        "            keras.metrics.BinaryAccuracy(),\n",
        "            keras.metrics.FalseNegatives(),\n",
        "            keras.metrics.FalsePositives(),\n",
        "        ],\n",
        "    )\n",
        "\n",
        "    # We will save the best model at every epoch and load the best one for evaluation on the test set\n",
        "    history = model.fit(\n",
        "        full_train_dataset.batch(256),\n",
        "        epochs=20,\n",
        "        validation_data=val_dataset,\n",
        "        callbacks=[\n",
        "            keras.callbacks.EarlyStopping(patience=4, verbose=1),\n",
        "            keras.callbacks.ModelCheckpoint(\n",
        "                \"FullModelCheckpoint.h5\", verbose=1, save_best_only=True\n",
        "            ),\n",
        "        ],\n",
        "    )\n",
        "\n",
        "    # Plot history\n",
        "    plot_history(\n",
        "        history.history[\"loss\"],\n",
        "        history.history[\"val_loss\"],\n",
        "        history.history[\"binary_accuracy\"],\n",
        "        history.history[\"val_binary_accuracy\"],\n",
        "    )\n",
        "\n",
        "    # Loading the best checkpoint\n",
        "    model = keras.models.load_model(\"FullModelCheckpoint.h5\")\n",
        "\n",
        "    print(\"-\" * 100)\n",
        "    print(\n",
        "        \"Test set evaluation: \",\n",
        "        model.evaluate(test_dataset, verbose=0, return_dict=True),\n",
        "    )\n",
        "    print(\"-\" * 100)\n",
        "    return model\n",
        "\n",
        "\n",
        "# Sampling the full train dataset to train on\n",
        "full_train_dataset = (\n",
        "    train_dataset.concatenate(pool_positives)\n",
        "    .concatenate(pool_negatives)\n",
        "    .cache()\n",
        "    .shuffle(20000)\n",
        ")\n",
        "\n",
        "# Training the full model\n",
        "full_dataset_model = train_full_model(full_train_dataset, val_dataset, test_dataset)"
      ]
    },
    {
      "cell_type": "markdown",
      "source": [
        "# Tarning via Active Learning"
      ],
      "metadata": {
        "id": "e-pPKkkruvjZ"
      }
    },
    {
      "cell_type": "code",
      "source": [
        "\n",
        "def train_active_learning_models(\n",
        "    train_dataset,\n",
        "    pool_negatives,\n",
        "    pool_positives,\n",
        "    val_dataset,\n",
        "    test_dataset,\n",
        "    num_iterations=3,\n",
        "    sampling_size=5000,\n",
        "):\n",
        "\n",
        "    # Creating lists for storing metrics\n",
        "    losses, val_losses, accuracies, val_accuracies = [], [], [], []\n",
        "\n",
        "    model = create_model()\n",
        "    # We will monitor the false positives and false negatives predicted by our model\n",
        "    # These will decide the subsequent sampling ratio for every Active Learning loop\n",
        "    model.compile(\n",
        "        loss=\"binary_crossentropy\",\n",
        "        optimizer=\"rmsprop\",\n",
        "        metrics=[\n",
        "            keras.metrics.BinaryAccuracy(),\n",
        "            keras.metrics.FalseNegatives(),\n",
        "            keras.metrics.FalsePositives(),\n",
        "        ],\n",
        "    )\n",
        "\n",
        "    # Defining checkpoints.\n",
        "    # The checkpoint callback is reused throughout the training since it only saves the best overall model.\n",
        "    checkpoint = keras.callbacks.ModelCheckpoint(\n",
        "        \"AL_Model.h5\", save_best_only=True, verbose=1\n",
        "    )\n",
        "    # Here, patience is set to 4. This can be set higher if desired.\n",
        "    early_stopping = keras.callbacks.EarlyStopping(patience=4, verbose=1)\n",
        "\n",
        "    print(f\"Starting to train with {len(train_dataset)} samples\")\n",
        "    # Initial fit with a small subset of the training set\n",
        "    history = model.fit(\n",
        "        train_dataset.cache().shuffle(20000).batch(256),\n",
        "        epochs=20,\n",
        "        validation_data=val_dataset,\n",
        "        callbacks=[checkpoint, early_stopping],\n",
        "    )\n",
        "\n",
        "    # Appending history\n",
        "    losses, val_losses, accuracies, val_accuracies = append_history(\n",
        "        losses, val_losses, accuracies, val_accuracies, history\n",
        "    )\n",
        "\n",
        "    for iteration in range(num_iterations):\n",
        "        # Getting predictions from previously trained model\n",
        "        predictions = model.predict(test_dataset)\n",
        "\n",
        "        # Generating labels from the output probabilities\n",
        "        rounded = tf.where(tf.greater(predictions, 0.5), 1, 0)\n",
        "\n",
        "        # Evaluating the number of zeros and ones incorrrectly classified\n",
        "        _, _, false_negatives, false_positives = model.evaluate(test_dataset, verbose=0)\n",
        "\n",
        "        print(\"-\" * 100)\n",
        "        print(\n",
        "            f\"Number of zeros incorrectly classified: {false_negatives}, Number of ones incorrectly classified: {false_positives}\"\n",
        "        )\n",
        "\n",
        "        # This technique of Active Learning demonstrates ratio based sampling where\n",
        "        # Number of ones/zeros to sample = Number of ones/zeros incorrectly classified / Total incorrectly classified\n",
        "        if false_negatives != 0 and false_positives != 0:\n",
        "            total = false_negatives + false_positives\n",
        "            sample_ratio_ones, sample_ratio_zeros = (\n",
        "                false_positives / total,\n",
        "                false_negatives / total,\n",
        "            )\n",
        "        # In the case where all samples are correctly predicted, we can sample both classes equally\n",
        "        else:\n",
        "            sample_ratio_ones, sample_ratio_zeros = 0.5, 0.5\n",
        "\n",
        "        print(\n",
        "            f\"Sample ratio for positives: {sample_ratio_ones}, Sample ratio for negatives:{sample_ratio_zeros}\"\n",
        "        )\n",
        "\n",
        "        # Sample the required number of ones and zeros\n",
        "        sampled_dataset = pool_negatives.take(\n",
        "            int(sample_ratio_zeros * sampling_size)\n",
        "        ).concatenate(pool_positives.take(int(sample_ratio_ones * sampling_size)))\n",
        "\n",
        "        # Skip the sampled data points to avoid repetition of sample\n",
        "        pool_negatives = pool_negatives.skip(int(sample_ratio_zeros * sampling_size))\n",
        "        pool_positives = pool_positives.skip(int(sample_ratio_ones * sampling_size))\n",
        "\n",
        "        # Concatenating the train_dataset with the sampled_dataset\n",
        "        train_dataset = train_dataset.concatenate(sampled_dataset).prefetch(\n",
        "            tf.data.AUTOTUNE\n",
        "        )\n",
        "\n",
        "        print(f\"Starting training with {len(train_dataset)} samples\")\n",
        "        print(\"-\" * 100)\n",
        "\n",
        "        # We recompile the model to reset the optimizer states and retrain the model\n",
        "        model.compile(\n",
        "            loss=\"binary_crossentropy\",\n",
        "            optimizer=\"rmsprop\",\n",
        "            metrics=[\n",
        "                keras.metrics.BinaryAccuracy(),\n",
        "                keras.metrics.FalseNegatives(),\n",
        "                keras.metrics.FalsePositives(),\n",
        "            ],\n",
        "        )\n",
        "        history = model.fit(\n",
        "            train_dataset.cache().shuffle(20000).batch(256),\n",
        "            validation_data=val_dataset,\n",
        "            epochs=20,\n",
        "            callbacks=[\n",
        "                checkpoint,\n",
        "                keras.callbacks.EarlyStopping(patience=4, verbose=1),\n",
        "            ],\n",
        "        )\n",
        "\n",
        "        # Appending the history\n",
        "        losses, val_losses, accuracies, val_accuracies = append_history(\n",
        "            losses, val_losses, accuracies, val_accuracies, history\n",
        "        )\n",
        "\n",
        "        # Loading the best model from this training loop\n",
        "        model = keras.models.load_model(\"AL_Model.h5\")\n",
        "\n",
        "    # Plotting the overall history and evaluating the final model\n",
        "    plot_history(losses, val_losses, accuracies, val_accuracies)\n",
        "    print(\"-\" * 100)\n",
        "    print(\n",
        "        \"Test set evaluation: \",\n",
        "        model.evaluate(test_dataset, verbose=0, return_dict=True),\n",
        "    )\n",
        "    print(\"-\" * 100)\n",
        "\n",
        "    return model\n",
        "\n",
        "\n",
        "active_learning_model = train_active_learning_models(\n",
        "    train_dataset, pool_negatives, pool_positives, val_dataset, test_dataset\n",
        ")"
      ],
      "metadata": {
        "id": "cjHSPiidtGfu",
        "colab": {
          "base_uri": "https://localhost:8080/",
          "height": 1000
        },
        "outputId": "ba6f50f3-458c-4a78-c1a2-a5961cd8be85"
      },
      "execution_count": 8,
      "outputs": [
        {
          "output_type": "display_data",
          "data": {
            "text/plain": [
              "\u001b[1mModel: \"sequential_1\"\u001b[0m\n"
            ],
            "text/html": [
              "<pre style=\"white-space:pre;overflow-x:auto;line-height:normal;font-family:Menlo,'DejaVu Sans Mono',consolas,'Courier New',monospace\"><span style=\"font-weight: bold\">Model: \"sequential_1\"</span>\n",
              "</pre>\n"
            ]
          },
          "metadata": {}
        },
        {
          "output_type": "display_data",
          "data": {
            "text/plain": [
              "┏━━━━━━━━━━━━━━━━━━━━━━━━━━━━━━━━━┳━━━━━━━━━━━━━━━━━━━━━━━━┳━━━━━━━━━━━━━━━┓\n",
              "┃\u001b[1m \u001b[0m\u001b[1mLayer (type)                   \u001b[0m\u001b[1m \u001b[0m┃\u001b[1m \u001b[0m\u001b[1mOutput Shape          \u001b[0m\u001b[1m \u001b[0m┃\u001b[1m \u001b[0m\u001b[1m      Param #\u001b[0m\u001b[1m \u001b[0m┃\n",
              "┡━━━━━━━━━━━━━━━━━━━━━━━━━━━━━━━━━╇━━━━━━━━━━━━━━━━━━━━━━━━╇━━━━━━━━━━━━━━━┩\n",
              "│ embedding_1 (\u001b[38;5;33mEmbedding\u001b[0m)         │ (\u001b[38;5;45mNone\u001b[0m, \u001b[38;5;34m150\u001b[0m, \u001b[38;5;34m128\u001b[0m)       │       \u001b[38;5;34m384,000\u001b[0m │\n",
              "├─────────────────────────────────┼────────────────────────┼───────────────┤\n",
              "│ bidirectional_1 (\u001b[38;5;33mBidirectional\u001b[0m) │ (\u001b[38;5;45mNone\u001b[0m, \u001b[38;5;34m150\u001b[0m, \u001b[38;5;34m64\u001b[0m)        │        \u001b[38;5;34m41,216\u001b[0m │\n",
              "├─────────────────────────────────┼────────────────────────┼───────────────┤\n",
              "│ global_max_pooling1d_1          │ (\u001b[38;5;45mNone\u001b[0m, \u001b[38;5;34m64\u001b[0m)             │             \u001b[38;5;34m0\u001b[0m │\n",
              "│ (\u001b[38;5;33mGlobalMaxPooling1D\u001b[0m)            │                        │               │\n",
              "├─────────────────────────────────┼────────────────────────┼───────────────┤\n",
              "│ dense_2 (\u001b[38;5;33mDense\u001b[0m)                 │ (\u001b[38;5;45mNone\u001b[0m, \u001b[38;5;34m20\u001b[0m)             │         \u001b[38;5;34m1,300\u001b[0m │\n",
              "├─────────────────────────────────┼────────────────────────┼───────────────┤\n",
              "│ dropout_1 (\u001b[38;5;33mDropout\u001b[0m)             │ (\u001b[38;5;45mNone\u001b[0m, \u001b[38;5;34m20\u001b[0m)             │             \u001b[38;5;34m0\u001b[0m │\n",
              "├─────────────────────────────────┼────────────────────────┼───────────────┤\n",
              "│ dense_3 (\u001b[38;5;33mDense\u001b[0m)                 │ (\u001b[38;5;45mNone\u001b[0m, \u001b[38;5;34m1\u001b[0m)              │            \u001b[38;5;34m21\u001b[0m │\n",
              "└─────────────────────────────────┴────────────────────────┴───────────────┘\n"
            ],
            "text/html": [
              "<pre style=\"white-space:pre;overflow-x:auto;line-height:normal;font-family:Menlo,'DejaVu Sans Mono',consolas,'Courier New',monospace\">┏━━━━━━━━━━━━━━━━━━━━━━━━━━━━━━━━━┳━━━━━━━━━━━━━━━━━━━━━━━━┳━━━━━━━━━━━━━━━┓\n",
              "┃<span style=\"font-weight: bold\"> Layer (type)                    </span>┃<span style=\"font-weight: bold\"> Output Shape           </span>┃<span style=\"font-weight: bold\">       Param # </span>┃\n",
              "┡━━━━━━━━━━━━━━━━━━━━━━━━━━━━━━━━━╇━━━━━━━━━━━━━━━━━━━━━━━━╇━━━━━━━━━━━━━━━┩\n",
              "│ embedding_1 (<span style=\"color: #0087ff; text-decoration-color: #0087ff\">Embedding</span>)         │ (<span style=\"color: #00d7ff; text-decoration-color: #00d7ff\">None</span>, <span style=\"color: #00af00; text-decoration-color: #00af00\">150</span>, <span style=\"color: #00af00; text-decoration-color: #00af00\">128</span>)       │       <span style=\"color: #00af00; text-decoration-color: #00af00\">384,000</span> │\n",
              "├─────────────────────────────────┼────────────────────────┼───────────────┤\n",
              "│ bidirectional_1 (<span style=\"color: #0087ff; text-decoration-color: #0087ff\">Bidirectional</span>) │ (<span style=\"color: #00d7ff; text-decoration-color: #00d7ff\">None</span>, <span style=\"color: #00af00; text-decoration-color: #00af00\">150</span>, <span style=\"color: #00af00; text-decoration-color: #00af00\">64</span>)        │        <span style=\"color: #00af00; text-decoration-color: #00af00\">41,216</span> │\n",
              "├─────────────────────────────────┼────────────────────────┼───────────────┤\n",
              "│ global_max_pooling1d_1          │ (<span style=\"color: #00d7ff; text-decoration-color: #00d7ff\">None</span>, <span style=\"color: #00af00; text-decoration-color: #00af00\">64</span>)             │             <span style=\"color: #00af00; text-decoration-color: #00af00\">0</span> │\n",
              "│ (<span style=\"color: #0087ff; text-decoration-color: #0087ff\">GlobalMaxPooling1D</span>)            │                        │               │\n",
              "├─────────────────────────────────┼────────────────────────┼───────────────┤\n",
              "│ dense_2 (<span style=\"color: #0087ff; text-decoration-color: #0087ff\">Dense</span>)                 │ (<span style=\"color: #00d7ff; text-decoration-color: #00d7ff\">None</span>, <span style=\"color: #00af00; text-decoration-color: #00af00\">20</span>)             │         <span style=\"color: #00af00; text-decoration-color: #00af00\">1,300</span> │\n",
              "├─────────────────────────────────┼────────────────────────┼───────────────┤\n",
              "│ dropout_1 (<span style=\"color: #0087ff; text-decoration-color: #0087ff\">Dropout</span>)             │ (<span style=\"color: #00d7ff; text-decoration-color: #00d7ff\">None</span>, <span style=\"color: #00af00; text-decoration-color: #00af00\">20</span>)             │             <span style=\"color: #00af00; text-decoration-color: #00af00\">0</span> │\n",
              "├─────────────────────────────────┼────────────────────────┼───────────────┤\n",
              "│ dense_3 (<span style=\"color: #0087ff; text-decoration-color: #0087ff\">Dense</span>)                 │ (<span style=\"color: #00d7ff; text-decoration-color: #00d7ff\">None</span>, <span style=\"color: #00af00; text-decoration-color: #00af00\">1</span>)              │            <span style=\"color: #00af00; text-decoration-color: #00af00\">21</span> │\n",
              "└─────────────────────────────────┴────────────────────────┴───────────────┘\n",
              "</pre>\n"
            ]
          },
          "metadata": {}
        },
        {
          "output_type": "display_data",
          "data": {
            "text/plain": [
              "\u001b[1m Total params: \u001b[0m\u001b[38;5;34m426,537\u001b[0m (1.63 MB)\n"
            ],
            "text/html": [
              "<pre style=\"white-space:pre;overflow-x:auto;line-height:normal;font-family:Menlo,'DejaVu Sans Mono',consolas,'Courier New',monospace\"><span style=\"font-weight: bold\"> Total params: </span><span style=\"color: #00af00; text-decoration-color: #00af00\">426,537</span> (1.63 MB)\n",
              "</pre>\n"
            ]
          },
          "metadata": {}
        },
        {
          "output_type": "display_data",
          "data": {
            "text/plain": [
              "\u001b[1m Trainable params: \u001b[0m\u001b[38;5;34m426,537\u001b[0m (1.63 MB)\n"
            ],
            "text/html": [
              "<pre style=\"white-space:pre;overflow-x:auto;line-height:normal;font-family:Menlo,'DejaVu Sans Mono',consolas,'Courier New',monospace\"><span style=\"font-weight: bold\"> Trainable params: </span><span style=\"color: #00af00; text-decoration-color: #00af00\">426,537</span> (1.63 MB)\n",
              "</pre>\n"
            ]
          },
          "metadata": {}
        },
        {
          "output_type": "display_data",
          "data": {
            "text/plain": [
              "\u001b[1m Non-trainable params: \u001b[0m\u001b[38;5;34m0\u001b[0m (0.00 B)\n"
            ],
            "text/html": [
              "<pre style=\"white-space:pre;overflow-x:auto;line-height:normal;font-family:Menlo,'DejaVu Sans Mono',consolas,'Courier New',monospace\"><span style=\"font-weight: bold\"> Non-trainable params: </span><span style=\"color: #00af00; text-decoration-color: #00af00\">0</span> (0.00 B)\n",
              "</pre>\n"
            ]
          },
          "metadata": {}
        },
        {
          "output_type": "stream",
          "name": "stdout",
          "text": [
            "Starting to train with 15000 samples\n",
            "Epoch 1/20\n",
            "\u001b[1m57/59\u001b[0m \u001b[32m━━━━━━━━━━━━━━━━━━━\u001b[0m\u001b[37m━\u001b[0m \u001b[1m0s\u001b[0m 22ms/step - binary_accuracy: 0.5187 - false_negatives_1: 1514.4912 - false_positives_1: 2024.9474 - loss: 0.6924\n",
            "Epoch 1: val_loss improved from inf to 0.67939, saving model to AL_Model.h5\n"
          ]
        },
        {
          "output_type": "stream",
          "name": "stderr",
          "text": [
            "WARNING:absl:You are saving your model as an HDF5 file via `model.save()` or `keras.saving.save_model(model)`. This file format is considered legacy. We recommend using instead the native Keras format, e.g. `model.save('my_model.keras')` or `keras.saving.save_model(model, 'my_model.keras')`. \n"
          ]
        },
        {
          "output_type": "stream",
          "name": "stdout",
          "text": [
            "\b\b\b\b\b\b\b\b\b\b\b\b\b\b\b\b\b\b\b\b\b\b\b\b\b\b\b\b\b\b\b\b\b\b\b\b\b\b\b\b\b\b\b\b\b\b\b\b\b\b\b\b\b\b\b\b\b\b\b\b\b\b\b\b\b\b\b\b\b\b\b\b\b\b\b\b\b\b\b\b\b\b\b\b\b\b\b\b\b\b\b\b\b\b\b\b\b\b\b\b\b\b\b\b\b\b\b\b\b\b\b\b\b\b\b\b\b\b\b\b\b\b\b\b\b\b\b\b\b\b\b\b\b\b\b\b\b\b\b\b\b\b\r\u001b[1m59/59\u001b[0m \u001b[32m━━━━━━━━━━━━━━━━━━━━\u001b[0m\u001b[37m\u001b[0m \u001b[1m6s\u001b[0m 35ms/step - binary_accuracy: 0.5197 - false_negatives_1: 1600.9166 - false_positives_1: 2106.6499 - loss: 0.6923 - val_binary_accuracy: 0.6132 - val_false_negatives_1: 232.0000 - val_false_positives_1: 1702.0000 - val_loss: 0.6794\n",
            "Epoch 2/20\n",
            "\u001b[1m58/59\u001b[0m \u001b[32m━━━━━━━━━━━━━━━━━━━\u001b[0m\u001b[37m━\u001b[0m \u001b[1m0s\u001b[0m 24ms/step - binary_accuracy: 0.6328 - false_negatives_1: 1091.5518 - false_positives_1: 1630.6034 - loss: 0.6645\n",
            "Epoch 2: val_loss improved from 0.67939 to 0.57611, saving model to AL_Model.h5\n"
          ]
        },
        {
          "output_type": "stream",
          "name": "stderr",
          "text": [
            "WARNING:absl:You are saving your model as an HDF5 file via `model.save()` or `keras.saving.save_model(model)`. This file format is considered legacy. We recommend using instead the native Keras format, e.g. `model.save('my_model.keras')` or `keras.saving.save_model(model, 'my_model.keras')`. \n"
          ]
        },
        {
          "output_type": "stream",
          "name": "stdout",
          "text": [
            "\b\b\b\b\b\b\b\b\b\b\b\b\b\b\b\b\b\b\b\b\b\b\b\b\b\b\b\b\b\b\b\b\b\b\b\b\b\b\b\b\b\b\b\b\b\b\b\b\b\b\b\b\b\b\b\b\b\b\b\b\b\b\b\b\b\b\b\b\b\b\b\b\b\b\b\b\b\b\b\b\b\b\b\b\b\b\b\b\b\b\b\b\b\b\b\b\b\b\b\b\b\b\b\b\b\b\b\b\b\b\b\b\b\b\b\b\b\b\b\b\b\b\b\b\b\b\b\b\b\b\b\b\b\b\b\b\b\b\b\b\b\b\r\u001b[1m59/59\u001b[0m \u001b[32m━━━━━━━━━━━━━━━━━━━━\u001b[0m\u001b[37m\u001b[0m \u001b[1m2s\u001b[0m 33ms/step - binary_accuracy: 0.6335 - false_negatives_1: 1124.0667 - false_positives_1: 1680.3500 - loss: 0.6638 - val_binary_accuracy: 0.7382 - val_false_negatives_1: 918.0000 - val_false_positives_1: 391.0000 - val_loss: 0.5761\n",
            "Epoch 3/20\n",
            "\u001b[1m59/59\u001b[0m \u001b[32m━━━━━━━━━━━━━━━━━━━━\u001b[0m\u001b[37m\u001b[0m \u001b[1m0s\u001b[0m 21ms/step - binary_accuracy: 0.6976 - false_negatives_1: 896.0000 - false_positives_1: 1356.3051 - loss: 0.5914\n",
            "Epoch 3: val_loss did not improve from 0.57611\n",
            "\u001b[1m59/59\u001b[0m \u001b[32m━━━━━━━━━━━━━━━━━━━━\u001b[0m\u001b[37m\u001b[0m \u001b[1m2s\u001b[0m 27ms/step - binary_accuracy: 0.6978 - false_negatives_1: 908.9333 - false_positives_1: 1377.7000 - loss: 0.5911 - val_binary_accuracy: 0.6760 - val_false_negatives_1: 150.0000 - val_false_positives_1: 1470.0000 - val_loss: 0.5862\n",
            "Epoch 4/20\n",
            "\u001b[1m57/59\u001b[0m \u001b[32m━━━━━━━━━━━━━━━━━━━\u001b[0m\u001b[37m━\u001b[0m \u001b[1m0s\u001b[0m 20ms/step - binary_accuracy: 0.7535 - false_negatives_1: 647.7193 - false_positives_1: 1147.0702 - loss: 0.5239\n",
            "Epoch 4: val_loss improved from 0.57611 to 0.53027, saving model to AL_Model.h5\n"
          ]
        },
        {
          "output_type": "stream",
          "name": "stderr",
          "text": [
            "WARNING:absl:You are saving your model as an HDF5 file via `model.save()` or `keras.saving.save_model(model)`. This file format is considered legacy. We recommend using instead the native Keras format, e.g. `model.save('my_model.keras')` or `keras.saving.save_model(model, 'my_model.keras')`. \n"
          ]
        },
        {
          "output_type": "stream",
          "name": "stdout",
          "text": [
            "\b\b\b\b\b\b\b\b\b\b\b\b\b\b\b\b\b\b\b\b\b\b\b\b\b\b\b\b\b\b\b\b\b\b\b\b\b\b\b\b\b\b\b\b\b\b\b\b\b\b\b\b\b\b\b\b\b\b\b\b\b\b\b\b\b\b\b\b\b\b\b\b\b\b\b\b\b\b\b\b\b\b\b\b\b\b\b\b\b\b\b\b\b\b\b\b\b\b\b\b\b\b\b\b\b\b\b\b\b\b\b\b\b\b\b\b\b\b\b\b\b\b\b\b\b\b\b\b\b\b\b\b\b\b\b\b\b\b\b\b\b\r\u001b[1m59/59\u001b[0m \u001b[32m━━━━━━━━━━━━━━━━━━━━\u001b[0m\u001b[37m\u001b[0m \u001b[1m2s\u001b[0m 26ms/step - binary_accuracy: 0.7539 - false_negatives_1: 682.2000 - false_positives_1: 1201.1000 - loss: 0.5233 - val_binary_accuracy: 0.7200 - val_false_negatives_1: 99.0000 - val_false_positives_1: 1301.0000 - val_loss: 0.5303\n",
            "Epoch 5/20\n",
            "\u001b[1m58/59\u001b[0m \u001b[32m━━━━━━━━━━━━━━━━━━━\u001b[0m\u001b[37m━\u001b[0m \u001b[1m0s\u001b[0m 20ms/step - binary_accuracy: 0.7788 - false_negatives_1: 688.4483 - false_positives_1: 932.9828 - loss: 0.4828\n",
            "Epoch 5: val_loss did not improve from 0.53027\n",
            "\u001b[1m59/59\u001b[0m \u001b[32m━━━━━━━━━━━━━━━━━━━━\u001b[0m\u001b[37m\u001b[0m \u001b[1m2s\u001b[0m 25ms/step - binary_accuracy: 0.7792 - false_negatives_1: 709.8000 - false_positives_1: 961.7500 - loss: 0.4822 - val_binary_accuracy: 0.7088 - val_false_negatives_1: 63.0000 - val_false_positives_1: 1393.0000 - val_loss: 0.5620\n",
            "Epoch 6/20\n",
            "\u001b[1m58/59\u001b[0m \u001b[32m━━━━━━━━━━━━━━━━━━━\u001b[0m\u001b[37m━\u001b[0m \u001b[1m0s\u001b[0m 20ms/step - binary_accuracy: 0.7987 - false_negatives_1: 609.2241 - false_positives_1: 862.6379 - loss: 0.4483\n",
            "Epoch 6: val_loss improved from 0.53027 to 0.41534, saving model to AL_Model.h5\n"
          ]
        },
        {
          "output_type": "stream",
          "name": "stderr",
          "text": [
            "WARNING:absl:You are saving your model as an HDF5 file via `model.save()` or `keras.saving.save_model(model)`. This file format is considered legacy. We recommend using instead the native Keras format, e.g. `model.save('my_model.keras')` or `keras.saving.save_model(model, 'my_model.keras')`. \n"
          ]
        },
        {
          "output_type": "stream",
          "name": "stdout",
          "text": [
            "\b\b\b\b\b\b\b\b\b\b\b\b\b\b\b\b\b\b\b\b\b\b\b\b\b\b\b\b\b\b\b\b\b\b\b\b\b\b\b\b\b\b\b\b\b\b\b\b\b\b\b\b\b\b\b\b\b\b\b\b\b\b\b\b\b\b\b\b\b\b\b\b\b\b\b\b\b\b\b\b\b\b\b\b\b\b\b\b\b\b\b\b\b\b\b\b\b\b\b\b\b\b\b\b\b\b\b\b\b\b\b\b\b\b\b\b\b\b\b\b\b\b\b\b\b\b\b\b\b\b\b\b\b\b\b\b\b\b\b\b\r\u001b[1m59/59\u001b[0m \u001b[32m━━━━━━━━━━━━━━━━━━━━\u001b[0m\u001b[37m\u001b[0m \u001b[1m3s\u001b[0m 26ms/step - binary_accuracy: 0.7991 - false_negatives_1: 628.2833 - false_positives_1: 889.7167 - loss: 0.4478 - val_binary_accuracy: 0.8064 - val_false_negatives_1: 226.0000 - val_false_positives_1: 742.0000 - val_loss: 0.4153\n",
            "Epoch 7/20\n",
            "\u001b[1m58/59\u001b[0m \u001b[32m━━━━━━━━━━━━━━━━━━━\u001b[0m\u001b[37m━\u001b[0m \u001b[1m0s\u001b[0m 20ms/step - binary_accuracy: 0.8379 - false_negatives_1: 523.3104 - false_positives_1: 715.7414 - loss: 0.3923\n",
            "Epoch 7: val_loss improved from 0.41534 to 0.39315, saving model to AL_Model.h5\n"
          ]
        },
        {
          "output_type": "stream",
          "name": "stderr",
          "text": [
            "WARNING:absl:You are saving your model as an HDF5 file via `model.save()` or `keras.saving.save_model(model)`. This file format is considered legacy. We recommend using instead the native Keras format, e.g. `model.save('my_model.keras')` or `keras.saving.save_model(model, 'my_model.keras')`. \n"
          ]
        },
        {
          "output_type": "stream",
          "name": "stdout",
          "text": [
            "\b\b\b\b\b\b\b\b\b\b\b\b\b\b\b\b\b\b\b\b\b\b\b\b\b\b\b\b\b\b\b\b\b\b\b\b\b\b\b\b\b\b\b\b\b\b\b\b\b\b\b\b\b\b\b\b\b\b\b\b\b\b\b\b\b\b\b\b\b\b\b\b\b\b\b\b\b\b\b\b\b\b\b\b\b\b\b\b\b\b\b\b\b\b\b\b\b\b\b\b\b\b\b\b\b\b\b\b\b\b\b\b\b\b\b\b\b\b\b\b\b\b\b\b\b\b\b\b\b\b\b\b\b\b\b\b\b\b\b\b\r\u001b[1m59/59\u001b[0m \u001b[32m━━━━━━━━━━━━━━━━━━━━\u001b[0m\u001b[37m\u001b[0m \u001b[1m2s\u001b[0m 26ms/step - binary_accuracy: 0.8378 - false_negatives_1: 540.3666 - false_positives_1: 740.4167 - loss: 0.3925 - val_binary_accuracy: 0.8244 - val_false_negatives_1: 258.0000 - val_false_positives_1: 620.0000 - val_loss: 0.3932\n",
            "Epoch 8/20\n",
            "\u001b[1m58/59\u001b[0m \u001b[32m━━━━━━━━━━━━━━━━━━━\u001b[0m\u001b[37m━\u001b[0m \u001b[1m0s\u001b[0m 20ms/step - binary_accuracy: 0.8376 - false_negatives_1: 532.0172 - false_positives_1: 679.0862 - loss: 0.3836\n",
            "Epoch 8: val_loss did not improve from 0.39315\n",
            "\u001b[1m59/59\u001b[0m \u001b[32m━━━━━━━━━━━━━━━━━━━━\u001b[0m\u001b[37m\u001b[0m \u001b[1m2s\u001b[0m 27ms/step - binary_accuracy: 0.8378 - false_negatives_1: 548.7500 - false_positives_1: 700.7167 - loss: 0.3833 - val_binary_accuracy: 0.8160 - val_false_negatives_1: 680.0000 - val_false_positives_1: 240.0000 - val_loss: 0.4132\n",
            "Epoch 9/20\n",
            "\u001b[1m59/59\u001b[0m \u001b[32m━━━━━━━━━━━━━━━━━━━━\u001b[0m\u001b[37m\u001b[0m \u001b[1m0s\u001b[0m 24ms/step - binary_accuracy: 0.8552 - false_negatives_1: 499.8983 - false_positives_1: 606.9153 - loss: 0.3626\n",
            "Epoch 9: val_loss improved from 0.39315 to 0.36897, saving model to AL_Model.h5\n"
          ]
        },
        {
          "output_type": "stream",
          "name": "stderr",
          "text": [
            "WARNING:absl:You are saving your model as an HDF5 file via `model.save()` or `keras.saving.save_model(model)`. This file format is considered legacy. We recommend using instead the native Keras format, e.g. `model.save('my_model.keras')` or `keras.saving.save_model(model, 'my_model.keras')`. \n"
          ]
        },
        {
          "output_type": "stream",
          "name": "stdout",
          "text": [
            "\b\b\b\b\b\b\b\b\b\b\b\b\b\b\b\b\b\b\b\b\b\b\b\b\b\b\b\b\b\b\b\b\b\b\b\b\b\b\b\b\b\b\b\b\b\b\b\b\b\b\b\b\b\b\b\b\b\b\b\b\b\b\b\b\b\b\b\b\b\b\b\b\b\b\b\b\b\b\b\b\b\b\b\b\b\b\b\b\b\b\b\b\b\b\b\b\b\b\b\b\b\b\b\b\b\b\b\b\b\b\b\b\b\b\b\b\b\b\b\b\b\b\b\b\b\b\b\b\b\b\b\b\b\b\b\b\b\b\b\b\r\u001b[1m59/59\u001b[0m \u001b[32m━━━━━━━━━━━━━━━━━━━━\u001b[0m\u001b[37m\u001b[0m \u001b[1m2s\u001b[0m 34ms/step - binary_accuracy: 0.8552 - false_negatives_1: 507.6833 - false_positives_1: 616.7167 - loss: 0.3625 - val_binary_accuracy: 0.8430 - val_false_negatives_1: 401.0000 - val_false_positives_1: 384.0000 - val_loss: 0.3690\n",
            "Epoch 10/20\n",
            "\u001b[1m58/59\u001b[0m \u001b[32m━━━━━━━━━━━━━━━━━━━\u001b[0m\u001b[37m━\u001b[0m \u001b[1m0s\u001b[0m 20ms/step - binary_accuracy: 0.8641 - false_negatives_1: 461.6897 - false_positives_1: 575.0172 - loss: 0.3395\n",
            "Epoch 10: val_loss improved from 0.36897 to 0.36846, saving model to AL_Model.h5\n"
          ]
        },
        {
          "output_type": "stream",
          "name": "stderr",
          "text": [
            "WARNING:absl:You are saving your model as an HDF5 file via `model.save()` or `keras.saving.save_model(model)`. This file format is considered legacy. We recommend using instead the native Keras format, e.g. `model.save('my_model.keras')` or `keras.saving.save_model(model, 'my_model.keras')`. \n"
          ]
        },
        {
          "output_type": "stream",
          "name": "stdout",
          "text": [
            "\b\b\b\b\b\b\b\b\b\b\b\b\b\b\b\b\b\b\b\b\b\b\b\b\b\b\b\b\b\b\b\b\b\b\b\b\b\b\b\b\b\b\b\b\b\b\b\b\b\b\b\b\b\b\b\b\b\b\b\b\b\b\b\b\b\b\b\b\b\b\b\b\b\b\b\b\b\b\b\b\b\b\b\b\b\b\b\b\b\b\b\b\b\b\b\b\b\b\b\b\b\b\b\b\b\b\b\b\b\b\b\b\b\b\b\b\b\b\b\b\b\b\b\b\b\b\b\b\b\b\b\b\b\b\b\b\b\b\b\b\r\u001b[1m59/59\u001b[0m \u001b[32m━━━━━━━━━━━━━━━━━━━━\u001b[0m\u001b[37m\u001b[0m \u001b[1m2s\u001b[0m 26ms/step - binary_accuracy: 0.8640 - false_negatives_1: 477.4333 - false_positives_1: 594.1500 - loss: 0.3396 - val_binary_accuracy: 0.8408 - val_false_negatives_1: 321.0000 - val_false_positives_1: 475.0000 - val_loss: 0.3685\n",
            "Epoch 11/20\n",
            "\u001b[1m57/59\u001b[0m \u001b[32m━━━━━━━━━━━━━━━━━━━\u001b[0m\u001b[37m━\u001b[0m \u001b[1m0s\u001b[0m 20ms/step - binary_accuracy: 0.8687 - false_negatives_1: 436.0702 - false_positives_1: 516.8596 - loss: 0.3281\n",
            "Epoch 11: val_loss did not improve from 0.36846\n",
            "\u001b[1m59/59\u001b[0m \u001b[32m━━━━━━━━━━━━━━━━━━━━\u001b[0m\u001b[37m\u001b[0m \u001b[1m2s\u001b[0m 26ms/step - binary_accuracy: 0.8690 - false_negatives_1: 457.1667 - false_positives_1: 541.8500 - loss: 0.3279 - val_binary_accuracy: 0.8132 - val_false_negatives_1: 155.0000 - val_false_positives_1: 779.0000 - val_loss: 0.4217\n",
            "Epoch 12/20\n",
            "\u001b[1m57/59\u001b[0m \u001b[32m━━━━━━━━━━━━━━━━━━━\u001b[0m\u001b[37m━\u001b[0m \u001b[1m0s\u001b[0m 20ms/step - binary_accuracy: 0.8744 - false_negatives_1: 405.1754 - false_positives_1: 505.1930 - loss: 0.3190\n",
            "Epoch 12: val_loss did not improve from 0.36846\n",
            "\u001b[1m59/59\u001b[0m \u001b[32m━━━━━━━━━━━━━━━━━━━━\u001b[0m\u001b[37m\u001b[0m \u001b[1m2s\u001b[0m 25ms/step - binary_accuracy: 0.8746 - false_negatives_1: 426.0333 - false_positives_1: 529.2833 - loss: 0.3188 - val_binary_accuracy: 0.8418 - val_false_negatives_1: 299.0000 - val_false_positives_1: 492.0000 - val_loss: 0.3699\n",
            "Epoch 13/20\n",
            "\u001b[1m57/59\u001b[0m \u001b[32m━━━━━━━━━━━━━━━━━━━\u001b[0m\u001b[37m━\u001b[0m \u001b[1m0s\u001b[0m 21ms/step - binary_accuracy: 0.8865 - false_negatives_1: 393.3684 - false_positives_1: 450.9298 - loss: 0.2925\n",
            "Epoch 13: val_loss did not improve from 0.36846\n",
            "\u001b[1m59/59\u001b[0m \u001b[32m━━━━━━━━━━━━━━━━━━━━\u001b[0m\u001b[37m\u001b[0m \u001b[1m3s\u001b[0m 26ms/step - binary_accuracy: 0.8865 - false_negatives_1: 413.3833 - false_positives_1: 472.9000 - loss: 0.2926 - val_binary_accuracy: 0.8412 - val_false_negatives_1: 489.0000 - val_false_positives_1: 305.0000 - val_loss: 0.3822\n",
            "Epoch 14/20\n",
            "\u001b[1m58/59\u001b[0m \u001b[32m━━━━━━━━━━━━━━━━━━━\u001b[0m\u001b[37m━\u001b[0m \u001b[1m0s\u001b[0m 20ms/step - binary_accuracy: 0.9008 - false_negatives_1: 365.5862 - false_positives_1: 408.3965 - loss: 0.2793\n",
            "Epoch 14: val_loss did not improve from 0.36846\n",
            "\u001b[1m59/59\u001b[0m \u001b[32m━━━━━━━━━━━━━━━━━━━━\u001b[0m\u001b[37m\u001b[0m \u001b[1m2s\u001b[0m 25ms/step - binary_accuracy: 0.9007 - false_negatives_1: 378.0667 - false_positives_1: 422.2500 - loss: 0.2794 - val_binary_accuracy: 0.8224 - val_false_negatives_1: 185.0000 - val_false_positives_1: 703.0000 - val_loss: 0.4182\n",
            "Epoch 14: early stopping\n",
            "\u001b[1m20/20\u001b[0m \u001b[32m━━━━━━━━━━━━━━━━━━━━\u001b[0m\u001b[37m\u001b[0m \u001b[1m1s\u001b[0m 33ms/step\n",
            "----------------------------------------------------------------------------------------------------\n",
            "Number of zeros incorrectly classified: 204.0, Number of ones incorrectly classified: 688.0\n",
            "Sample ratio for positives: 0.7713004484304933, Sample ratio for negatives:0.22869955156950672\n",
            "Starting training with 19999 samples\n",
            "----------------------------------------------------------------------------------------------------\n",
            "Epoch 1/20\n",
            "\u001b[1m79/79\u001b[0m \u001b[32m━━━━━━━━━━━━━━━━━━━━\u001b[0m\u001b[37m\u001b[0m \u001b[1m0s\u001b[0m 21ms/step - binary_accuracy: 0.8596 - false_negatives_2: 612.6962 - false_positives_2: 697.2785 - loss: 0.3603\n",
            "Epoch 1: val_loss did not improve from 0.36846\n",
            "\u001b[1m79/79\u001b[0m \u001b[32m━━━━━━━━━━━━━━━━━━━━\u001b[0m\u001b[37m\u001b[0m \u001b[1m7s\u001b[0m 31ms/step - binary_accuracy: 0.8599 - false_negatives_2: 619.1500 - false_positives_2: 704.7250 - loss: 0.3598 - val_binary_accuracy: 0.8142 - val_false_negatives_2: 167.0000 - val_false_positives_2: 762.0000 - val_loss: 0.4246\n",
            "Epoch 2/20\n",
            "\u001b[1m79/79\u001b[0m \u001b[32m━━━━━━━━━━━━━━━━━━━━\u001b[0m\u001b[37m\u001b[0m \u001b[1m0s\u001b[0m 20ms/step - binary_accuracy: 0.8963 - false_negatives_2: 488.2785 - false_positives_2: 586.7215 - loss: 0.2857\n",
            "Epoch 2: val_loss did not improve from 0.36846\n",
            "\u001b[1m79/79\u001b[0m \u001b[32m━━━━━━━━━━━━━━━━━━━━\u001b[0m\u001b[37m\u001b[0m \u001b[1m2s\u001b[0m 24ms/step - binary_accuracy: 0.8963 - false_negatives_2: 494.1125 - false_positives_2: 593.7875 - loss: 0.2857 - val_binary_accuracy: 0.8450 - val_false_negatives_2: 270.0000 - val_false_positives_2: 505.0000 - val_loss: 0.3713\n",
            "Epoch 3/20\n",
            "\u001b[1m77/79\u001b[0m \u001b[32m━━━━━━━━━━━━━━━━━━━\u001b[0m\u001b[37m━\u001b[0m \u001b[1m0s\u001b[0m 22ms/step - binary_accuracy: 0.9048 - false_negatives_2: 437.3766 - false_positives_2: 526.0779 - loss: 0.2650\n",
            "Epoch 3: val_loss did not improve from 0.36846\n",
            "\u001b[1m79/79\u001b[0m \u001b[32m━━━━━━━━━━━━━━━━━━━━\u001b[0m\u001b[37m\u001b[0m \u001b[1m2s\u001b[0m 30ms/step - binary_accuracy: 0.9048 - false_negatives_2: 453.6500 - false_positives_2: 545.8250 - loss: 0.2650 - val_binary_accuracy: 0.8408 - val_false_negatives_2: 226.0000 - val_false_positives_2: 570.0000 - val_loss: 0.3910\n",
            "Epoch 4/20\n",
            "\u001b[1m79/79\u001b[0m \u001b[32m━━━━━━━━━━━━━━━━━━━━\u001b[0m\u001b[37m\u001b[0m \u001b[1m0s\u001b[0m 22ms/step - binary_accuracy: 0.9099 - false_negatives_2: 430.1266 - false_positives_2: 509.0886 - loss: 0.2553\n",
            "Epoch 4: val_loss did not improve from 0.36846\n",
            "\u001b[1m79/79\u001b[0m \u001b[32m━━━━━━━━━━━━━━━━━━━━\u001b[0m\u001b[37m\u001b[0m \u001b[1m2s\u001b[0m 26ms/step - binary_accuracy: 0.9099 - false_negatives_2: 435.3000 - false_positives_2: 515.1375 - loss: 0.2553 - val_binary_accuracy: 0.8422 - val_false_negatives_2: 466.0000 - val_false_positives_2: 323.0000 - val_loss: 0.3738\n",
            "Epoch 5/20\n",
            "\u001b[1m79/79\u001b[0m \u001b[32m━━━━━━━━━━━━━━━━━━━━\u001b[0m\u001b[37m\u001b[0m \u001b[1m0s\u001b[0m 20ms/step - binary_accuracy: 0.9160 - false_negatives_2: 397.2785 - false_positives_2: 452.5063 - loss: 0.2336\n",
            "Epoch 5: val_loss did not improve from 0.36846\n",
            "\u001b[1m79/79\u001b[0m \u001b[32m━━━━━━━━━━━━━━━━━━━━\u001b[0m\u001b[37m\u001b[0m \u001b[1m2s\u001b[0m 24ms/step - binary_accuracy: 0.9160 - false_negatives_2: 402.0125 - false_positives_2: 457.8250 - loss: 0.2337 - val_binary_accuracy: 0.8468 - val_false_negatives_2: 364.0000 - val_false_positives_2: 402.0000 - val_loss: 0.3757\n",
            "Epoch 6/20\n",
            "\u001b[1m79/79\u001b[0m \u001b[32m━━━━━━━━━━━━━━━━━━━━\u001b[0m\u001b[37m\u001b[0m \u001b[1m0s\u001b[0m 20ms/step - binary_accuracy: 0.9222 - false_negatives_2: 377.7722 - false_positives_2: 423.5063 - loss: 0.2234\n",
            "Epoch 6: val_loss did not improve from 0.36846\n",
            "\u001b[1m79/79\u001b[0m \u001b[32m━━━━━━━━━━━━━━━━━━━━\u001b[0m\u001b[37m\u001b[0m \u001b[1m3s\u001b[0m 24ms/step - binary_accuracy: 0.9222 - false_negatives_2: 382.4250 - false_positives_2: 428.8125 - loss: 0.2235 - val_binary_accuracy: 0.8478 - val_false_negatives_2: 310.0000 - val_false_positives_2: 451.0000 - val_loss: 0.3890\n",
            "Epoch 6: early stopping\n"
          ]
        },
        {
          "output_type": "stream",
          "name": "stderr",
          "text": [
            "WARNING:absl:Compiled the loaded model, but the compiled metrics have yet to be built. `model.compile_metrics` will be empty until you train or evaluate the model.\n"
          ]
        },
        {
          "output_type": "stream",
          "name": "stdout",
          "text": [
            "\u001b[1m20/20\u001b[0m \u001b[32m━━━━━━━━━━━━━━━━━━━━\u001b[0m\u001b[37m\u001b[0m \u001b[1m1s\u001b[0m 23ms/step\n",
            "----------------------------------------------------------------------------------------------------\n",
            "Number of zeros incorrectly classified: 343.0, Number of ones incorrectly classified: 448.0\n",
            "Sample ratio for positives: 0.5663716814159292, Sample ratio for negatives:0.4336283185840708\n",
            "Starting training with 24998 samples\n",
            "----------------------------------------------------------------------------------------------------\n",
            "Epoch 1/20\n",
            "\u001b[1m98/98\u001b[0m \u001b[32m━━━━━━━━━━━━━━━━━━━━\u001b[0m\u001b[37m\u001b[0m \u001b[1m0s\u001b[0m 30ms/step - binary_accuracy: 0.8453 - false_negatives_3: 811.7551 - false_positives_3: 1059.2041 - loss: 0.3965\n",
            "Epoch 1: val_loss improved from 0.36846 to 0.35999, saving model to AL_Model.h5\n"
          ]
        },
        {
          "output_type": "stream",
          "name": "stderr",
          "text": [
            "WARNING:absl:You are saving your model as an HDF5 file via `model.save()` or `keras.saving.save_model(model)`. This file format is considered legacy. We recommend using instead the native Keras format, e.g. `model.save('my_model.keras')` or `keras.saving.save_model(model, 'my_model.keras')`. \n"
          ]
        },
        {
          "output_type": "stream",
          "name": "stdout",
          "text": [
            "\b\b\b\b\b\b\b\b\b\b\b\b\b\b\b\b\b\b\b\b\b\b\b\b\b\b\b\b\b\b\b\b\b\b\b\b\b\b\b\b\b\b\b\b\b\b\b\b\b\b\b\b\b\b\b\b\b\b\b\b\b\b\b\b\b\b\b\b\b\b\b\b\b\b\b\b\b\b\b\b\b\b\b\b\b\b\b\b\b\b\b\b\b\b\b\b\b\b\b\b\b\b\b\b\b\b\b\b\b\b\b\b\b\b\b\b\b\b\b\b\b\b\b\b\b\b\b\b\b\b\b\b\b\b\b\b\b\b\b\b\b\r\u001b[1m98/98\u001b[0m \u001b[32m━━━━━━━━━━━━━━━━━━━━\u001b[0m\u001b[37m\u001b[0m \u001b[1m10s\u001b[0m 38ms/step - binary_accuracy: 0.8454 - false_negatives_3: 819.3737 - false_positives_3: 1069.1515 - loss: 0.3962 - val_binary_accuracy: 0.8460 - val_false_negatives_3: 284.0000 - val_false_positives_3: 486.0000 - val_loss: 0.3600\n",
            "Epoch 2/20\n",
            "\u001b[1m97/98\u001b[0m \u001b[32m━━━━━━━━━━━━━━━━━━━\u001b[0m\u001b[37m━\u001b[0m \u001b[1m0s\u001b[0m 20ms/step - binary_accuracy: 0.8635 - false_negatives_3: 747.9175 - false_positives_3: 969.2681 - loss: 0.3419\n",
            "Epoch 2: val_loss did not improve from 0.35999\n",
            "\u001b[1m98/98\u001b[0m \u001b[32m━━━━━━━━━━━━━━━━━━━━\u001b[0m\u001b[37m\u001b[0m \u001b[1m2s\u001b[0m 23ms/step - binary_accuracy: 0.8636 - false_negatives_3: 762.5051 - false_positives_3: 988.1111 - loss: 0.3418 - val_binary_accuracy: 0.7958 - val_false_negatives_3: 889.0000 - val_false_positives_3: 132.0000 - val_loss: 0.4403\n",
            "Epoch 3/20\n",
            "\u001b[1m97/98\u001b[0m \u001b[32m━━━━━━━━━━━━━━━━━━━\u001b[0m\u001b[37m━\u001b[0m \u001b[1m0s\u001b[0m 21ms/step - binary_accuracy: 0.8731 - false_negatives_3: 713.1855 - false_positives_3: 854.1855 - loss: 0.3229\n",
            "Epoch 3: val_loss did not improve from 0.35999\n",
            "\u001b[1m98/98\u001b[0m \u001b[32m━━━━━━━━━━━━━━━━━━━━\u001b[0m\u001b[37m\u001b[0m \u001b[1m3s\u001b[0m 27ms/step - binary_accuracy: 0.8731 - false_negatives_3: 727.2626 - false_positives_3: 871.9394 - loss: 0.3229 - val_binary_accuracy: 0.8140 - val_false_negatives_3: 128.0000 - val_false_positives_3: 802.0000 - val_loss: 0.4211\n",
            "Epoch 4/20\n",
            "\u001b[1m98/98\u001b[0m \u001b[32m━━━━━━━━━━━━━━━━━━━━\u001b[0m\u001b[37m\u001b[0m \u001b[1m0s\u001b[0m 22ms/step - binary_accuracy: 0.8857 - false_negatives_3: 632.1837 - false_positives_3: 828.4286 - loss: 0.2971\n",
            "Epoch 4: val_loss did not improve from 0.35999\n",
            "\u001b[1m98/98\u001b[0m \u001b[32m━━━━━━━━━━━━━━━━━━━━\u001b[0m\u001b[37m\u001b[0m \u001b[1m3s\u001b[0m 26ms/step - binary_accuracy: 0.8856 - false_negatives_3: 638.7980 - false_positives_3: 836.5151 - loss: 0.2971 - val_binary_accuracy: 0.8372 - val_false_negatives_3: 182.0000 - val_false_positives_3: 632.0000 - val_loss: 0.3809\n",
            "Epoch 5/20\n",
            "\u001b[1m96/98\u001b[0m \u001b[32m━━━━━━━━━━━━━━━━━━━\u001b[0m\u001b[37m━\u001b[0m \u001b[1m0s\u001b[0m 20ms/step - binary_accuracy: 0.8940 - false_negatives_3: 593.3438 - false_positives_3: 734.0000 - loss: 0.2872\n",
            "Epoch 5: val_loss improved from 0.35999 to 0.34450, saving model to AL_Model.h5\n"
          ]
        },
        {
          "output_type": "stream",
          "name": "stderr",
          "text": [
            "WARNING:absl:You are saving your model as an HDF5 file via `model.save()` or `keras.saving.save_model(model)`. This file format is considered legacy. We recommend using instead the native Keras format, e.g. `model.save('my_model.keras')` or `keras.saving.save_model(model, 'my_model.keras')`. \n"
          ]
        },
        {
          "output_type": "stream",
          "name": "stdout",
          "text": [
            "\b\b\b\b\b\b\b\b\b\b\b\b\b\b\b\b\b\b\b\b\b\b\b\b\b\b\b\b\b\b\b\b\b\b\b\b\b\b\b\b\b\b\b\b\b\b\b\b\b\b\b\b\b\b\b\b\b\b\b\b\b\b\b\b\b\b\b\b\b\b\b\b\b\b\b\b\b\b\b\b\b\b\b\b\b\b\b\b\b\b\b\b\b\b\b\b\b\b\b\b\b\b\b\b\b\b\b\b\b\b\b\b\b\b\b\b\b\b\b\b\b\b\b\b\b\b\b\b\b\b\b\b\b\b\b\b\b\b\b\b\r\u001b[1m98/98\u001b[0m \u001b[32m━━━━━━━━━━━━━━━━━━━━\u001b[0m\u001b[37m\u001b[0m \u001b[1m2s\u001b[0m 24ms/step - binary_accuracy: 0.8939 - false_negatives_3: 612.5959 - false_positives_3: 757.1212 - loss: 0.2872 - val_binary_accuracy: 0.8510 - val_false_negatives_3: 426.0000 - val_false_positives_3: 319.0000 - val_loss: 0.3445\n",
            "Epoch 6/20\n",
            "\u001b[1m96/98\u001b[0m \u001b[32m━━━━━━━━━━━━━━━━━━━\u001b[0m\u001b[37m━\u001b[0m \u001b[1m0s\u001b[0m 20ms/step - binary_accuracy: 0.8990 - false_negatives_3: 569.0833 - false_positives_3: 698.7812 - loss: 0.2711\n",
            "Epoch 6: val_loss did not improve from 0.34450\n",
            "\u001b[1m98/98\u001b[0m \u001b[32m━━━━━━━━━━━━━━━━━━━━\u001b[0m\u001b[37m\u001b[0m \u001b[1m2s\u001b[0m 24ms/step - binary_accuracy: 0.8990 - false_negatives_3: 586.7475 - false_positives_3: 720.1616 - loss: 0.2713 - val_binary_accuracy: 0.8502 - val_false_negatives_3: 384.0000 - val_false_positives_3: 365.0000 - val_loss: 0.3591\n",
            "Epoch 7/20\n",
            "\u001b[1m97/98\u001b[0m \u001b[32m━━━━━━━━━━━━━━━━━━━\u001b[0m\u001b[37m━\u001b[0m \u001b[1m0s\u001b[0m 20ms/step - binary_accuracy: 0.9053 - false_negatives_3: 555.1547 - false_positives_3: 645.1237 - loss: 0.2595\n",
            "Epoch 7: val_loss did not improve from 0.34450\n",
            "\u001b[1m98/98\u001b[0m \u001b[32m━━━━━━━━━━━━━━━━━━━━\u001b[0m\u001b[37m\u001b[0m \u001b[1m2s\u001b[0m 24ms/step - binary_accuracy: 0.9053 - false_negatives_3: 566.3030 - false_positives_3: 658.0303 - loss: 0.2596 - val_binary_accuracy: 0.8316 - val_false_negatives_3: 174.0000 - val_false_positives_3: 668.0000 - val_loss: 0.4025\n",
            "Epoch 8/20\n",
            "\u001b[1m97/98\u001b[0m \u001b[32m━━━━━━━━━━━━━━━━━━━\u001b[0m\u001b[37m━\u001b[0m \u001b[1m0s\u001b[0m 22ms/step - binary_accuracy: 0.9123 - false_negatives_3: 502.0412 - false_positives_3: 607.5876 - loss: 0.2438\n",
            "Epoch 8: val_loss did not improve from 0.34450\n",
            "\u001b[1m98/98\u001b[0m \u001b[32m━━━━━━━━━━━━━━━━━━━━\u001b[0m\u001b[37m\u001b[0m \u001b[1m3s\u001b[0m 29ms/step - binary_accuracy: 0.9123 - false_negatives_3: 512.7475 - false_positives_3: 619.9798 - loss: 0.2439 - val_binary_accuracy: 0.8366 - val_false_negatives_3: 196.0000 - val_false_positives_3: 621.0000 - val_loss: 0.3928\n",
            "Epoch 9/20\n",
            "\u001b[1m97/98\u001b[0m \u001b[32m━━━━━━━━━━━━━━━━━━━\u001b[0m\u001b[37m━\u001b[0m \u001b[1m0s\u001b[0m 22ms/step - binary_accuracy: 0.9159 - false_negatives_3: 483.8660 - false_positives_3: 582.2268 - loss: 0.2328\n",
            "Epoch 9: val_loss did not improve from 0.34450\n",
            "\u001b[1m98/98\u001b[0m \u001b[32m━━━━━━━━━━━━━━━━━━━━\u001b[0m\u001b[37m\u001b[0m \u001b[1m2s\u001b[0m 25ms/step - binary_accuracy: 0.9159 - false_negatives_3: 493.6667 - false_positives_3: 594.0606 - loss: 0.2329 - val_binary_accuracy: 0.8354 - val_false_negatives_3: 190.0000 - val_false_positives_3: 633.0000 - val_loss: 0.4373\n",
            "Epoch 9: early stopping\n"
          ]
        },
        {
          "output_type": "stream",
          "name": "stderr",
          "text": [
            "WARNING:absl:Compiled the loaded model, but the compiled metrics have yet to be built. `model.compile_metrics` will be empty until you train or evaluate the model.\n"
          ]
        },
        {
          "output_type": "stream",
          "name": "stdout",
          "text": [
            "\u001b[1m20/20\u001b[0m \u001b[32m━━━━━━━━━━━━━━━━━━━━\u001b[0m\u001b[37m\u001b[0m \u001b[1m1s\u001b[0m 24ms/step\n",
            "----------------------------------------------------------------------------------------------------\n",
            "Number of zeros incorrectly classified: 452.0, Number of ones incorrectly classified: 327.0\n",
            "Sample ratio for positives: 0.4197689345314506, Sample ratio for negatives:0.5802310654685494\n",
            "Starting training with 29997 samples\n",
            "----------------------------------------------------------------------------------------------------\n",
            "Epoch 1/20\n",
            "\u001b[1m118/118\u001b[0m \u001b[32m━━━━━━━━━━━━━━━━━━━━\u001b[0m\u001b[37m\u001b[0m \u001b[1m0s\u001b[0m 51ms/step - binary_accuracy: 0.8815 - false_negatives_4: 797.7119 - false_positives_4: 970.6102 - loss: 0.3106\n",
            "Epoch 1: val_loss did not improve from 0.34450\n",
            "\u001b[1m118/118\u001b[0m \u001b[32m━━━━━━━━━━━━━━━━━━━━\u001b[0m\u001b[37m\u001b[0m \u001b[1m12s\u001b[0m 58ms/step - binary_accuracy: 0.8815 - false_negatives_4: 804.2353 - false_positives_4: 978.4958 - loss: 0.3105 - val_binary_accuracy: 0.8502 - val_false_negatives_4: 228.0000 - val_false_positives_4: 521.0000 - val_loss: 0.3517\n",
            "Epoch 2/20\n",
            "\u001b[1m117/118\u001b[0m \u001b[32m━━━━━━━━━━━━━━━━━━━\u001b[0m\u001b[37m━\u001b[0m \u001b[1m0s\u001b[0m 21ms/step - binary_accuracy: 0.9023 - false_negatives_4: 697.1539 - false_positives_4: 834.7521 - loss: 0.2640\n",
            "Epoch 2: val_loss did not improve from 0.34450\n",
            "\u001b[1m118/118\u001b[0m \u001b[32m━━━━━━━━━━━━━━━━━━━━\u001b[0m\u001b[37m\u001b[0m \u001b[1m13s\u001b[0m 24ms/step - binary_accuracy: 0.9021 - false_negatives_4: 710.0252 - false_positives_4: 849.4790 - loss: 0.2642 - val_binary_accuracy: 0.8432 - val_false_negatives_4: 580.0000 - val_false_positives_4: 204.0000 - val_loss: 0.3827\n",
            "Epoch 3/20\n",
            "\u001b[1m118/118\u001b[0m \u001b[32m━━━━━━━━━━━━━━━━━━━━\u001b[0m\u001b[37m\u001b[0m \u001b[1m0s\u001b[0m 20ms/step - binary_accuracy: 0.9034 - false_negatives_4: 684.5508 - false_positives_4: 769.4068 - loss: 0.2581\n",
            "Epoch 3: val_loss improved from 0.34450 to 0.33729, saving model to AL_Model.h5\n"
          ]
        },
        {
          "output_type": "stream",
          "name": "stderr",
          "text": [
            "WARNING:absl:You are saving your model as an HDF5 file via `model.save()` or `keras.saving.save_model(model)`. This file format is considered legacy. We recommend using instead the native Keras format, e.g. `model.save('my_model.keras')` or `keras.saving.save_model(model, 'my_model.keras')`. \n"
          ]
        },
        {
          "output_type": "stream",
          "name": "stdout",
          "text": [
            "\b\b\b\b\b\b\b\b\b\b\b\b\b\b\b\b\b\b\b\b\b\b\b\b\b\b\b\b\b\b\b\b\b\b\b\b\b\b\b\b\b\b\b\b\b\b\b\b\b\b\b\b\b\b\b\b\b\b\b\b\b\b\b\b\b\b\b\b\b\b\b\b\b\b\b\b\b\b\b\b\b\b\b\b\b\b\b\b\b\b\b\b\b\b\b\b\b\b\b\b\b\b\b\b\b\b\b\b\b\b\b\b\b\b\b\b\b\b\b\b\b\b\b\b\b\b\b\b\b\b\b\b\b\b\b\b\b\b\b\b\b\b\r\u001b[1m118/118\u001b[0m \u001b[32m━━━━━━━━━━━━━━━━━━━━\u001b[0m\u001b[37m\u001b[0m \u001b[1m3s\u001b[0m 23ms/step - binary_accuracy: 0.9034 - false_negatives_4: 690.3278 - false_positives_4: 775.9580 - loss: 0.2581 - val_binary_accuracy: 0.8520 - val_false_negatives_4: 314.0000 - val_false_positives_4: 426.0000 - val_loss: 0.3373\n",
            "Epoch 4/20\n",
            "\u001b[1m117/118\u001b[0m \u001b[32m━━━━━━━━━━━━━━━━━━━\u001b[0m\u001b[37m━\u001b[0m \u001b[1m0s\u001b[0m 22ms/step - binary_accuracy: 0.9143 - false_negatives_4: 610.3419 - false_positives_4: 715.8718 - loss: 0.2451\n",
            "Epoch 4: val_loss did not improve from 0.33729\n",
            "\u001b[1m118/118\u001b[0m \u001b[32m━━━━━━━━━━━━━━━━━━━━\u001b[0m\u001b[37m\u001b[0m \u001b[1m3s\u001b[0m 28ms/step - binary_accuracy: 0.9142 - false_negatives_4: 621.3278 - false_positives_4: 728.7143 - loss: 0.2452 - val_binary_accuracy: 0.8438 - val_false_negatives_4: 558.0000 - val_false_positives_4: 223.0000 - val_loss: 0.3688\n",
            "Epoch 5/20\n",
            "\u001b[1m117/118\u001b[0m \u001b[32m━━━━━━━━━━━━━━━━━━━\u001b[0m\u001b[37m━\u001b[0m \u001b[1m0s\u001b[0m 20ms/step - binary_accuracy: 0.9212 - false_negatives_4: 579.8034 - false_positives_4: 644.3589 - loss: 0.2222\n",
            "Epoch 5: val_loss did not improve from 0.33729\n",
            "\u001b[1m118/118\u001b[0m \u001b[32m━━━━━━━━━━━━━━━━━━━━\u001b[0m\u001b[37m\u001b[0m \u001b[1m3s\u001b[0m 23ms/step - binary_accuracy: 0.9211 - false_negatives_4: 589.9580 - false_positives_4: 656.0840 - loss: 0.2225 - val_binary_accuracy: 0.8532 - val_false_negatives_4: 316.0000 - val_false_positives_4: 418.0000 - val_loss: 0.3541\n",
            "Epoch 6/20\n",
            "\u001b[1m118/118\u001b[0m \u001b[32m━━━━━━━━━━━━━━━━━━━━\u001b[0m\u001b[37m\u001b[0m \u001b[1m0s\u001b[0m 20ms/step - binary_accuracy: 0.9268 - false_negatives_4: 526.4322 - false_positives_4: 623.1610 - loss: 0.2114\n",
            "Epoch 6: val_loss did not improve from 0.33729\n",
            "\u001b[1m118/118\u001b[0m \u001b[32m━━━━━━━━━━━━━━━━━━━━\u001b[0m\u001b[37m\u001b[0m \u001b[1m3s\u001b[0m 23ms/step - binary_accuracy: 0.9268 - false_negatives_4: 531.0924 - false_positives_4: 628.4874 - loss: 0.2115 - val_binary_accuracy: 0.8512 - val_false_negatives_4: 474.0000 - val_false_positives_4: 270.0000 - val_loss: 0.3849\n",
            "Epoch 7/20\n",
            "\u001b[1m118/118\u001b[0m \u001b[32m━━━━━━━━━━━━━━━━━━━━\u001b[0m\u001b[37m\u001b[0m \u001b[1m0s\u001b[0m 20ms/step - binary_accuracy: 0.9275 - false_negatives_4: 531.0763 - false_positives_4: 579.2458 - loss: 0.2032\n",
            "Epoch 7: val_loss did not improve from 0.33729\n",
            "\u001b[1m118/118\u001b[0m \u001b[32m━━━━━━━━━━━━━━━━━━━━\u001b[0m\u001b[37m\u001b[0m \u001b[1m3s\u001b[0m 23ms/step - binary_accuracy: 0.9275 - false_negatives_4: 535.3782 - false_positives_4: 584.1512 - loss: 0.2033 - val_binary_accuracy: 0.8528 - val_false_negatives_4: 384.0000 - val_false_positives_4: 352.0000 - val_loss: 0.3846\n",
            "Epoch 7: early stopping\n"
          ]
        },
        {
          "output_type": "stream",
          "name": "stderr",
          "text": [
            "WARNING:absl:Compiled the loaded model, but the compiled metrics have yet to be built. `model.compile_metrics` will be empty until you train or evaluate the model.\n"
          ]
        },
        {
          "output_type": "display_data",
          "data": {
            "text/plain": [
              "<Figure size 640x480 with 1 Axes>"
            ],
            "image/png": "[encoded data removed]"
          },
          "metadata": {}
        },
        {
          "output_type": "display_data",
          "data": {
            "text/plain": [
              "<Figure size 640x480 with 1 Axes>"
            ],
            "image/png": "[encoded data removed]"
          },
          "metadata": {}
        },
        {
          "output_type": "stream",
          "name": "stdout",
          "text": [
            "----------------------------------------------------------------------------------------------------\n",
            "Test set evaluation:  {'binary_accuracy': 0.8528000116348267, 'false_negatives_4': 335.0, 'false_positives_4': 401.0, 'loss': 0.33934488892555237}\n",
            "----------------------------------------------------------------------------------------------------\n"
          ]
        }
      ]
    }
  ],
  "metadata": {
    "accelerator": "GPU",
    "colab": {
      "gpuType": "T4",
      "provenance": [],
      "authorship_tag": "ABX9TyMwBC7mbUtSmyOOlH31Pd4S",
      "include_colab_link": true
    },
    "kernelspec": {
      "display_name": "Python 3",
      "name": "python3"
    },
    "language_info": {
      "name": "python"
    }
  },
  "nbformat": 4,
  "nbformat_minor": 0
}