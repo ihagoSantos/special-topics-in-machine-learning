{
  "cells": [
    {
      "cell_type": "markdown",
      "metadata": {
        "id": "view-in-github",
        "colab_type": "text"
      },
      "source": [
        "<a href=\"https://colab.research.google.com/github/ihagoSantos/special-topics-in-machine-learning/blob/main/03_transformers.ipynb\" target=\"_parent\"><img src=\"https://colab.research.google.com/assets/colab-badge.svg\" alt=\"Open In Colab\"/></a>"
      ]
    },
    {
      "cell_type": "markdown",
      "id": "b076bd1a-b236-4fbc-953d-8295b25122ae",
      "metadata": {
        "id": "b076bd1a-b236-4fbc-953d-8295b25122ae"
      },
      "source": [
        "# GPT"
      ]
    },
    {
      "cell_type": "markdown",
      "id": "3e6cb7c7-d3d5-4b12-b357-1f6118edffe0",
      "metadata": {
        "id": "3e6cb7c7-d3d5-4b12-b357-1f6118edffe0"
      },
      "source": [
        "O código é adaptado [GPT tutorial](https://keras.io/examples/generative/text_generation_with_miniature_gpt/) criado por Apoorv Nandan.\n",
        "\n",
        "Ref.: David Foster. Generative Deep Learning. O'Reilly Media; 2nd ed. 2023.\n",
        "\n",
        "Link para o original: https://github.com/davidADSP/Generative_Deep_Learning_2nd_Edition/blob/main/notebooks/09_transformer/gpt/gpt.ipynb"
      ]
    },
    {
      "cell_type": "code",
      "source": [
        "!mkdir checkpoint\n",
        "!mkdir models"
      ],
      "metadata": {
        "id": "nW18emWZFmoD"
      },
      "id": "nW18emWZFmoD",
      "execution_count": 3,
      "outputs": []
    },
    {
      "cell_type": "code",
      "execution_count": 4,
      "id": "73350761-bef2-4e96-b3ac-a158eabd2b65",
      "metadata": {
        "tags": [],
        "id": "73350761-bef2-4e96-b3ac-a158eabd2b65"
      },
      "outputs": [],
      "source": [
        "%load_ext autoreload\n",
        "%autoreload 2\n",
        "import numpy as np\n",
        "import json\n",
        "import re\n",
        "import string\n",
        "from IPython.display import display, HTML\n",
        "\n",
        "import tensorflow as tf\n",
        "from tensorflow.keras import layers, models, losses, callbacks"
      ]
    },
    {
      "cell_type": "markdown",
      "id": "339e6268-ebd7-4feb-86db-1fe7abccdbe5",
      "metadata": {
        "id": "339e6268-ebd7-4feb-86db-1fe7abccdbe5"
      },
      "source": [
        "## 0. Parameters <a name=\"parameters\"></a>"
      ]
    },
    {
      "cell_type": "code",
      "execution_count": 9,
      "id": "2d8352af-343e-4c2e-8c91-95f8bac1c8a1",
      "metadata": {
        "id": "2d8352af-343e-4c2e-8c91-95f8bac1c8a1"
      },
      "outputs": [],
      "source": [
        "VOCAB_SIZE = 10000\n",
        "MAX_LEN = 80 # Tamanho máximo de palavras do texto produzido\n",
        "EMBEDDING_DIM = 256\n",
        "KEY_DIM = 256\n",
        "N_HEADS = 2 # Num de attention heads\n",
        "FEED_FORWARD_DIM = 256\n",
        "VALIDATION_SPLIT = 0.2\n",
        "SEED = 42\n",
        "LOAD_MODEL = False\n",
        "BATCH_SIZE = 32\n",
        "EPOCHS = 5"
      ]
    },
    {
      "cell_type": "markdown",
      "id": "b7716fac-0010-49b0-b98e-53be2259edde",
      "metadata": {
        "id": "b7716fac-0010-49b0-b98e-53be2259edde"
      },
      "source": [
        "## 1. Load the data <a name=\"load\"></a>"
      ]
    },
    {
      "cell_type": "code",
      "execution_count": 6,
      "id": "93cf6b0f-9667-4146-8911-763a8a2925d3",
      "metadata": {
        "tags": [],
        "id": "93cf6b0f-9667-4146-8911-763a8a2925d3"
      },
      "outputs": [],
      "source": [
        "# Load the full dataset\n",
        "with open(\"winemag-data-130k-v2.json\") as json_data:\n",
        "    wine_data = json.load(json_data)"
      ]
    },
    {
      "cell_type": "code",
      "source": [
        "len(wine_data)"
      ],
      "metadata": {
        "colab": {
          "base_uri": "https://localhost:8080/"
        },
        "id": "5cVFXEh6BdQL",
        "outputId": "20cab2a7-f39a-4b84-b1c5-7971494b1ad5"
      },
      "id": "5cVFXEh6BdQL",
      "execution_count": 7,
      "outputs": [
        {
          "output_type": "execute_result",
          "data": {
            "text/plain": [
              "129971"
            ]
          },
          "metadata": {},
          "execution_count": 7
        }
      ]
    },
    {
      "cell_type": "code",
      "execution_count": 8,
      "id": "2db5c0fc-0d5f-42ab-ade1-57e594c416ec",
      "metadata": {
        "tags": [],
        "id": "2db5c0fc-0d5f-42ab-ade1-57e594c416ec",
        "colab": {
          "base_uri": "https://localhost:8080/"
        },
        "outputId": "84c657c7-dcfb-413d-d86d-0b1041dc3087"
      },
      "outputs": [
        {
          "output_type": "execute_result",
          "data": {
            "text/plain": [
              "{'points': '87',\n",
              " 'title': 'Kirkland Signature 2011 Mountain Cuvée Cabernet Sauvignon (Napa Valley)',\n",
              " 'description': 'Soft, supple plum envelopes an oaky structure in this Cabernet, supported by 15% Merlot. Coffee and chocolate complete the picture, finishing strong at the end, resulting in a value-priced wine of attractive flavor and immediate accessibility.',\n",
              " 'taster_name': 'Virginie Boone',\n",
              " 'taster_twitter_handle': '@vboone',\n",
              " 'price': 19,\n",
              " 'designation': 'Mountain Cuvée',\n",
              " 'variety': 'Cabernet Sauvignon',\n",
              " 'region_1': 'Napa Valley',\n",
              " 'region_2': 'Napa',\n",
              " 'province': 'California',\n",
              " 'country': 'US',\n",
              " 'winery': 'Kirkland Signature'}"
            ]
          },
          "metadata": {},
          "execution_count": 8
        }
      ],
      "source": [
        "wine_data[10]"
      ]
    },
    {
      "cell_type": "code",
      "execution_count": 10,
      "id": "23a74eca-f1b7-4a46-9a1f-b5806a4ed361",
      "metadata": {
        "tags": [],
        "id": "23a74eca-f1b7-4a46-9a1f-b5806a4ed361"
      },
      "outputs": [],
      "source": [
        "# Filter the dataset\n",
        "filtered_data = [\n",
        "    \"wine review : \"\n",
        "    + x[\"country\"]\n",
        "    + \" : \"\n",
        "    + x[\"province\"]\n",
        "    + \" : \"\n",
        "    + x[\"variety\"]\n",
        "    + \" : \"\n",
        "    + x[\"description\"]\n",
        "    for x in wine_data\n",
        "    if x[\"country\"] is not None\n",
        "    and x[\"province\"] is not None\n",
        "    and x[\"variety\"] is not None\n",
        "    and x[\"description\"] is not None\n",
        "]"
      ]
    },
    {
      "cell_type": "code",
      "execution_count": 11,
      "id": "389c20de-0422-4c48-a7b4-6ee12a7bf0e2",
      "metadata": {
        "tags": [],
        "id": "389c20de-0422-4c48-a7b4-6ee12a7bf0e2",
        "colab": {
          "base_uri": "https://localhost:8080/"
        },
        "outputId": "1d5a2c9e-2108-46da-d6a2-823e97b19e97"
      },
      "outputs": [
        {
          "output_type": "stream",
          "name": "stdout",
          "text": [
            "129907 recipes loaded\n"
          ]
        }
      ],
      "source": [
        "# Count the recipes\n",
        "n_wines = len(filtered_data)\n",
        "print(f\"{n_wines} recipes loaded\")"
      ]
    },
    {
      "cell_type": "code",
      "execution_count": 12,
      "id": "1b2e3cf7-e416-460e-874a-0dd9637bca36",
      "metadata": {
        "id": "1b2e3cf7-e416-460e-874a-0dd9637bca36",
        "colab": {
          "base_uri": "https://localhost:8080/"
        },
        "outputId": "28c0c320-d7f8-48a1-d42f-002472906c36"
      },
      "outputs": [
        {
          "output_type": "stream",
          "name": "stdout",
          "text": [
            "wine review : US : California : Pinot Noir : Oak and earth intermingle around robust aromas of wet forest floor in this vineyard-designated Pinot that hails from a high-elevation site. Small in production, it offers intense, full-bodied raspberry and blackberry steeped in smoky spice and smooth texture.\n"
          ]
        }
      ],
      "source": [
        "example = filtered_data[25]\n",
        "print(example)"
      ]
    },
    {
      "cell_type": "markdown",
      "id": "3f871aaf-d873-41c7-8946-e4eef7ac17c1",
      "metadata": {
        "id": "3f871aaf-d873-41c7-8946-e4eef7ac17c1"
      },
      "source": [
        "\n",
        "## 2. Tokenize the data <a name=\"tokenize\"></a>"
      ]
    },
    {
      "cell_type": "code",
      "execution_count": 13,
      "id": "5b2064fb-5dcc-4657-b470-0928d10e2ddc",
      "metadata": {
        "tags": [],
        "id": "5b2064fb-5dcc-4657-b470-0928d10e2ddc"
      },
      "outputs": [],
      "source": [
        "# Pad the punctuation, to treat them as separate 'words'\n",
        "def pad_punctuation(s):\n",
        "    s = re.sub(f\"([{string.punctuation}, '\\n'])\", r\" \\1 \", s)\n",
        "    s = re.sub(\" +\", \" \", s)\n",
        "    return s\n",
        "\n",
        "\n",
        "text_data = [pad_punctuation(x) for x in filtered_data]"
      ]
    },
    {
      "cell_type": "code",
      "execution_count": 14,
      "id": "b87d7c65-9a46-492a-a5c0-a043b0d252f3",
      "metadata": {
        "id": "b87d7c65-9a46-492a-a5c0-a043b0d252f3",
        "colab": {
          "base_uri": "https://localhost:8080/",
          "height": 87
        },
        "outputId": "2d1d6108-5e7f-45f7-8df3-4becabfd8e3b"
      },
      "outputs": [
        {
          "output_type": "execute_result",
          "data": {
            "text/plain": [
              "'wine review : US : California : Pinot Noir : Oak and earth intermingle around robust aromas of wet forest floor in this vineyard - designated Pinot that hails from a high - elevation site . Small in production , it offers intense , full - bodied raspberry and blackberry steeped in smoky spice and smooth texture . '"
            ],
            "application/vnd.google.colaboratory.intrinsic+json": {
              "type": "string"
            }
          },
          "metadata": {},
          "execution_count": 14
        }
      ],
      "source": [
        "# Display an example of a recipe\n",
        "example_data = text_data[25]\n",
        "example_data"
      ]
    },
    {
      "cell_type": "code",
      "execution_count": 15,
      "id": "9834f916-b21a-4104-acc9-f28d3bd7a8c1",
      "metadata": {
        "tags": [],
        "id": "9834f916-b21a-4104-acc9-f28d3bd7a8c1"
      },
      "outputs": [],
      "source": [
        "# Convert to a Tensorflow Dataset\n",
        "text_ds = (\n",
        "    tf.data.Dataset.from_tensor_slices(text_data)\n",
        "    .batch(BATCH_SIZE)\n",
        "    .shuffle(1000)\n",
        ")"
      ]
    },
    {
      "cell_type": "code",
      "execution_count": 16,
      "id": "884c0bcb-0807-45a1-8f7e-a32f2c6fa4de",
      "metadata": {
        "id": "884c0bcb-0807-45a1-8f7e-a32f2c6fa4de"
      },
      "outputs": [],
      "source": [
        "# Create a vectorisation layer\n",
        "vectorize_layer = layers.TextVectorization(\n",
        "    standardize=\"lower\",\n",
        "    max_tokens=VOCAB_SIZE,\n",
        "    output_mode=\"int\",\n",
        "    output_sequence_length=MAX_LEN + 1,\n",
        ")"
      ]
    },
    {
      "cell_type": "code",
      "execution_count": 17,
      "id": "4d6dd34a-d905-497b-926a-405380ebcf98",
      "metadata": {
        "id": "4d6dd34a-d905-497b-926a-405380ebcf98"
      },
      "outputs": [],
      "source": [
        "# Adapt the layer to the training set\n",
        "vectorize_layer.adapt(text_ds)\n",
        "vocab = vectorize_layer.get_vocabulary()"
      ]
    },
    {
      "cell_type": "code",
      "execution_count": 18,
      "id": "f6c1c7ce-3cf0-40d4-a3dc-ab7090f69f2f",
      "metadata": {
        "id": "f6c1c7ce-3cf0-40d4-a3dc-ab7090f69f2f",
        "colab": {
          "base_uri": "https://localhost:8080/"
        },
        "outputId": "9b4f8ca2-f6c1-42ff-bf62-cedd1bb202d6"
      },
      "outputs": [
        {
          "output_type": "stream",
          "name": "stdout",
          "text": [
            "0: \n",
            "1: [UNK]\n",
            "2: :\n",
            "3: ,\n",
            "4: .\n",
            "5: and\n",
            "6: the\n",
            "7: wine\n",
            "8: a\n",
            "9: of\n"
          ]
        }
      ],
      "source": [
        "# Display some token:word mappings\n",
        "for i, word in enumerate(vocab[:10]):\n",
        "    print(f\"{i}: {word}\")"
      ]
    },
    {
      "cell_type": "code",
      "execution_count": 19,
      "id": "1cc30186-7ec6-4eb6-b29a-65df6714d321",
      "metadata": {
        "id": "1cc30186-7ec6-4eb6-b29a-65df6714d321",
        "colab": {
          "base_uri": "https://localhost:8080/"
        },
        "outputId": "edad6570-456e-4e5b-beb7-bffd798a3bb6"
      },
      "outputs": [
        {
          "output_type": "stream",
          "name": "stdout",
          "text": [
            "[   7   10    2   20    2   29    2   43   62    2   55    5  243 4145\n",
            "  453  634   26    9  497  499  667   17   12  142   14 2214   43   25\n",
            " 2484   32    8  223   14 2213  948    4  594   17  987    3   15   75\n",
            "  237    3   64   14   82   97    5   74 2633   17  198   49    5  125\n",
            "   77    4    0    0    0    0    0    0    0    0    0    0    0    0\n",
            "    0    0    0    0    0    0    0    0    0    0    0]\n"
          ]
        }
      ],
      "source": [
        "# Display the same example converted to ints\n",
        "example_tokenised = vectorize_layer(example_data)\n",
        "print(example_tokenised.numpy())"
      ]
    },
    {
      "cell_type": "markdown",
      "id": "8c195efb-84c6-4be0-a989-a7542188ad35",
      "metadata": {
        "id": "8c195efb-84c6-4be0-a989-a7542188ad35"
      },
      "source": [
        "## 3. Create the Training Set <a name=\"create\"></a>"
      ]
    },
    {
      "cell_type": "code",
      "execution_count": 20,
      "id": "740294a1-1a6b-4c89-92f2-036d7d1b788b",
      "metadata": {
        "id": "740294a1-1a6b-4c89-92f2-036d7d1b788b"
      },
      "outputs": [],
      "source": [
        "# Create the training set of recipes and the same text shifted by one word\n",
        "def prepare_inputs(text):\n",
        "    text = tf.expand_dims(text, -1)\n",
        "    tokenized_sentences = vectorize_layer(text)\n",
        "    x = tokenized_sentences[:, :-1]\n",
        "    y = tokenized_sentences[:, 1:]\n",
        "    return x, y\n",
        "\n",
        "\n",
        "train_ds = text_ds.map(prepare_inputs)"
      ]
    },
    {
      "cell_type": "code",
      "execution_count": 21,
      "id": "cad80ffb-4298-4249-86b4-9918d62534c5",
      "metadata": {
        "id": "cad80ffb-4298-4249-86b4-9918d62534c5"
      },
      "outputs": [],
      "source": [
        "example_input_output = train_ds.take(1).get_single_element()"
      ]
    },
    {
      "cell_type": "code",
      "execution_count": 22,
      "id": "67ff7263-f62d-44c1-997b-1aa99a393521",
      "metadata": {
        "id": "67ff7263-f62d-44c1-997b-1aa99a393521",
        "colab": {
          "base_uri": "https://localhost:8080/"
        },
        "outputId": "9e374c90-f2da-4291-b50b-932dead873d6"
      },
      "outputs": [
        {
          "output_type": "execute_result",
          "data": {
            "text/plain": [
              "<tf.Tensor: shape=(80,), dtype=int64, numpy=\n",
              "array([   7,   10,    2,   42,    2,  513,   42,    2, 2655,    5,  374,\n",
              "       1909,    2,    6,    7,   13,   38,    5,  718,   58,    4,   15,\n",
              "         41,    8,  180,  120,    3,  136,   77,    5,  237,   30,    4,\n",
              "         79,   13,    8,  273,  269,   17,   12,  197,    7,   25,  113,\n",
              "       2682,  891,   51,    6,   38,   53,   22, 8599,  915,    4,   88,\n",
              "          6,  329,    3,   79,   13,    8,  108,    9,  217,    4,    0,\n",
              "          0,    0,    0,    0,    0,    0,    0,    0,    0,    0,    0,\n",
              "          0,    0,    0])>"
            ]
          },
          "metadata": {},
          "execution_count": 22
        }
      ],
      "source": [
        "# Example Input\n",
        "example_input_output[0][0]"
      ]
    },
    {
      "cell_type": "code",
      "execution_count": 23,
      "id": "ef2e2cad-414c-4e6d-a2ac-6b9598f9dd01",
      "metadata": {
        "id": "ef2e2cad-414c-4e6d-a2ac-6b9598f9dd01",
        "colab": {
          "base_uri": "https://localhost:8080/"
        },
        "outputId": "5db1028e-d79b-434f-b849-ec4081420218"
      },
      "outputs": [
        {
          "output_type": "execute_result",
          "data": {
            "text/plain": [
              "<tf.Tensor: shape=(80,), dtype=int64, numpy=\n",
              "array([  10,    2,   42,    2,  513,   42,    2, 2655,    5,  374, 1909,\n",
              "          2,    6,    7,   13,   38,    5,  718,   58,    4,   15,   41,\n",
              "          8,  180,  120,    3,  136,   77,    5,  237,   30,    4,   79,\n",
              "         13,    8,  273,  269,   17,   12,  197,    7,   25,  113, 2682,\n",
              "        891,   51,    6,   38,   53,   22, 8599,  915,    4,   88,    6,\n",
              "        329,    3,   79,   13,    8,  108,    9,  217,    4,    0,    0,\n",
              "          0,    0,    0,    0,    0,    0,    0,    0,    0,    0,    0,\n",
              "          0,    0,    0])>"
            ]
          },
          "metadata": {},
          "execution_count": 23
        }
      ],
      "source": [
        "# Example Output (shifted by one token)\n",
        "example_input_output[1][0]"
      ]
    },
    {
      "cell_type": "markdown",
      "id": "aff50401-3abe-4c10-bba8-b35bc13ad7d5",
      "metadata": {
        "tags": [],
        "id": "aff50401-3abe-4c10-bba8-b35bc13ad7d5"
      },
      "source": [
        "## 5. Create the causal attention mask function <a name=\"causal\"></a>"
      ]
    },
    {
      "cell_type": "code",
      "execution_count": 24,
      "id": "554a4184-61c2-4eb7-a063-d965586a8188",
      "metadata": {
        "id": "554a4184-61c2-4eb7-a063-d965586a8188",
        "colab": {
          "base_uri": "https://localhost:8080/"
        },
        "outputId": "46d13751-b3e2-4ae5-8146-beea9bdde739"
      },
      "outputs": [
        {
          "output_type": "execute_result",
          "data": {
            "text/plain": [
              "array([[1, 1, 1, 1, 1, 1, 1, 1, 1, 1],\n",
              "       [0, 1, 1, 1, 1, 1, 1, 1, 1, 1],\n",
              "       [0, 0, 1, 1, 1, 1, 1, 1, 1, 1],\n",
              "       [0, 0, 0, 1, 1, 1, 1, 1, 1, 1],\n",
              "       [0, 0, 0, 0, 1, 1, 1, 1, 1, 1],\n",
              "       [0, 0, 0, 0, 0, 1, 1, 1, 1, 1],\n",
              "       [0, 0, 0, 0, 0, 0, 1, 1, 1, 1],\n",
              "       [0, 0, 0, 0, 0, 0, 0, 1, 1, 1],\n",
              "       [0, 0, 0, 0, 0, 0, 0, 0, 1, 1],\n",
              "       [0, 0, 0, 0, 0, 0, 0, 0, 0, 1]], dtype=int32)"
            ]
          },
          "metadata": {},
          "execution_count": 24
        }
      ],
      "source": [
        "def causal_attention_mask(batch_size, n_dest, n_src, dtype):\n",
        "    i = tf.range(n_dest)[:, None]\n",
        "    j = tf.range(n_src)\n",
        "    m = i >= j - n_src + n_dest\n",
        "    mask = tf.cast(m, dtype)\n",
        "    mask = tf.reshape(mask, [1, n_dest, n_src])\n",
        "    mult = tf.concat(\n",
        "        [tf.expand_dims(batch_size, -1), tf.constant([1, 1], dtype=tf.int32)], 0\n",
        "    )\n",
        "    return tf.tile(mask, mult)\n",
        "\n",
        "\n",
        "np.transpose(causal_attention_mask(1, 10, 10, dtype=tf.int32)[0])"
      ]
    },
    {
      "cell_type": "markdown",
      "id": "3501dbad-0860-40ad-b7d6-47950e37858f",
      "metadata": {
        "id": "3501dbad-0860-40ad-b7d6-47950e37858f"
      },
      "source": [
        "## 6. Create a Transformer Block layer <a name=\"transformer\"></a>"
      ]
    },
    {
      "cell_type": "code",
      "execution_count": 25,
      "id": "5285a1cb-fce1-46b1-b088-b596002fa9ae",
      "metadata": {
        "id": "5285a1cb-fce1-46b1-b088-b596002fa9ae"
      },
      "outputs": [],
      "source": [
        "class TransformerBlock(layers.Layer):\n",
        "    def __init__(self, num_heads, key_dim, embed_dim, ff_dim, dropout_rate=0.1):\n",
        "        super(TransformerBlock, self).__init__()\n",
        "        self.num_heads = num_heads\n",
        "        self.key_dim = key_dim\n",
        "        self.embed_dim = embed_dim\n",
        "        self.ff_dim = ff_dim\n",
        "        self.dropout_rate = dropout_rate\n",
        "        self.attn = layers.MultiHeadAttention(\n",
        "            num_heads, key_dim, output_shape=embed_dim\n",
        "        )\n",
        "        self.dropout_1 = layers.Dropout(self.dropout_rate)\n",
        "        self.ln_1 = layers.LayerNormalization(epsilon=1e-6)\n",
        "        self.ffn_1 = layers.Dense(self.ff_dim, activation=\"relu\")\n",
        "        self.ffn_2 = layers.Dense(self.embed_dim)\n",
        "        self.dropout_2 = layers.Dropout(self.dropout_rate)\n",
        "        self.ln_2 = layers.LayerNormalization(epsilon=1e-6)\n",
        "\n",
        "    def call(self, inputs):\n",
        "        input_shape = tf.shape(inputs)\n",
        "        batch_size = input_shape[0]\n",
        "        seq_len = input_shape[1]\n",
        "        causal_mask = causal_attention_mask(\n",
        "            batch_size, seq_len, seq_len, tf.bool\n",
        "        )\n",
        "        attention_output, attention_scores = self.attn(\n",
        "            inputs,\n",
        "            inputs,\n",
        "            attention_mask=causal_mask,\n",
        "            return_attention_scores=True,\n",
        "        )\n",
        "        attention_output = self.dropout_1(attention_output)\n",
        "        out1 = self.ln_1(inputs + attention_output)\n",
        "        ffn_1 = self.ffn_1(out1)\n",
        "        ffn_2 = self.ffn_2(ffn_1)\n",
        "        ffn_output = self.dropout_2(ffn_2)\n",
        "        return (self.ln_2(out1 + ffn_output), attention_scores)\n",
        "\n",
        "    def get_config(self):\n",
        "        config = super().get_config()\n",
        "        config.update(\n",
        "            {\n",
        "                \"key_dim\": self.key_dim,\n",
        "                \"embed_dim\": self.embed_dim,\n",
        "                \"num_heads\": self.num_heads,\n",
        "                \"ff_dim\": self.ff_dim,\n",
        "                \"dropout_rate\": self.dropout_rate,\n",
        "            }\n",
        "        )\n",
        "        return config"
      ]
    },
    {
      "cell_type": "markdown",
      "id": "076a6be0-9796-4974-9bcd-6ebbcfe7514e",
      "metadata": {
        "tags": [],
        "id": "076a6be0-9796-4974-9bcd-6ebbcfe7514e"
      },
      "source": [
        "## 7. Create the Token and Position Embedding <a name=\"embedder\"></a>"
      ]
    },
    {
      "cell_type": "code",
      "execution_count": 26,
      "id": "fdf5cb25-88ae-4026-9e21-c1e6b5094a2c",
      "metadata": {
        "id": "fdf5cb25-88ae-4026-9e21-c1e6b5094a2c"
      },
      "outputs": [],
      "source": [
        "class TokenAndPositionEmbedding(layers.Layer):\n",
        "    def __init__(self, max_len, vocab_size, embed_dim):\n",
        "        super(TokenAndPositionEmbedding, self).__init__()\n",
        "        self.max_len = max_len\n",
        "        self.vocab_size = vocab_size\n",
        "        self.embed_dim = embed_dim\n",
        "        self.token_emb = layers.Embedding(\n",
        "            input_dim=vocab_size, output_dim=embed_dim\n",
        "        )\n",
        "        self.pos_emb = layers.Embedding(input_dim=max_len, output_dim=embed_dim)\n",
        "\n",
        "    def call(self, x):\n",
        "        maxlen = tf.shape(x)[-1]\n",
        "        positions = tf.range(start=0, limit=maxlen, delta=1)\n",
        "        positions = self.pos_emb(positions)\n",
        "        x = self.token_emb(x)\n",
        "        return x + positions\n",
        "\n",
        "    def get_config(self):\n",
        "        config = super().get_config()\n",
        "        config.update(\n",
        "            {\n",
        "                \"max_len\": self.max_len,\n",
        "                \"vocab_size\": self.vocab_size,\n",
        "                \"embed_dim\": self.embed_dim,\n",
        "            }\n",
        "        )\n",
        "        return config"
      ]
    },
    {
      "cell_type": "markdown",
      "id": "aac2e2d4-5980-47e3-b5b0-6c41c0c2d152",
      "metadata": {
        "id": "aac2e2d4-5980-47e3-b5b0-6c41c0c2d152"
      },
      "source": [
        "## 8. Build the Transformer model <a name=\"transformer_decoder\"></a>"
      ]
    },
    {
      "cell_type": "code",
      "execution_count": 27,
      "id": "8c57596e-e17d-4959-b6e8-7581b0bace3a",
      "metadata": {
        "id": "8c57596e-e17d-4959-b6e8-7581b0bace3a"
      },
      "outputs": [],
      "source": [
        "inputs = layers.Input(shape=(None,), dtype=tf.int32)\n",
        "x = TokenAndPositionEmbedding(MAX_LEN, VOCAB_SIZE, EMBEDDING_DIM)(inputs)\n",
        "x, attention_scores = TransformerBlock(\n",
        "    N_HEADS, KEY_DIM, EMBEDDING_DIM, FEED_FORWARD_DIM\n",
        ")(x)\n",
        "outputs = layers.Dense(VOCAB_SIZE, activation=\"softmax\")(x)\n",
        "gpt = models.Model(inputs=inputs, outputs=[outputs, attention_scores])\n",
        "gpt.compile(\"adam\", loss=[losses.SparseCategoricalCrossentropy(), None])"
      ]
    },
    {
      "cell_type": "code",
      "execution_count": 28,
      "id": "1a1c3b0f-3382-444d-bb04-bae143ae5d61",
      "metadata": {
        "id": "1a1c3b0f-3382-444d-bb04-bae143ae5d61",
        "colab": {
          "base_uri": "https://localhost:8080/",
          "height": 289
        },
        "outputId": "9f61ba2d-0595-4aae-9802-bf97d152f564"
      },
      "outputs": [
        {
          "output_type": "display_data",
          "data": {
            "text/plain": [
              "\u001b[1mModel: \"functional\"\u001b[0m\n"
            ],
            "text/html": [
              "<pre style=\"white-space:pre;overflow-x:auto;line-height:normal;font-family:Menlo,'DejaVu Sans Mono',consolas,'Courier New',monospace\"><span style=\"font-weight: bold\">Model: \"functional\"</span>\n",
              "</pre>\n"
            ]
          },
          "metadata": {}
        },
        {
          "output_type": "display_data",
          "data": {
            "text/plain": [
              "┏━━━━━━━━━━━━━━━━━━━━━━━━━━━━━━━━━┳━━━━━━━━━━━━━━━━━━━━━━━━┳━━━━━━━━━━━━━━━┓\n",
              "┃\u001b[1m \u001b[0m\u001b[1mLayer (type)                   \u001b[0m\u001b[1m \u001b[0m┃\u001b[1m \u001b[0m\u001b[1mOutput Shape          \u001b[0m\u001b[1m \u001b[0m┃\u001b[1m \u001b[0m\u001b[1m      Param #\u001b[0m\u001b[1m \u001b[0m┃\n",
              "┡━━━━━━━━━━━━━━━━━━━━━━━━━━━━━━━━━╇━━━━━━━━━━━━━━━━━━━━━━━━╇━━━━━━━━━━━━━━━┩\n",
              "│ input_layer (\u001b[38;5;33mInputLayer\u001b[0m)        │ (\u001b[38;5;45mNone\u001b[0m, \u001b[38;5;45mNone\u001b[0m)           │             \u001b[38;5;34m0\u001b[0m │\n",
              "├─────────────────────────────────┼────────────────────────┼───────────────┤\n",
              "│ token_and_position_embedding    │ (\u001b[38;5;45mNone\u001b[0m, \u001b[38;5;45mNone\u001b[0m, \u001b[38;5;34m256\u001b[0m)      │     \u001b[38;5;34m2,580,480\u001b[0m │\n",
              "│ (\u001b[38;5;33mTokenAndPositionEmbedding\u001b[0m)     │                        │               │\n",
              "├─────────────────────────────────┼────────────────────────┼───────────────┤\n",
              "│ transformer_block               │ [(\u001b[38;5;45mNone\u001b[0m, \u001b[38;5;45mNone\u001b[0m, \u001b[38;5;34m256\u001b[0m),    │       \u001b[38;5;34m658,688\u001b[0m │\n",
              "│ (\u001b[38;5;33mTransformerBlock\u001b[0m)              │ (\u001b[38;5;45mNone\u001b[0m, \u001b[38;5;34m2\u001b[0m, \u001b[38;5;45mNone\u001b[0m, \u001b[38;5;45mNone\u001b[0m)] │               │\n",
              "├─────────────────────────────────┼────────────────────────┼───────────────┤\n",
              "│ dense_2 (\u001b[38;5;33mDense\u001b[0m)                 │ (\u001b[38;5;45mNone\u001b[0m, \u001b[38;5;45mNone\u001b[0m, \u001b[38;5;34m10000\u001b[0m)    │     \u001b[38;5;34m2,570,000\u001b[0m │\n",
              "└─────────────────────────────────┴────────────────────────┴───────────────┘\n"
            ],
            "text/html": [
              "<pre style=\"white-space:pre;overflow-x:auto;line-height:normal;font-family:Menlo,'DejaVu Sans Mono',consolas,'Courier New',monospace\">┏━━━━━━━━━━━━━━━━━━━━━━━━━━━━━━━━━┳━━━━━━━━━━━━━━━━━━━━━━━━┳━━━━━━━━━━━━━━━┓\n",
              "┃<span style=\"font-weight: bold\"> Layer (type)                    </span>┃<span style=\"font-weight: bold\"> Output Shape           </span>┃<span style=\"font-weight: bold\">       Param # </span>┃\n",
              "┡━━━━━━━━━━━━━━━━━━━━━━━━━━━━━━━━━╇━━━━━━━━━━━━━━━━━━━━━━━━╇━━━━━━━━━━━━━━━┩\n",
              "│ input_layer (<span style=\"color: #0087ff; text-decoration-color: #0087ff\">InputLayer</span>)        │ (<span style=\"color: #00d7ff; text-decoration-color: #00d7ff\">None</span>, <span style=\"color: #00d7ff; text-decoration-color: #00d7ff\">None</span>)           │             <span style=\"color: #00af00; text-decoration-color: #00af00\">0</span> │\n",
              "├─────────────────────────────────┼────────────────────────┼───────────────┤\n",
              "│ token_and_position_embedding    │ (<span style=\"color: #00d7ff; text-decoration-color: #00d7ff\">None</span>, <span style=\"color: #00d7ff; text-decoration-color: #00d7ff\">None</span>, <span style=\"color: #00af00; text-decoration-color: #00af00\">256</span>)      │     <span style=\"color: #00af00; text-decoration-color: #00af00\">2,580,480</span> │\n",
              "│ (<span style=\"color: #0087ff; text-decoration-color: #0087ff\">TokenAndPositionEmbedding</span>)     │                        │               │\n",
              "├─────────────────────────────────┼────────────────────────┼───────────────┤\n",
              "│ transformer_block               │ [(<span style=\"color: #00d7ff; text-decoration-color: #00d7ff\">None</span>, <span style=\"color: #00d7ff; text-decoration-color: #00d7ff\">None</span>, <span style=\"color: #00af00; text-decoration-color: #00af00\">256</span>),    │       <span style=\"color: #00af00; text-decoration-color: #00af00\">658,688</span> │\n",
              "│ (<span style=\"color: #0087ff; text-decoration-color: #0087ff\">TransformerBlock</span>)              │ (<span style=\"color: #00d7ff; text-decoration-color: #00d7ff\">None</span>, <span style=\"color: #00af00; text-decoration-color: #00af00\">2</span>, <span style=\"color: #00d7ff; text-decoration-color: #00d7ff\">None</span>, <span style=\"color: #00d7ff; text-decoration-color: #00d7ff\">None</span>)] │               │\n",
              "├─────────────────────────────────┼────────────────────────┼───────────────┤\n",
              "│ dense_2 (<span style=\"color: #0087ff; text-decoration-color: #0087ff\">Dense</span>)                 │ (<span style=\"color: #00d7ff; text-decoration-color: #00d7ff\">None</span>, <span style=\"color: #00d7ff; text-decoration-color: #00d7ff\">None</span>, <span style=\"color: #00af00; text-decoration-color: #00af00\">10000</span>)    │     <span style=\"color: #00af00; text-decoration-color: #00af00\">2,570,000</span> │\n",
              "└─────────────────────────────────┴────────────────────────┴───────────────┘\n",
              "</pre>\n"
            ]
          },
          "metadata": {}
        },
        {
          "output_type": "display_data",
          "data": {
            "text/plain": [
              "\u001b[1m Total params: \u001b[0m\u001b[38;5;34m5,809,168\u001b[0m (22.16 MB)\n"
            ],
            "text/html": [
              "<pre style=\"white-space:pre;overflow-x:auto;line-height:normal;font-family:Menlo,'DejaVu Sans Mono',consolas,'Courier New',monospace\"><span style=\"font-weight: bold\"> Total params: </span><span style=\"color: #00af00; text-decoration-color: #00af00\">5,809,168</span> (22.16 MB)\n",
              "</pre>\n"
            ]
          },
          "metadata": {}
        },
        {
          "output_type": "display_data",
          "data": {
            "text/plain": [
              "\u001b[1m Trainable params: \u001b[0m\u001b[38;5;34m5,809,168\u001b[0m (22.16 MB)\n"
            ],
            "text/html": [
              "<pre style=\"white-space:pre;overflow-x:auto;line-height:normal;font-family:Menlo,'DejaVu Sans Mono',consolas,'Courier New',monospace\"><span style=\"font-weight: bold\"> Trainable params: </span><span style=\"color: #00af00; text-decoration-color: #00af00\">5,809,168</span> (22.16 MB)\n",
              "</pre>\n"
            ]
          },
          "metadata": {}
        },
        {
          "output_type": "display_data",
          "data": {
            "text/plain": [
              "\u001b[1m Non-trainable params: \u001b[0m\u001b[38;5;34m0\u001b[0m (0.00 B)\n"
            ],
            "text/html": [
              "<pre style=\"white-space:pre;overflow-x:auto;line-height:normal;font-family:Menlo,'DejaVu Sans Mono',consolas,'Courier New',monospace\"><span style=\"font-weight: bold\"> Non-trainable params: </span><span style=\"color: #00af00; text-decoration-color: #00af00\">0</span> (0.00 B)\n",
              "</pre>\n"
            ]
          },
          "metadata": {}
        }
      ],
      "source": [
        "gpt.summary()"
      ]
    },
    {
      "cell_type": "code",
      "execution_count": 29,
      "id": "800a3c6e-fb11-4792-b6bc-9a43a7c977ad",
      "metadata": {
        "tags": [],
        "id": "800a3c6e-fb11-4792-b6bc-9a43a7c977ad"
      },
      "outputs": [],
      "source": [
        "if LOAD_MODEL:\n",
        "    # model.load_weights('./models/model')\n",
        "    gpt = models.load_model(\"./models/gpt\", compile=True)"
      ]
    },
    {
      "cell_type": "markdown",
      "id": "35b14665-4359-447b-be58-3fd58ba69084",
      "metadata": {
        "id": "35b14665-4359-447b-be58-3fd58ba69084"
      },
      "source": [
        "## 9. Train the Transformer <a name=\"train\"></a>"
      ]
    },
    {
      "cell_type": "code",
      "execution_count": 30,
      "id": "3ddcff5f-829d-4449-99d2-9a3cb68f7d72",
      "metadata": {
        "id": "3ddcff5f-829d-4449-99d2-9a3cb68f7d72"
      },
      "outputs": [],
      "source": [
        "# Create a TextGenerator checkpoint\n",
        "class TextGenerator(callbacks.Callback):\n",
        "    def __init__(self, index_to_word, top_k=10):\n",
        "        self.index_to_word = index_to_word\n",
        "        self.word_to_index = {\n",
        "            word: index for index, word in enumerate(index_to_word)\n",
        "        }\n",
        "\n",
        "    def sample_from(self, probs, temperature):\n",
        "        probs = probs ** (1 / temperature)\n",
        "        probs = probs / np.sum(probs)\n",
        "        return np.random.choice(len(probs), p=probs), probs\n",
        "\n",
        "    def generate(self, start_prompt, max_tokens, temperature):\n",
        "        start_tokens = [\n",
        "            self.word_to_index.get(x, 1) for x in start_prompt.split()\n",
        "        ]\n",
        "        sample_token = None\n",
        "        info = []\n",
        "        while len(start_tokens) < max_tokens and sample_token != 0:\n",
        "            x = np.array([start_tokens])\n",
        "            y, att = self.model.predict(x, verbose=0)\n",
        "            sample_token, probs = self.sample_from(y[0][-1], temperature)\n",
        "            info.append(\n",
        "                {\n",
        "                    \"prompt\": start_prompt,\n",
        "                    \"word_probs\": probs,\n",
        "                    \"atts\": att[0, :, -1, :],\n",
        "                }\n",
        "            )\n",
        "            start_tokens.append(sample_token)\n",
        "            start_prompt = start_prompt + \" \" + self.index_to_word[sample_token]\n",
        "        print(f\"\\ngenerated text:\\n{start_prompt}\\n\")\n",
        "        return info\n",
        "\n",
        "    def on_epoch_end(self, epoch, logs=None):\n",
        "        self.generate(\"wine review\", max_tokens=80, temperature=1.0)"
      ]
    },
    {
      "cell_type": "code",
      "execution_count": 31,
      "id": "349865fe-ffbe-450e-97be-043ae1740e78",
      "metadata": {
        "id": "349865fe-ffbe-450e-97be-043ae1740e78"
      },
      "outputs": [],
      "source": [
        "# Create a model save checkpoint\n",
        "model_checkpoint_callback = callbacks.ModelCheckpoint(\n",
        "    filepath=\"./checkpoint/checkpoint.weights.h5\",\n",
        "    save_weights_only=True,\n",
        "    save_freq=\"epoch\",\n",
        "    verbose=0,\n",
        ")\n",
        "\n",
        "tensorboard_callback = callbacks.TensorBoard(log_dir=\"./logs\")\n",
        "\n",
        "# Tokenize starting prompt\n",
        "text_generator = TextGenerator(vocab)"
      ]
    },
    {
      "cell_type": "code",
      "execution_count": 32,
      "id": "461c2b3e-b5ae-4def-8bd9-e7bab8c63d8e",
      "metadata": {
        "tags": [],
        "id": "461c2b3e-b5ae-4def-8bd9-e7bab8c63d8e",
        "colab": {
          "base_uri": "https://localhost:8080/"
        },
        "outputId": "111b38ce-4b59-4133-d2ab-98acf315450c"
      },
      "outputs": [
        {
          "output_type": "stream",
          "name": "stdout",
          "text": [
            "Epoch 1/5\n",
            "\u001b[1m4060/4060\u001b[0m \u001b[32m━━━━━━━━━━━━━━━━━━━━\u001b[0m\u001b[37m\u001b[0m \u001b[1m0s\u001b[0m 25ms/step - loss: 2.6029\n",
            "generated text:\n",
            "wine review : france : bordeaux : bordeaux - style red blend : this is a big wine , big with its ripe fruit , opulent overripe tannins and rich with superripe black currant fruit . it has brings out the structure to a dark core , almost sweet flavors of tannins that bring out some toasted almonds and soft acidity . it is the potential to be ready to drink . \n",
            "\n",
            "\u001b[1m4060/4060\u001b[0m \u001b[32m━━━━━━━━━━━━━━━━━━━━\u001b[0m\u001b[37m\u001b[0m \u001b[1m201s\u001b[0m 47ms/step - loss: 2.6028\n",
            "Epoch 2/5\n",
            "\u001b[1m4059/4060\u001b[0m \u001b[32m━━━━━━━━━━━━━━━━━━━\u001b[0m\u001b[37m━\u001b[0m \u001b[1m0s\u001b[0m 24ms/step - loss: 1.9782\n",
            "generated text:\n",
            "wine review : france : burgundy : chardonnay : a touch unbalanced , this wine from the wood - aged cradling of neutral oak , it ' s a balanced wine that could almost be just beginning to show great fruitiness with its structure and elegance . it is still young and will take time to give it out its age . drink from 2017 . \n",
            "\n",
            "\u001b[1m4060/4060\u001b[0m \u001b[32m━━━━━━━━━━━━━━━━━━━━\u001b[0m\u001b[37m\u001b[0m \u001b[1m104s\u001b[0m 26ms/step - loss: 1.9782\n",
            "Epoch 3/5\n",
            "\u001b[1m4059/4060\u001b[0m \u001b[32m━━━━━━━━━━━━━━━━━━━\u001b[0m\u001b[37m━\u001b[0m \u001b[1m0s\u001b[0m 24ms/step - loss: 1.8961\n",
            "generated text:\n",
            "wine review : us : california : syrah : a huge syrah , explosive in blackberry jam , mocha , coffee and dark chocolate , which feels tough and [UNK] . kahlua and black tea notes emerge from the glass . now–2012 . \n",
            "\n",
            "\u001b[1m4060/4060\u001b[0m \u001b[32m━━━━━━━━━━━━━━━━━━━━\u001b[0m\u001b[37m\u001b[0m \u001b[1m102s\u001b[0m 25ms/step - loss: 1.8961\n",
            "Epoch 4/5\n",
            "\u001b[1m4058/4060\u001b[0m \u001b[32m━━━━━━━━━━━━━━━━━━━\u001b[0m\u001b[37m━\u001b[0m \u001b[1m0s\u001b[0m 24ms/step - loss: 1.8483\n",
            "generated text:\n",
            "wine review : france : burgundy : pinot noir : from the estate vineyard on the north of piedmont , this comes from a highway , situated close to the subsoil that gives structure and structure . there is plenty of firm tannins and fruit . although the texture of fruit making this a fine wine for the future wines . it strikes a great character complete harmony and . \n",
            "\n",
            "\u001b[1m4060/4060\u001b[0m \u001b[32m━━━━━━━━━━━━━━━━━━━━\u001b[0m\u001b[37m\u001b[0m \u001b[1m104s\u001b[0m 26ms/step - loss: 1.8483\n",
            "Epoch 5/5\n",
            "\u001b[1m4060/4060\u001b[0m \u001b[32m━━━━━━━━━━━━━━━━━━━━\u001b[0m\u001b[37m\u001b[0m \u001b[1m0s\u001b[0m 24ms/step - loss: 1.8194\n",
            "generated text:\n",
            "wine review : israel : galilee : shiraz : this wine is lightly hued and demanding , with a fruit - forward nose of cherry , pomegranate , raspberry and nectarine jam . the firm tannins light and delicate flavors of black fruit is framed by a clean , silky tannins . a creamy , complex finish , along with notes of guava and mango . drink now . \n",
            "\n",
            "\u001b[1m4060/4060\u001b[0m \u001b[32m━━━━━━━━━━━━━━━━━━━━\u001b[0m\u001b[37m\u001b[0m \u001b[1m104s\u001b[0m 26ms/step - loss: 1.8194\n"
          ]
        },
        {
          "output_type": "execute_result",
          "data": {
            "text/plain": [
              "<keras.src.callbacks.history.History at 0x7dd333fc5190>"
            ]
          },
          "metadata": {},
          "execution_count": 32
        }
      ],
      "source": [
        "gpt.fit(\n",
        "    train_ds,\n",
        "    epochs=EPOCHS,\n",
        "    callbacks=[model_checkpoint_callback, tensorboard_callback, text_generator],\n",
        ")"
      ]
    },
    {
      "cell_type": "code",
      "execution_count": 33,
      "id": "369bde44-2e39-4bc6-8549-a3a27ecce55c",
      "metadata": {
        "tags": [],
        "id": "369bde44-2e39-4bc6-8549-a3a27ecce55c"
      },
      "outputs": [],
      "source": [
        "# Save the final model\n",
        "gpt.save(\"gpt.keras\")"
      ]
    },
    {
      "cell_type": "markdown",
      "id": "d64e02d2-84dc-40c8-8446-40c09adf1e20",
      "metadata": {
        "id": "d64e02d2-84dc-40c8-8446-40c09adf1e20"
      },
      "source": [
        "# 3. Generate text using the Transformer"
      ]
    },
    {
      "cell_type": "code",
      "execution_count": 34,
      "id": "4ad23adb-3ec9-4e9a-9a59-b9f9bafca649",
      "metadata": {
        "id": "4ad23adb-3ec9-4e9a-9a59-b9f9bafca649"
      },
      "outputs": [],
      "source": [
        "def print_probs(info, vocab, top_k=5):\n",
        "    for i in info:\n",
        "        highlighted_text = []\n",
        "        for word, att_score in zip(\n",
        "            i[\"prompt\"].split(), np.mean(i[\"atts\"], axis=0)\n",
        "        ):\n",
        "            highlighted_text.append(\n",
        "                '<span style=\"background-color:rgba(135,206,250,'\n",
        "                + str(att_score / max(np.mean(i[\"atts\"], axis=0)))\n",
        "                + ');\">'\n",
        "                + word\n",
        "                + \"</span>\"\n",
        "            )\n",
        "        highlighted_text = \" \".join(highlighted_text)\n",
        "        display(HTML(highlighted_text))\n",
        "\n",
        "        word_probs = i[\"word_probs\"]\n",
        "        p_sorted = np.sort(word_probs)[::-1][:top_k]\n",
        "        i_sorted = np.argsort(word_probs)[::-1][:top_k]\n",
        "        for p, i in zip(p_sorted, i_sorted):\n",
        "            print(f\"{vocab[i]}:   \\t{np.round(100*p,2)}%\")\n",
        "        print(\"--------\\n\")"
      ]
    },
    {
      "cell_type": "markdown",
      "source": [
        "**Gerando texto**\n",
        "\n",
        "Podemos gerar um novo texto aplicando o seguinte processo:\n",
        "\n",
        "* Alimente a rede com uma sequência de palavras existente e peça para prever a palavra seguinte.\n",
        "\n",
        "* Anexe esta palavra à sequência existente e repita.\n",
        "\n",
        "A rede produzirá um conjunto de probabilidades para cada palavra da qual podemos fazer uma amostra"
      ],
      "metadata": {
        "id": "yHGl5fSsFIXs"
      },
      "id": "yHGl5fSsFIXs"
    },
    {
      "cell_type": "code",
      "execution_count": 35,
      "id": "3cf25578-d47c-4b26-8252-fcdf2316a4ac",
      "metadata": {
        "id": "3cf25578-d47c-4b26-8252-fcdf2316a4ac",
        "colab": {
          "base_uri": "https://localhost:8080/"
        },
        "outputId": "7a32da93-9382-46b0-ff30-d2225973a136"
      },
      "outputs": [
        {
          "output_type": "stream",
          "name": "stdout",
          "text": [
            "\n",
            "generated text:\n",
            "wine review : us : california : pinot noir : sharp and lively on the finish for an unfussy nose , this pinot shows red cherry and pomegranate flavors evolving with notes of tamarind from sandalwood and fine - grained barrels and nuanced oak . \n",
            "\n"
          ]
        }
      ],
      "source": [
        "info = text_generator.generate(\n",
        "    \"wine review : us\", max_tokens=80, temperature=1.0\n",
        ")"
      ]
    },
    {
      "cell_type": "code",
      "execution_count": 36,
      "id": "4ae2da8e-9b7c-4b71-b37b-021115b3d7ea",
      "metadata": {
        "id": "4ae2da8e-9b7c-4b71-b37b-021115b3d7ea",
        "colab": {
          "base_uri": "https://localhost:8080/"
        },
        "outputId": "786e5a08-afe1-4956-bd0d-cb3e6a03b8a8"
      },
      "outputs": [
        {
          "output_type": "stream",
          "name": "stdout",
          "text": [
            "\n",
            "generated text:\n",
            "wine review : italy : veneto : glera : this refreshing prosecco superiore opens with subdued aromas of peach and green apple . it ' s a lively , fresh and lively , with a bright , frothy mousse and a light touch of sweet sage . \n",
            "\n"
          ]
        }
      ],
      "source": [
        "info = text_generator.generate(\n",
        "    \"wine review : italy\", max_tokens=80, temperature=0.5\n",
        ")"
      ]
    },
    {
      "cell_type": "markdown",
      "source": [
        "Ambos são semelhantes a uma crítica de vinhos do conjunto de treinamento original.\n",
        "\n",
        "Ambos abrem com a região e o tipo de vinho, e o tipo de vinho permanece consistente ao longo da passagem (por exemplo, não muda de cor no meio).\n",
        "\n",
        "O texto gerado com temperatura 1,0 é mais aventureiro e, portanto, menos preciso do que o exemplo com temperatura 0,5.\n",
        "\n",
        "A geração de múltiplas amostras com temperatura 1,0 levará, portanto, a mais variedade, pois o modelo amostra uma distribuição de probabilidade com maior variância."
      ],
      "metadata": {
        "id": "GnpUovbfHLYZ"
      },
      "id": "GnpUovbfHLYZ"
    },
    {
      "cell_type": "code",
      "execution_count": 37,
      "id": "5cae6d5d-263d-4455-b96c-f315cbe284ee",
      "metadata": {
        "id": "5cae6d5d-263d-4455-b96c-f315cbe284ee",
        "colab": {
          "base_uri": "https://localhost:8080/",
          "height": 1000
        },
        "outputId": "1f62fb40-4209-4a60-9532-f13a5c7a2f0d"
      },
      "outputs": [
        {
          "output_type": "stream",
          "name": "stdout",
          "text": [
            "\n",
            "generated text:\n",
            "wine review : germany : mosel : riesling : fresh and fruity , this riesling has a slightly off - dry , crisp apple and pear flavors . it ' s balanced with a crisp , refreshing finish . \n",
            "\n"
          ]
        },
        {
          "output_type": "display_data",
          "data": {
            "text/plain": [
              "<IPython.core.display.HTML object>"
            ],
            "text/html": [
              "<span style=\"background-color:rgba(135,206,250,0.80986375);\">wine</span> <span style=\"background-color:rgba(135,206,250,1.0);\">review</span> <span style=\"background-color:rgba(135,206,250,0.54279536);\">:</span> <span style=\"background-color:rgba(135,206,250,0.28415692);\">germany</span>"
            ]
          },
          "metadata": {}
        },
        {
          "output_type": "stream",
          "name": "stdout",
          "text": [
            "::   \t100.0%\n",
            "-:   \t0.0%\n",
            "grosso:   \t0.0%\n",
            "zealand:   \t0.0%\n",
            "roxo:   \t0.0%\n",
            "--------\n",
            "\n"
          ]
        },
        {
          "output_type": "display_data",
          "data": {
            "text/plain": [
              "<IPython.core.display.HTML object>"
            ],
            "text/html": [
              "<span style=\"background-color:rgba(135,206,250,0.55888623);\">wine</span> <span style=\"background-color:rgba(135,206,250,0.6209662);\">review</span> <span style=\"background-color:rgba(135,206,250,0.45738187);\">:</span> <span style=\"background-color:rgba(135,206,250,1.0);\">germany</span> <span style=\"background-color:rgba(135,206,250,0.2778481);\">:</span>"
            ]
          },
          "metadata": {}
        },
        {
          "output_type": "stream",
          "name": "stdout",
          "text": [
            "mosel:   \t97.26000213623047%\n",
            "nahe:   \t1.1699999570846558%\n",
            "rheingau:   \t1.1200000047683716%\n",
            "pfalz:   \t0.23000000417232513%\n",
            "rheinhessen:   \t0.20000000298023224%\n",
            "--------\n",
            "\n"
          ]
        },
        {
          "output_type": "display_data",
          "data": {
            "text/plain": [
              "<IPython.core.display.HTML object>"
            ],
            "text/html": [
              "<span style=\"background-color:rgba(135,206,250,0.77355725);\">wine</span> <span style=\"background-color:rgba(135,206,250,1.0);\">review</span> <span style=\"background-color:rgba(135,206,250,0.37299645);\">:</span> <span style=\"background-color:rgba(135,206,250,0.2848416);\">germany</span> <span style=\"background-color:rgba(135,206,250,0.41903648);\">:</span> <span style=\"background-color:rgba(135,206,250,0.25550878);\">mosel</span>"
            ]
          },
          "metadata": {}
        },
        {
          "output_type": "stream",
          "name": "stdout",
          "text": [
            "::   \t99.94999694824219%\n",
            "-:   \t0.05000000074505806%\n",
            "grosso:   \t0.0%\n",
            "nose:   \t0.0%\n",
            "blanca:   \t0.0%\n",
            "--------\n",
            "\n"
          ]
        },
        {
          "output_type": "display_data",
          "data": {
            "text/plain": [
              "<IPython.core.display.HTML object>"
            ],
            "text/html": [
              "<span style=\"background-color:rgba(135,206,250,0.34251446);\">wine</span> <span style=\"background-color:rgba(135,206,250,0.41723177);\">review</span> <span style=\"background-color:rgba(135,206,250,0.16070609);\">:</span> <span style=\"background-color:rgba(135,206,250,0.36304718);\">germany</span> <span style=\"background-color:rgba(135,206,250,0.12098828);\">:</span> <span style=\"background-color:rgba(135,206,250,1.0);\">mosel</span> <span style=\"background-color:rgba(135,206,250,0.13615152);\">:</span>"
            ]
          },
          "metadata": {}
        },
        {
          "output_type": "stream",
          "name": "stdout",
          "text": [
            "riesling:   \t100.0%\n",
            "pinot:   \t0.0%\n",
            "saar:   \t0.0%\n",
            "white:   \t0.0%\n",
            "sparkling:   \t0.0%\n",
            "--------\n",
            "\n"
          ]
        },
        {
          "output_type": "display_data",
          "data": {
            "text/plain": [
              "<IPython.core.display.HTML object>"
            ],
            "text/html": [
              "<span style=\"background-color:rgba(135,206,250,0.84805375);\">wine</span> <span style=\"background-color:rgba(135,206,250,1.0);\">review</span> <span style=\"background-color:rgba(135,206,250,0.31255636);\">:</span> <span style=\"background-color:rgba(135,206,250,0.2494023);\">germany</span> <span style=\"background-color:rgba(135,206,250,0.32871675);\">:</span> <span style=\"background-color:rgba(135,206,250,0.34087542);\">mosel</span> <span style=\"background-color:rgba(135,206,250,0.4040387);\">:</span> <span style=\"background-color:rgba(135,206,250,0.17228478);\">riesling</span>"
            ]
          },
          "metadata": {}
        },
        {
          "output_type": "stream",
          "name": "stdout",
          "text": [
            "::   \t100.0%\n",
            "-:   \t0.0%\n",
            "blanc:   \t0.0%\n",
            "grosso:   \t0.0%\n",
            "blend:   \t0.0%\n",
            "--------\n",
            "\n"
          ]
        },
        {
          "output_type": "display_data",
          "data": {
            "text/plain": [
              "<IPython.core.display.HTML object>"
            ],
            "text/html": [
              "<span style=\"background-color:rgba(135,206,250,0.6704965);\">wine</span> <span style=\"background-color:rgba(135,206,250,0.83944714);\">review</span> <span style=\"background-color:rgba(135,206,250,0.373464);\">:</span> <span style=\"background-color:rgba(135,206,250,0.7258215);\">germany</span> <span style=\"background-color:rgba(135,206,250,0.30191588);\">:</span> <span style=\"background-color:rgba(135,206,250,1.0);\">mosel</span> <span style=\"background-color:rgba(135,206,250,0.4093024);\">:</span> <span style=\"background-color:rgba(135,206,250,0.6701043);\">riesling</span> <span style=\"background-color:rgba(135,206,250,0.40553775);\">:</span>"
            ]
          },
          "metadata": {}
        },
        {
          "output_type": "stream",
          "name": "stdout",
          "text": [
            "while:   \t21.110000610351562%\n",
            "this:   \t18.75%\n",
            "the:   \t15.65999984741211%\n",
            "a:   \t8.640000343322754%\n",
            "fresh:   \t7.539999961853027%\n",
            "--------\n",
            "\n"
          ]
        },
        {
          "output_type": "display_data",
          "data": {
            "text/plain": [
              "<IPython.core.display.HTML object>"
            ],
            "text/html": [
              "<span style=\"background-color:rgba(135,206,250,0.87215453);\">wine</span> <span style=\"background-color:rgba(135,206,250,1.0);\">review</span> <span style=\"background-color:rgba(135,206,250,0.37517697);\">:</span> <span style=\"background-color:rgba(135,206,250,0.42508918);\">germany</span> <span style=\"background-color:rgba(135,206,250,0.31051484);\">:</span> <span style=\"background-color:rgba(135,206,250,0.44022733);\">mosel</span> <span style=\"background-color:rgba(135,206,250,0.30790278);\">:</span> <span style=\"background-color:rgba(135,206,250,0.4921302);\">riesling</span> <span style=\"background-color:rgba(135,206,250,0.4587982);\">:</span> <span style=\"background-color:rgba(135,206,250,0.4307372);\">fresh</span>"
            ]
          },
          "metadata": {}
        },
        {
          "output_type": "stream",
          "name": "stdout",
          "text": [
            "and:   \t48.43000030517578%\n",
            ",:   \t29.81999969482422%\n",
            "apple:   \t7.559999942779541%\n",
            "lemon:   \t3.009999990463257%\n",
            "tangerine:   \t2.809999942779541%\n",
            "--------\n",
            "\n"
          ]
        },
        {
          "output_type": "display_data",
          "data": {
            "text/plain": [
              "<IPython.core.display.HTML object>"
            ],
            "text/html": [
              "<span style=\"background-color:rgba(135,206,250,0.48082167);\">wine</span> <span style=\"background-color:rgba(135,206,250,0.55061257);\">review</span> <span style=\"background-color:rgba(135,206,250,0.28622243);\">:</span> <span style=\"background-color:rgba(135,206,250,0.2989932);\">germany</span> <span style=\"background-color:rgba(135,206,250,0.19588074);\">:</span> <span style=\"background-color:rgba(135,206,250,0.39924976);\">mosel</span> <span style=\"background-color:rgba(135,206,250,0.14272325);\">:</span> <span style=\"background-color:rgba(135,206,250,0.3329056);\">riesling</span> <span style=\"background-color:rgba(135,206,250,0.20867005);\">:</span> <span style=\"background-color:rgba(135,206,250,1.0);\">fresh</span> <span style=\"background-color:rgba(135,206,250,0.27653667);\">and</span>"
            ]
          },
          "metadata": {}
        },
        {
          "output_type": "stream",
          "name": "stdout",
          "text": [
            "fruity:   \t73.4800033569336%\n",
            "floral:   \t7.199999809265137%\n",
            "juicy:   \t5.21999979019165%\n",
            "crisp:   \t3.7899999618530273%\n",
            "cheery:   \t1.1299999952316284%\n",
            "--------\n",
            "\n"
          ]
        },
        {
          "output_type": "display_data",
          "data": {
            "text/plain": [
              "<IPython.core.display.HTML object>"
            ],
            "text/html": [
              "<span style=\"background-color:rgba(135,206,250,0.7697739);\">wine</span> <span style=\"background-color:rgba(135,206,250,1.0);\">review</span> <span style=\"background-color:rgba(135,206,250,0.23040655);\">:</span> <span style=\"background-color:rgba(135,206,250,0.34046957);\">germany</span> <span style=\"background-color:rgba(135,206,250,0.17444801);\">:</span> <span style=\"background-color:rgba(135,206,250,0.33905038);\">mosel</span> <span style=\"background-color:rgba(135,206,250,0.15642275);\">:</span> <span style=\"background-color:rgba(135,206,250,0.3235217);\">riesling</span> <span style=\"background-color:rgba(135,206,250,0.2765512);\">:</span> <span style=\"background-color:rgba(135,206,250,0.2848494);\">fresh</span> <span style=\"background-color:rgba(135,206,250,0.81204885);\">and</span> <span style=\"background-color:rgba(135,206,250,0.37308773);\">fruity</span>"
            ]
          },
          "metadata": {}
        },
        {
          "output_type": "stream",
          "name": "stdout",
          "text": [
            ",:   \t97.7699966430664%\n",
            "on:   \t2.0199999809265137%\n",
            "in:   \t0.10000000149011612%\n",
            "with:   \t0.07000000029802322%\n",
            "yet:   \t0.009999999776482582%\n",
            "--------\n",
            "\n"
          ]
        },
        {
          "output_type": "display_data",
          "data": {
            "text/plain": [
              "<IPython.core.display.HTML object>"
            ],
            "text/html": [
              "<span style=\"background-color:rgba(135,206,250,0.43686458);\">wine</span> <span style=\"background-color:rgba(135,206,250,0.6292645);\">review</span> <span style=\"background-color:rgba(135,206,250,0.20594254);\">:</span> <span style=\"background-color:rgba(135,206,250,0.36299232);\">germany</span> <span style=\"background-color:rgba(135,206,250,0.124909475);\">:</span> <span style=\"background-color:rgba(135,206,250,0.3133025);\">mosel</span> <span style=\"background-color:rgba(135,206,250,0.121373944);\">:</span> <span style=\"background-color:rgba(135,206,250,0.3741589);\">riesling</span> <span style=\"background-color:rgba(135,206,250,0.2263366);\">:</span> <span style=\"background-color:rgba(135,206,250,0.5468579);\">fresh</span> <span style=\"background-color:rgba(135,206,250,1.0);\">and</span> <span style=\"background-color:rgba(135,206,250,0.9619375);\">fruity</span> <span style=\"background-color:rgba(135,206,250,0.30093724);\">,</span>"
            ]
          },
          "metadata": {}
        },
        {
          "output_type": "stream",
          "name": "stdout",
          "text": [
            "this:   \t91.70999908447266%\n",
            "with:   \t8.069999694824219%\n",
            "yet:   \t0.10999999940395355%\n",
            "but:   \t0.03999999910593033%\n",
            "it:   \t0.03999999910593033%\n",
            "--------\n",
            "\n"
          ]
        },
        {
          "output_type": "display_data",
          "data": {
            "text/plain": [
              "<IPython.core.display.HTML object>"
            ],
            "text/html": [
              "<span style=\"background-color:rgba(135,206,250,0.6636471);\">wine</span> <span style=\"background-color:rgba(135,206,250,1.0);\">review</span> <span style=\"background-color:rgba(135,206,250,0.22741942);\">:</span> <span style=\"background-color:rgba(135,206,250,0.5465936);\">germany</span> <span style=\"background-color:rgba(135,206,250,0.22106363);\">:</span> <span style=\"background-color:rgba(135,206,250,0.52588403);\">mosel</span> <span style=\"background-color:rgba(135,206,250,0.16279106);\">:</span> <span style=\"background-color:rgba(135,206,250,0.4950761);\">riesling</span> <span style=\"background-color:rgba(135,206,250,0.2560102);\">:</span> <span style=\"background-color:rgba(135,206,250,0.45112848);\">fresh</span> <span style=\"background-color:rgba(135,206,250,0.26451072);\">and</span> <span style=\"background-color:rgba(135,206,250,0.4420018);\">fruity</span> <span style=\"background-color:rgba(135,206,250,0.5988351);\">,</span> <span style=\"background-color:rgba(135,206,250,0.2056789);\">this</span>"
            ]
          },
          "metadata": {}
        },
        {
          "output_type": "stream",
          "name": "stdout",
          "text": [
            "off:   \t27.280000686645508%\n",
            "dry:   \t19.559999465942383%\n",
            "is:   \t18.670000076293945%\n",
            "light:   \t7.110000133514404%\n",
            "riesling:   \t3.2699999809265137%\n",
            "--------\n",
            "\n"
          ]
        },
        {
          "output_type": "display_data",
          "data": {
            "text/plain": [
              "<IPython.core.display.HTML object>"
            ],
            "text/html": [
              "<span style=\"background-color:rgba(135,206,250,0.59915185);\">wine</span> <span style=\"background-color:rgba(135,206,250,0.9348561);\">review</span> <span style=\"background-color:rgba(135,206,250,0.18102667);\">:</span> <span style=\"background-color:rgba(135,206,250,0.21309352);\">germany</span> <span style=\"background-color:rgba(135,206,250,0.17323032);\">:</span> <span style=\"background-color:rgba(135,206,250,0.228544);\">mosel</span> <span style=\"background-color:rgba(135,206,250,0.1955939);\">:</span> <span style=\"background-color:rgba(135,206,250,0.118103355);\">riesling</span> <span style=\"background-color:rgba(135,206,250,0.2810296);\">:</span> <span style=\"background-color:rgba(135,206,250,0.19731933);\">fresh</span> <span style=\"background-color:rgba(135,206,250,0.4470936);\">and</span> <span style=\"background-color:rgba(135,206,250,0.25169373);\">fruity</span> <span style=\"background-color:rgba(135,206,250,0.6216652);\">,</span> <span style=\"background-color:rgba(135,206,250,1.0);\">this</span> <span style=\"background-color:rgba(135,206,250,0.38801584);\">riesling</span>"
            ]
          },
          "metadata": {}
        },
        {
          "output_type": "stream",
          "name": "stdout",
          "text": [
            "is:   \t67.08999633789062%\n",
            "has:   \t15.600000381469727%\n",
            "offers:   \t6.590000152587891%\n",
            "balances:   \t2.799999952316284%\n",
            "from:   \t1.7300000190734863%\n",
            "--------\n",
            "\n"
          ]
        },
        {
          "output_type": "display_data",
          "data": {
            "text/plain": [
              "<IPython.core.display.HTML object>"
            ],
            "text/html": [
              "<span style=\"background-color:rgba(135,206,250,0.6341836);\">wine</span> <span style=\"background-color:rgba(135,206,250,1.0);\">review</span> <span style=\"background-color:rgba(135,206,250,0.25576642);\">:</span> <span style=\"background-color:rgba(135,206,250,0.5715885);\">germany</span> <span style=\"background-color:rgba(135,206,250,0.21829481);\">:</span> <span style=\"background-color:rgba(135,206,250,0.44267687);\">mosel</span> <span style=\"background-color:rgba(135,206,250,0.19067682);\">:</span> <span style=\"background-color:rgba(135,206,250,0.28246215);\">riesling</span> <span style=\"background-color:rgba(135,206,250,0.223943);\">:</span> <span style=\"background-color:rgba(135,206,250,0.33061793);\">fresh</span> <span style=\"background-color:rgba(135,206,250,0.3923437);\">and</span> <span style=\"background-color:rgba(135,206,250,0.51235795);\">fruity</span> <span style=\"background-color:rgba(135,206,250,0.40923622);\">,</span> <span style=\"background-color:rgba(135,206,250,0.38995287);\">this</span> <span style=\"background-color:rgba(135,206,250,0.49433926);\">riesling</span> <span style=\"background-color:rgba(135,206,250,0.36504963);\">has</span>"
            ]
          },
          "metadata": {}
        },
        {
          "output_type": "stream",
          "name": "stdout",
          "text": [
            "a:   \t94.72000122070312%\n",
            "an:   \t1.75%\n",
            "loads:   \t0.699999988079071%\n",
            "forward:   \t0.4399999976158142%\n",
            "delicate:   \t0.3799999952316284%\n",
            "--------\n",
            "\n"
          ]
        },
        {
          "output_type": "display_data",
          "data": {
            "text/plain": [
              "<IPython.core.display.HTML object>"
            ],
            "text/html": [
              "<span style=\"background-color:rgba(135,206,250,0.44249856);\">wine</span> <span style=\"background-color:rgba(135,206,250,0.56558293);\">review</span> <span style=\"background-color:rgba(135,206,250,0.1563088);\">:</span> <span style=\"background-color:rgba(135,206,250,0.40317655);\">germany</span> <span style=\"background-color:rgba(135,206,250,0.116347216);\">:</span> <span style=\"background-color:rgba(135,206,250,0.38239658);\">mosel</span> <span style=\"background-color:rgba(135,206,250,0.090653606);\">:</span> <span style=\"background-color:rgba(135,206,250,0.29407197);\">riesling</span> <span style=\"background-color:rgba(135,206,250,0.1587149);\">:</span> <span style=\"background-color:rgba(135,206,250,0.28417096);\">fresh</span> <span style=\"background-color:rgba(135,206,250,0.18888973);\">and</span> <span style=\"background-color:rgba(135,206,250,0.31148407);\">fruity</span> <span style=\"background-color:rgba(135,206,250,0.28279135);\">,</span> <span style=\"background-color:rgba(135,206,250,0.41258073);\">this</span> <span style=\"background-color:rgba(135,206,250,0.64057976);\">riesling</span> <span style=\"background-color:rgba(135,206,250,1.0);\">has</span> <span style=\"background-color:rgba(135,206,250,0.28871903);\">a</span>"
            ]
          },
          "metadata": {}
        },
        {
          "output_type": "stream",
          "name": "stdout",
          "text": [
            "delicate:   \t39.4900016784668%\n",
            "light:   \t17.520000457763672%\n",
            "slightly:   \t12.350000381469727%\n",
            "floral:   \t3.119999885559082%\n",
            "crisp:   \t3.069999933242798%\n",
            "--------\n",
            "\n"
          ]
        },
        {
          "output_type": "display_data",
          "data": {
            "text/plain": [
              "<IPython.core.display.HTML object>"
            ],
            "text/html": [
              "<span style=\"background-color:rgba(135,206,250,0.6846784);\">wine</span> <span style=\"background-color:rgba(135,206,250,1.0);\">review</span> <span style=\"background-color:rgba(135,206,250,0.32472083);\">:</span> <span style=\"background-color:rgba(135,206,250,0.76806563);\">germany</span> <span style=\"background-color:rgba(135,206,250,0.22939108);\">:</span> <span style=\"background-color:rgba(135,206,250,0.49119565);\">mosel</span> <span style=\"background-color:rgba(135,206,250,0.21183966);\">:</span> <span style=\"background-color:rgba(135,206,250,0.33718163);\">riesling</span> <span style=\"background-color:rgba(135,206,250,0.296102);\">:</span> <span style=\"background-color:rgba(135,206,250,0.4040018);\">fresh</span> <span style=\"background-color:rgba(135,206,250,0.251008);\">and</span> <span style=\"background-color:rgba(135,206,250,0.6331647);\">fruity</span> <span style=\"background-color:rgba(135,206,250,0.30802563);\">,</span> <span style=\"background-color:rgba(135,206,250,0.5773388);\">this</span> <span style=\"background-color:rgba(135,206,250,0.51146954);\">riesling</span> <span style=\"background-color:rgba(135,206,250,0.83569026);\">has</span> <span style=\"background-color:rgba(135,206,250,0.9157019);\">a</span> <span style=\"background-color:rgba(135,206,250,0.4554284);\">slightly</span>"
            ]
          },
          "metadata": {}
        },
        {
          "output_type": "stream",
          "name": "stdout",
          "text": [
            "sweet:   \t45.849998474121094%\n",
            "floral:   \t15.149999618530273%\n",
            "savory:   \t8.079999923706055%\n",
            "confected:   \t6.050000190734863%\n",
            "candied:   \t4.900000095367432%\n",
            "--------\n",
            "\n"
          ]
        },
        {
          "output_type": "display_data",
          "data": {
            "text/plain": [
              "<IPython.core.display.HTML object>"
            ],
            "text/html": [
              "<span style=\"background-color:rgba(135,206,250,0.581675);\">wine</span> <span style=\"background-color:rgba(135,206,250,1.0);\">review</span> <span style=\"background-color:rgba(135,206,250,0.12683845);\">:</span> <span style=\"background-color:rgba(135,206,250,0.18824978);\">germany</span> <span style=\"background-color:rgba(135,206,250,0.13435486);\">:</span> <span style=\"background-color:rgba(135,206,250,0.24025464);\">mosel</span> <span style=\"background-color:rgba(135,206,250,0.1493511);\">:</span> <span style=\"background-color:rgba(135,206,250,0.21564534);\">riesling</span> <span style=\"background-color:rgba(135,206,250,0.19479384);\">:</span> <span style=\"background-color:rgba(135,206,250,0.099417426);\">fresh</span> <span style=\"background-color:rgba(135,206,250,0.17445648);\">and</span> <span style=\"background-color:rgba(135,206,250,0.15243104);\">fruity</span> <span style=\"background-color:rgba(135,206,250,0.24503192);\">,</span> <span style=\"background-color:rgba(135,206,250,0.3662497);\">this</span> <span style=\"background-color:rgba(135,206,250,0.25864312);\">riesling</span> <span style=\"background-color:rgba(135,206,250,0.65536267);\">has</span> <span style=\"background-color:rgba(135,206,250,0.6300091);\">a</span> <span style=\"background-color:rgba(135,206,250,0.26582134);\">slightly</span> <span style=\"background-color:rgba(135,206,250,0.27400243);\">off</span>"
            ]
          },
          "metadata": {}
        },
        {
          "output_type": "stream",
          "name": "stdout",
          "text": [
            "-:   \t100.0%\n",
            "dry:   \t0.0%\n",
            "set:   \t0.0%\n",
            ",:   \t0.0%\n",
            "touch:   \t0.0%\n",
            "--------\n",
            "\n"
          ]
        },
        {
          "output_type": "display_data",
          "data": {
            "text/plain": [
              "<IPython.core.display.HTML object>"
            ],
            "text/html": [
              "<span style=\"background-color:rgba(135,206,250,0.19678572);\">wine</span> <span style=\"background-color:rgba(135,206,250,0.29837853);\">review</span> <span style=\"background-color:rgba(135,206,250,0.08426927);\">:</span> <span style=\"background-color:rgba(135,206,250,0.16736488);\">germany</span> <span style=\"background-color:rgba(135,206,250,0.06813458);\">:</span> <span style=\"background-color:rgba(135,206,250,0.17954357);\">mosel</span> <span style=\"background-color:rgba(135,206,250,0.054564197);\">:</span> <span style=\"background-color:rgba(135,206,250,0.19164659);\">riesling</span> <span style=\"background-color:rgba(135,206,250,0.0873671);\">:</span> <span style=\"background-color:rgba(135,206,250,0.074606314);\">fresh</span> <span style=\"background-color:rgba(135,206,250,0.07719803);\">and</span> <span style=\"background-color:rgba(135,206,250,0.07100646);\">fruity</span> <span style=\"background-color:rgba(135,206,250,0.06733584);\">,</span> <span style=\"background-color:rgba(135,206,250,0.12570778);\">this</span> <span style=\"background-color:rgba(135,206,250,0.1706192);\">riesling</span> <span style=\"background-color:rgba(135,206,250,0.18455346);\">has</span> <span style=\"background-color:rgba(135,206,250,0.1790108);\">a</span> <span style=\"background-color:rgba(135,206,250,0.29465914);\">slightly</span> <span style=\"background-color:rgba(135,206,250,1.0);\">off</span> <span style=\"background-color:rgba(135,206,250,0.055754602);\">-</span>"
            ]
          },
          "metadata": {}
        },
        {
          "output_type": "stream",
          "name": "stdout",
          "text": [
            "dry:   \t100.0%\n",
            "[UNK]:   \t0.0%\n",
            "sweet:   \t0.0%\n",
            "balance:   \t0.0%\n",
            "gold:   \t0.0%\n",
            "--------\n",
            "\n"
          ]
        },
        {
          "output_type": "display_data",
          "data": {
            "text/plain": [
              "<IPython.core.display.HTML object>"
            ],
            "text/html": [
              "<span style=\"background-color:rgba(135,206,250,0.57958525);\">wine</span> <span style=\"background-color:rgba(135,206,250,1.0);\">review</span> <span style=\"background-color:rgba(135,206,250,0.19793585);\">:</span> <span style=\"background-color:rgba(135,206,250,0.5466554);\">germany</span> <span style=\"background-color:rgba(135,206,250,0.18368505);\">:</span> <span style=\"background-color:rgba(135,206,250,0.43028587);\">mosel</span> <span style=\"background-color:rgba(135,206,250,0.19544487);\">:</span> <span style=\"background-color:rgba(135,206,250,0.7807475);\">riesling</span> <span style=\"background-color:rgba(135,206,250,0.25808868);\">:</span> <span style=\"background-color:rgba(135,206,250,0.24337721);\">fresh</span> <span style=\"background-color:rgba(135,206,250,0.23504163);\">and</span> <span style=\"background-color:rgba(135,206,250,0.18717399);\">fruity</span> <span style=\"background-color:rgba(135,206,250,0.18352017);\">,</span> <span style=\"background-color:rgba(135,206,250,0.45253184);\">this</span> <span style=\"background-color:rgba(135,206,250,0.52959377);\">riesling</span> <span style=\"background-color:rgba(135,206,250,0.7968005);\">has</span> <span style=\"background-color:rgba(135,206,250,0.68273824);\">a</span> <span style=\"background-color:rgba(135,206,250,0.27374113);\">slightly</span> <span style=\"background-color:rgba(135,206,250,0.60409963);\">off</span> <span style=\"background-color:rgba(135,206,250,0.47073928);\">-</span> <span style=\"background-color:rgba(135,206,250,0.66280955);\">dry</span>"
            ]
          },
          "metadata": {}
        },
        {
          "output_type": "stream",
          "name": "stdout",
          "text": [
            "riesling:   \t42.630001068115234%\n",
            ",:   \t42.47999954223633%\n",
            "palate:   \t6.599999904632568%\n",
            "style:   \t2.049999952316284%\n",
            "finish:   \t1.7599999904632568%\n",
            "--------\n",
            "\n"
          ]
        },
        {
          "output_type": "display_data",
          "data": {
            "text/plain": [
              "<IPython.core.display.HTML object>"
            ],
            "text/html": [
              "<span style=\"background-color:rgba(135,206,250,0.24028927);\">wine</span> <span style=\"background-color:rgba(135,206,250,0.44701764);\">review</span> <span style=\"background-color:rgba(135,206,250,0.1169321);\">:</span> <span style=\"background-color:rgba(135,206,250,0.3310487);\">germany</span> <span style=\"background-color:rgba(135,206,250,0.08714784);\">:</span> <span style=\"background-color:rgba(135,206,250,0.20181955);\">mosel</span> <span style=\"background-color:rgba(135,206,250,0.07011476);\">:</span> <span style=\"background-color:rgba(135,206,250,0.2871924);\">riesling</span> <span style=\"background-color:rgba(135,206,250,0.11670939);\">:</span> <span style=\"background-color:rgba(135,206,250,0.13069601);\">fresh</span> <span style=\"background-color:rgba(135,206,250,0.14512098);\">and</span> <span style=\"background-color:rgba(135,206,250,0.17222516);\">fruity</span> <span style=\"background-color:rgba(135,206,250,0.079093784);\">,</span> <span style=\"background-color:rgba(135,206,250,0.3146211);\">this</span> <span style=\"background-color:rgba(135,206,250,0.19778883);\">riesling</span> <span style=\"background-color:rgba(135,206,250,0.3799977);\">has</span> <span style=\"background-color:rgba(135,206,250,0.24567683);\">a</span> <span style=\"background-color:rgba(135,206,250,0.22409333);\">slightly</span> <span style=\"background-color:rgba(135,206,250,0.3967177);\">off</span> <span style=\"background-color:rgba(135,206,250,0.2661476);\">-</span> <span style=\"background-color:rgba(135,206,250,1.0);\">dry</span> <span style=\"background-color:rgba(135,206,250,0.37398815);\">,</span>"
            ]
          },
          "metadata": {}
        },
        {
          "output_type": "stream",
          "name": "stdout",
          "text": [
            "crisp:   \t36.130001068115234%\n",
            "minerally:   \t18.889999389648438%\n",
            "slightly:   \t17.3799991607666%\n",
            "steely:   \t7.260000228881836%\n",
            "honeyed:   \t3.240000009536743%\n",
            "--------\n",
            "\n"
          ]
        },
        {
          "output_type": "display_data",
          "data": {
            "text/plain": [
              "<IPython.core.display.HTML object>"
            ],
            "text/html": [
              "<span style=\"background-color:rgba(135,206,250,0.2842054);\">wine</span> <span style=\"background-color:rgba(135,206,250,0.4829735);\">review</span> <span style=\"background-color:rgba(135,206,250,0.17009735);\">:</span> <span style=\"background-color:rgba(135,206,250,0.50432736);\">germany</span> <span style=\"background-color:rgba(135,206,250,0.12924221);\">:</span> <span style=\"background-color:rgba(135,206,250,0.23523371);\">mosel</span> <span style=\"background-color:rgba(135,206,250,0.105545476);\">:</span> <span style=\"background-color:rgba(135,206,250,0.3372416);\">riesling</span> <span style=\"background-color:rgba(135,206,250,0.14889582);\">:</span> <span style=\"background-color:rgba(135,206,250,0.11852277);\">fresh</span> <span style=\"background-color:rgba(135,206,250,0.104811855);\">and</span> <span style=\"background-color:rgba(135,206,250,0.17228094);\">fruity</span> <span style=\"background-color:rgba(135,206,250,0.11050144);\">,</span> <span style=\"background-color:rgba(135,206,250,0.24718456);\">this</span> <span style=\"background-color:rgba(135,206,250,0.25144666);\">riesling</span> <span style=\"background-color:rgba(135,206,250,0.3746655);\">has</span> <span style=\"background-color:rgba(135,206,250,0.29281655);\">a</span> <span style=\"background-color:rgba(135,206,250,0.16167036);\">slightly</span> <span style=\"background-color:rgba(135,206,250,0.2543914);\">off</span> <span style=\"background-color:rgba(135,206,250,0.14775835);\">-</span> <span style=\"background-color:rgba(135,206,250,0.4335822);\">dry</span> <span style=\"background-color:rgba(135,206,250,1.0);\">,</span> <span style=\"background-color:rgba(135,206,250,0.4779839);\">crisp</span>"
            ]
          },
          "metadata": {}
        },
        {
          "output_type": "stream",
          "name": "stdout",
          "text": [
            ",:   \t56.56999969482422%\n",
            "apple:   \t18.360000610351562%\n",
            "white:   \t12.789999961853027%\n",
            "and:   \t7.690000057220459%\n",
            "wine:   \t0.8899999856948853%\n",
            "--------\n",
            "\n"
          ]
        },
        {
          "output_type": "display_data",
          "data": {
            "text/plain": [
              "<IPython.core.display.HTML object>"
            ],
            "text/html": [
              "<span style=\"background-color:rgba(135,206,250,0.62800354);\">wine</span> <span style=\"background-color:rgba(135,206,250,1.0);\">review</span> <span style=\"background-color:rgba(135,206,250,0.29676518);\">:</span> <span style=\"background-color:rgba(135,206,250,0.74664617);\">germany</span> <span style=\"background-color:rgba(135,206,250,0.2814807);\">:</span> <span style=\"background-color:rgba(135,206,250,0.17403263);\">mosel</span> <span style=\"background-color:rgba(135,206,250,0.16276503);\">:</span> <span style=\"background-color:rgba(135,206,250,0.14554071);\">riesling</span> <span style=\"background-color:rgba(135,206,250,0.16788436);\">:</span> <span style=\"background-color:rgba(135,206,250,0.08634454);\">fresh</span> <span style=\"background-color:rgba(135,206,250,0.09551873);\">and</span> <span style=\"background-color:rgba(135,206,250,0.23363617);\">fruity</span> <span style=\"background-color:rgba(135,206,250,0.16066103);\">,</span> <span style=\"background-color:rgba(135,206,250,0.31362727);\">this</span> <span style=\"background-color:rgba(135,206,250,0.16079547);\">riesling</span> <span style=\"background-color:rgba(135,206,250,0.46348804);\">has</span> <span style=\"background-color:rgba(135,206,250,0.410648);\">a</span> <span style=\"background-color:rgba(135,206,250,0.16758606);\">slightly</span> <span style=\"background-color:rgba(135,206,250,0.17829104);\">off</span> <span style=\"background-color:rgba(135,206,250,0.22770903);\">-</span> <span style=\"background-color:rgba(135,206,250,0.50508225);\">dry</span> <span style=\"background-color:rgba(135,206,250,0.7127477);\">,</span> <span style=\"background-color:rgba(135,206,250,0.9328806);\">crisp</span> <span style=\"background-color:rgba(135,206,250,0.45796052);\">apple</span>"
            ]
          },
          "metadata": {}
        },
        {
          "output_type": "stream",
          "name": "stdout",
          "text": [
            "and:   \t89.19000244140625%\n",
            "-:   \t9.170000076293945%\n",
            ",:   \t1.5399999618530273%\n",
            "flavor:   \t0.07000000029802322%\n",
            "flavors:   \t0.009999999776482582%\n",
            "--------\n",
            "\n"
          ]
        },
        {
          "output_type": "display_data",
          "data": {
            "text/plain": [
              "<IPython.core.display.HTML object>"
            ],
            "text/html": [
              "<span style=\"background-color:rgba(135,206,250,0.15481299);\">wine</span> <span style=\"background-color:rgba(135,206,250,0.25029346);\">review</span> <span style=\"background-color:rgba(135,206,250,0.10388497);\">:</span> <span style=\"background-color:rgba(135,206,250,0.24997509);\">germany</span> <span style=\"background-color:rgba(135,206,250,0.08222371);\">:</span> <span style=\"background-color:rgba(135,206,250,0.20380662);\">mosel</span> <span style=\"background-color:rgba(135,206,250,0.050109155);\">:</span> <span style=\"background-color:rgba(135,206,250,0.21543929);\">riesling</span> <span style=\"background-color:rgba(135,206,250,0.074911036);\">:</span> <span style=\"background-color:rgba(135,206,250,0.1047501);\">fresh</span> <span style=\"background-color:rgba(135,206,250,0.045889683);\">and</span> <span style=\"background-color:rgba(135,206,250,0.121751316);\">fruity</span> <span style=\"background-color:rgba(135,206,250,0.056277074);\">,</span> <span style=\"background-color:rgba(135,206,250,0.08303452);\">this</span> <span style=\"background-color:rgba(135,206,250,0.09932426);\">riesling</span> <span style=\"background-color:rgba(135,206,250,0.09829853);\">has</span> <span style=\"background-color:rgba(135,206,250,0.054429386);\">a</span> <span style=\"background-color:rgba(135,206,250,0.065333575);\">slightly</span> <span style=\"background-color:rgba(135,206,250,0.08317925);\">off</span> <span style=\"background-color:rgba(135,206,250,0.088781126);\">-</span> <span style=\"background-color:rgba(135,206,250,0.27462965);\">dry</span> <span style=\"background-color:rgba(135,206,250,0.37284166);\">,</span> <span style=\"background-color:rgba(135,206,250,0.48730108);\">crisp</span> <span style=\"background-color:rgba(135,206,250,1.0);\">apple</span> <span style=\"background-color:rgba(135,206,250,0.20642866);\">and</span>"
            ]
          },
          "metadata": {}
        },
        {
          "output_type": "stream",
          "name": "stdout",
          "text": [
            "pear:   \t49.33000183105469%\n",
            "citrus:   \t22.350000381469727%\n",
            "lemon:   \t12.0%\n",
            "lime:   \t7.099999904632568%\n",
            "peach:   \t2.3399999141693115%\n",
            "--------\n",
            "\n"
          ]
        },
        {
          "output_type": "display_data",
          "data": {
            "text/plain": [
              "<IPython.core.display.HTML object>"
            ],
            "text/html": [
              "<span style=\"background-color:rgba(135,206,250,0.5026534);\">wine</span> <span style=\"background-color:rgba(135,206,250,0.6786792);\">review</span> <span style=\"background-color:rgba(135,206,250,0.18008602);\">:</span> <span style=\"background-color:rgba(135,206,250,0.49446103);\">germany</span> <span style=\"background-color:rgba(135,206,250,0.19678468);\">:</span> <span style=\"background-color:rgba(135,206,250,0.15818006);\">mosel</span> <span style=\"background-color:rgba(135,206,250,0.12634668);\">:</span> <span style=\"background-color:rgba(135,206,250,0.11150059);\">riesling</span> <span style=\"background-color:rgba(135,206,250,0.1295457);\">:</span> <span style=\"background-color:rgba(135,206,250,0.069364525);\">fresh</span> <span style=\"background-color:rgba(135,206,250,0.06916029);\">and</span> <span style=\"background-color:rgba(135,206,250,0.15986124);\">fruity</span> <span style=\"background-color:rgba(135,206,250,0.112296306);\">,</span> <span style=\"background-color:rgba(135,206,250,0.20967974);\">this</span> <span style=\"background-color:rgba(135,206,250,0.10167338);\">riesling</span> <span style=\"background-color:rgba(135,206,250,0.2781995);\">has</span> <span style=\"background-color:rgba(135,206,250,0.25492206);\">a</span> <span style=\"background-color:rgba(135,206,250,0.09766168);\">slightly</span> <span style=\"background-color:rgba(135,206,250,0.115340866);\">off</span> <span style=\"background-color:rgba(135,206,250,0.1414377);\">-</span> <span style=\"background-color:rgba(135,206,250,0.2706195);\">dry</span> <span style=\"background-color:rgba(135,206,250,0.37574837);\">,</span> <span style=\"background-color:rgba(135,206,250,0.42561048);\">crisp</span> <span style=\"background-color:rgba(135,206,250,0.25809336);\">apple</span> <span style=\"background-color:rgba(135,206,250,1.0);\">and</span> <span style=\"background-color:rgba(135,206,250,0.47557154);\">pear</span>"
            ]
          },
          "metadata": {}
        },
        {
          "output_type": "stream",
          "name": "stdout",
          "text": [
            "flavors:   \t98.38999938964844%\n",
            "notes:   \t1.2699999809265137%\n",
            "aromas:   \t0.2199999988079071%\n",
            "-:   \t0.05999999865889549%\n",
            "fruit:   \t0.03999999910593033%\n",
            "--------\n",
            "\n"
          ]
        },
        {
          "output_type": "display_data",
          "data": {
            "text/plain": [
              "<IPython.core.display.HTML object>"
            ],
            "text/html": [
              "<span style=\"background-color:rgba(135,206,250,0.39808965);\">wine</span> <span style=\"background-color:rgba(135,206,250,1.0);\">review</span> <span style=\"background-color:rgba(135,206,250,0.18081261);\">:</span> <span style=\"background-color:rgba(135,206,250,0.38360754);\">germany</span> <span style=\"background-color:rgba(135,206,250,0.14545532);\">:</span> <span style=\"background-color:rgba(135,206,250,0.15334441);\">mosel</span> <span style=\"background-color:rgba(135,206,250,0.10335282);\">:</span> <span style=\"background-color:rgba(135,206,250,0.10782833);\">riesling</span> <span style=\"background-color:rgba(135,206,250,0.11726742);\">:</span> <span style=\"background-color:rgba(135,206,250,0.056613427);\">fresh</span> <span style=\"background-color:rgba(135,206,250,0.07665868);\">and</span> <span style=\"background-color:rgba(135,206,250,0.08674105);\">fruity</span> <span style=\"background-color:rgba(135,206,250,0.08210931);\">,</span> <span style=\"background-color:rgba(135,206,250,0.21282947);\">this</span> <span style=\"background-color:rgba(135,206,250,0.07592165);\">riesling</span> <span style=\"background-color:rgba(135,206,250,0.28222233);\">has</span> <span style=\"background-color:rgba(135,206,250,0.095925696);\">a</span> <span style=\"background-color:rgba(135,206,250,0.069823675);\">slightly</span> <span style=\"background-color:rgba(135,206,250,0.1443832);\">off</span> <span style=\"background-color:rgba(135,206,250,0.07539674);\">-</span> <span style=\"background-color:rgba(135,206,250,0.10886237);\">dry</span> <span style=\"background-color:rgba(135,206,250,0.2657042);\">,</span> <span style=\"background-color:rgba(135,206,250,0.19116801);\">crisp</span> <span style=\"background-color:rgba(135,206,250,0.46886522);\">apple</span> <span style=\"background-color:rgba(135,206,250,0.47942704);\">and</span> <span style=\"background-color:rgba(135,206,250,0.70467734);\">pear</span> <span style=\"background-color:rgba(135,206,250,0.38275594);\">flavors</span>"
            ]
          },
          "metadata": {}
        },
        {
          "output_type": "stream",
          "name": "stdout",
          "text": [
            ".:   \t77.6500015258789%\n",
            ",:   \t15.609999656677246%\n",
            "that:   \t5.849999904632568%\n",
            "accented:   \t0.47999998927116394%\n",
            "and:   \t0.10999999940395355%\n",
            "--------\n",
            "\n"
          ]
        },
        {
          "output_type": "display_data",
          "data": {
            "text/plain": [
              "<IPython.core.display.HTML object>"
            ],
            "text/html": [
              "<span style=\"background-color:rgba(135,206,250,0.36372072);\">wine</span> <span style=\"background-color:rgba(135,206,250,1.0);\">review</span> <span style=\"background-color:rgba(135,206,250,0.18844116);\">:</span> <span style=\"background-color:rgba(135,206,250,0.7502284);\">germany</span> <span style=\"background-color:rgba(135,206,250,0.23437186);\">:</span> <span style=\"background-color:rgba(135,206,250,0.25331002);\">mosel</span> <span style=\"background-color:rgba(135,206,250,0.14365846);\">:</span> <span style=\"background-color:rgba(135,206,250,0.24557397);\">riesling</span> <span style=\"background-color:rgba(135,206,250,0.112453155);\">:</span> <span style=\"background-color:rgba(135,206,250,0.08044725);\">fresh</span> <span style=\"background-color:rgba(135,206,250,0.068729036);\">and</span> <span style=\"background-color:rgba(135,206,250,0.10645612);\">fruity</span> <span style=\"background-color:rgba(135,206,250,0.06660192);\">,</span> <span style=\"background-color:rgba(135,206,250,0.1815965);\">this</span> <span style=\"background-color:rgba(135,206,250,0.10247079);\">riesling</span> <span style=\"background-color:rgba(135,206,250,0.105707355);\">has</span> <span style=\"background-color:rgba(135,206,250,0.051920786);\">a</span> <span style=\"background-color:rgba(135,206,250,0.07674129);\">slightly</span> <span style=\"background-color:rgba(135,206,250,0.060822017);\">off</span> <span style=\"background-color:rgba(135,206,250,0.053988587);\">-</span> <span style=\"background-color:rgba(135,206,250,0.123317234);\">dry</span> <span style=\"background-color:rgba(135,206,250,0.08536261);\">,</span> <span style=\"background-color:rgba(135,206,250,0.1433215);\">crisp</span> <span style=\"background-color:rgba(135,206,250,0.15076059);\">apple</span> <span style=\"background-color:rgba(135,206,250,0.1194675);\">and</span> <span style=\"background-color:rgba(135,206,250,0.20342869);\">pear</span> <span style=\"background-color:rgba(135,206,250,0.38831472);\">flavors</span> <span style=\"background-color:rgba(135,206,250,0.3650925);\">.</span>"
            ]
          },
          "metadata": {}
        },
        {
          "output_type": "stream",
          "name": "stdout",
          "text": [
            "it:   \t95.04000091552734%\n",
            "the:   \t3.819999933242798%\n",
            "a:   \t0.6600000262260437%\n",
            "there:   \t0.14000000059604645%\n",
            "fresh:   \t0.03999999910593033%\n",
            "--------\n",
            "\n"
          ]
        },
        {
          "output_type": "display_data",
          "data": {
            "text/plain": [
              "<IPython.core.display.HTML object>"
            ],
            "text/html": [
              "<span style=\"background-color:rgba(135,206,250,0.1855946);\">wine</span> <span style=\"background-color:rgba(135,206,250,0.28655922);\">review</span> <span style=\"background-color:rgba(135,206,250,0.2276154);\">:</span> <span style=\"background-color:rgba(135,206,250,0.42356247);\">germany</span> <span style=\"background-color:rgba(135,206,250,0.18785115);\">:</span> <span style=\"background-color:rgba(135,206,250,0.12641579);\">mosel</span> <span style=\"background-color:rgba(135,206,250,0.07156599);\">:</span> <span style=\"background-color:rgba(135,206,250,0.0919978);\">riesling</span> <span style=\"background-color:rgba(135,206,250,0.076552235);\">:</span> <span style=\"background-color:rgba(135,206,250,0.067885496);\">fresh</span> <span style=\"background-color:rgba(135,206,250,0.05159266);\">and</span> <span style=\"background-color:rgba(135,206,250,0.10868048);\">fruity</span> <span style=\"background-color:rgba(135,206,250,0.05367453);\">,</span> <span style=\"background-color:rgba(135,206,250,0.053312346);\">this</span> <span style=\"background-color:rgba(135,206,250,0.047000773);\">riesling</span> <span style=\"background-color:rgba(135,206,250,0.117063254);\">has</span> <span style=\"background-color:rgba(135,206,250,0.0472338);\">a</span> <span style=\"background-color:rgba(135,206,250,0.055688374);\">slightly</span> <span style=\"background-color:rgba(135,206,250,0.055024467);\">off</span> <span style=\"background-color:rgba(135,206,250,0.03367866);\">-</span> <span style=\"background-color:rgba(135,206,250,0.1157682);\">dry</span> <span style=\"background-color:rgba(135,206,250,0.100798056);\">,</span> <span style=\"background-color:rgba(135,206,250,0.10743051);\">crisp</span> <span style=\"background-color:rgba(135,206,250,0.11939975);\">apple</span> <span style=\"background-color:rgba(135,206,250,0.12639883);\">and</span> <span style=\"background-color:rgba(135,206,250,0.16615884);\">pear</span> <span style=\"background-color:rgba(135,206,250,0.35229915);\">flavors</span> <span style=\"background-color:rgba(135,206,250,1.0);\">.</span> <span style=\"background-color:rgba(135,206,250,0.2209356);\">it</span>"
            ]
          },
          "metadata": {}
        },
        {
          "output_type": "stream",
          "name": "stdout",
          "text": [
            "':   \t99.79000091552734%\n",
            "finishes:   \t0.15000000596046448%\n",
            "is:   \t0.03999999910593033%\n",
            "has:   \t0.0%\n",
            "balances:   \t0.0%\n",
            "--------\n",
            "\n"
          ]
        },
        {
          "output_type": "display_data",
          "data": {
            "text/plain": [
              "<IPython.core.display.HTML object>"
            ],
            "text/html": [
              "<span style=\"background-color:rgba(135,206,250,0.16950849);\">wine</span> <span style=\"background-color:rgba(135,206,250,0.30201325);\">review</span> <span style=\"background-color:rgba(135,206,250,0.07729679);\">:</span> <span style=\"background-color:rgba(135,206,250,0.192462);\">germany</span> <span style=\"background-color:rgba(135,206,250,0.06874928);\">:</span> <span style=\"background-color:rgba(135,206,250,0.09639975);\">mosel</span> <span style=\"background-color:rgba(135,206,250,0.051426508);\">:</span> <span style=\"background-color:rgba(135,206,250,0.12396562);\">riesling</span> <span style=\"background-color:rgba(135,206,250,0.06926814);\">:</span> <span style=\"background-color:rgba(135,206,250,0.05942036);\">fresh</span> <span style=\"background-color:rgba(135,206,250,0.05156481);\">and</span> <span style=\"background-color:rgba(135,206,250,0.06860004);\">fruity</span> <span style=\"background-color:rgba(135,206,250,0.045174427);\">,</span> <span style=\"background-color:rgba(135,206,250,0.051246133);\">this</span> <span style=\"background-color:rgba(135,206,250,0.052082907);\">riesling</span> <span style=\"background-color:rgba(135,206,250,0.079047225);\">has</span> <span style=\"background-color:rgba(135,206,250,0.05139266);\">a</span> <span style=\"background-color:rgba(135,206,250,0.03194468);\">slightly</span> <span style=\"background-color:rgba(135,206,250,0.04679141);\">off</span> <span style=\"background-color:rgba(135,206,250,0.027168157);\">-</span> <span style=\"background-color:rgba(135,206,250,0.08312794);\">dry</span> <span style=\"background-color:rgba(135,206,250,0.08608755);\">,</span> <span style=\"background-color:rgba(135,206,250,0.09798886);\">crisp</span> <span style=\"background-color:rgba(135,206,250,0.110567875);\">apple</span> <span style=\"background-color:rgba(135,206,250,0.16812523);\">and</span> <span style=\"background-color:rgba(135,206,250,0.15227546);\">pear</span> <span style=\"background-color:rgba(135,206,250,0.2833741);\">flavors</span> <span style=\"background-color:rgba(135,206,250,0.88949805);\">.</span> <span style=\"background-color:rgba(135,206,250,1.0);\">it</span> <span style=\"background-color:rgba(135,206,250,0.10153505);\">'</span>"
            ]
          },
          "metadata": {}
        },
        {
          "output_type": "stream",
          "name": "stdout",
          "text": [
            "s:   \t100.0%\n",
            "ll:   \t0.0%\n",
            "d:   \t0.0%\n",
            "':   \t0.0%\n",
            "[UNK]:   \t0.0%\n",
            "--------\n",
            "\n"
          ]
        },
        {
          "output_type": "display_data",
          "data": {
            "text/plain": [
              "<IPython.core.display.HTML object>"
            ],
            "text/html": [
              "<span style=\"background-color:rgba(135,206,250,0.24918993);\">wine</span> <span style=\"background-color:rgba(135,206,250,0.4031803);\">review</span> <span style=\"background-color:rgba(135,206,250,0.16408677);\">:</span> <span style=\"background-color:rgba(135,206,250,0.4538572);\">germany</span> <span style=\"background-color:rgba(135,206,250,0.1051938);\">:</span> <span style=\"background-color:rgba(135,206,250,0.22784641);\">mosel</span> <span style=\"background-color:rgba(135,206,250,0.058912035);\">:</span> <span style=\"background-color:rgba(135,206,250,0.23419918);\">riesling</span> <span style=\"background-color:rgba(135,206,250,0.09128123);\">:</span> <span style=\"background-color:rgba(135,206,250,0.112474255);\">fresh</span> <span style=\"background-color:rgba(135,206,250,0.061502542);\">and</span> <span style=\"background-color:rgba(135,206,250,0.113349274);\">fruity</span> <span style=\"background-color:rgba(135,206,250,0.05256282);\">,</span> <span style=\"background-color:rgba(135,206,250,0.06849158);\">this</span> <span style=\"background-color:rgba(135,206,250,0.08028028);\">riesling</span> <span style=\"background-color:rgba(135,206,250,0.082702145);\">has</span> <span style=\"background-color:rgba(135,206,250,0.039160777);\">a</span> <span style=\"background-color:rgba(135,206,250,0.0470249);\">slightly</span> <span style=\"background-color:rgba(135,206,250,0.060787074);\">off</span> <span style=\"background-color:rgba(135,206,250,0.037410144);\">-</span> <span style=\"background-color:rgba(135,206,250,0.14534307);\">dry</span> <span style=\"background-color:rgba(135,206,250,0.10714806);\">,</span> <span style=\"background-color:rgba(135,206,250,0.16962767);\">crisp</span> <span style=\"background-color:rgba(135,206,250,0.15846242);\">apple</span> <span style=\"background-color:rgba(135,206,250,0.1340833);\">and</span> <span style=\"background-color:rgba(135,206,250,0.16897838);\">pear</span> <span style=\"background-color:rgba(135,206,250,0.26444322);\">flavors</span> <span style=\"background-color:rgba(135,206,250,1.0);\">.</span> <span style=\"background-color:rgba(135,206,250,0.7993686);\">it</span> <span style=\"background-color:rgba(135,206,250,0.07999277);\">'</span> <span style=\"background-color:rgba(135,206,250,0.22573014);\">s</span>"
            ]
          },
          "metadata": {}
        },
        {
          "output_type": "stream",
          "name": "stdout",
          "text": [
            "a:   \t73.30999755859375%\n",
            "an:   \t5.110000133514404%\n",
            "not:   \t4.760000228881836%\n",
            "light:   \t2.2300000190734863%\n",
            "refreshing:   \t1.7200000286102295%\n",
            "--------\n",
            "\n"
          ]
        },
        {
          "output_type": "display_data",
          "data": {
            "text/plain": [
              "<IPython.core.display.HTML object>"
            ],
            "text/html": [
              "<span style=\"background-color:rgba(135,206,250,0.22692929);\">wine</span> <span style=\"background-color:rgba(135,206,250,0.46272418);\">review</span> <span style=\"background-color:rgba(135,206,250,0.13945125);\">:</span> <span style=\"background-color:rgba(135,206,250,0.430632);\">germany</span> <span style=\"background-color:rgba(135,206,250,0.097765125);\">:</span> <span style=\"background-color:rgba(135,206,250,0.18135414);\">mosel</span> <span style=\"background-color:rgba(135,206,250,0.075273335);\">:</span> <span style=\"background-color:rgba(135,206,250,0.34794855);\">riesling</span> <span style=\"background-color:rgba(135,206,250,0.113576636);\">:</span> <span style=\"background-color:rgba(135,206,250,0.06010102);\">fresh</span> <span style=\"background-color:rgba(135,206,250,0.06242265);\">and</span> <span style=\"background-color:rgba(135,206,250,0.059789546);\">fruity</span> <span style=\"background-color:rgba(135,206,250,0.045956466);\">,</span> <span style=\"background-color:rgba(135,206,250,0.0508314);\">this</span> <span style=\"background-color:rgba(135,206,250,0.0930356);\">riesling</span> <span style=\"background-color:rgba(135,206,250,0.06860768);\">has</span> <span style=\"background-color:rgba(135,206,250,0.029126782);\">a</span> <span style=\"background-color:rgba(135,206,250,0.028355977);\">slightly</span> <span style=\"background-color:rgba(135,206,250,0.045963004);\">off</span> <span style=\"background-color:rgba(135,206,250,0.020726146);\">-</span> <span style=\"background-color:rgba(135,206,250,0.07851131);\">dry</span> <span style=\"background-color:rgba(135,206,250,0.07475613);\">,</span> <span style=\"background-color:rgba(135,206,250,0.07485805);\">crisp</span> <span style=\"background-color:rgba(135,206,250,0.13357161);\">apple</span> <span style=\"background-color:rgba(135,206,250,0.12595615);\">and</span> <span style=\"background-color:rgba(135,206,250,0.15093856);\">pear</span> <span style=\"background-color:rgba(135,206,250,0.4803117);\">flavors</span> <span style=\"background-color:rgba(135,206,250,1.0);\">.</span> <span style=\"background-color:rgba(135,206,250,0.69125986);\">it</span> <span style=\"background-color:rgba(135,206,250,0.09461848);\">'</span> <span style=\"background-color:rgba(135,206,250,0.629208);\">s</span> <span style=\"background-color:rgba(135,206,250,0.29456276);\">balanced</span>"
            ]
          },
          "metadata": {}
        },
        {
          "output_type": "stream",
          "name": "stdout",
          "text": [
            "and:   \t34.2400016784668%\n",
            ",:   \t32.77000045776367%\n",
            "with:   \t19.100000381469727%\n",
            "by:   \t11.869999885559082%\n",
            "in:   \t1.2699999809265137%\n",
            "--------\n",
            "\n"
          ]
        },
        {
          "output_type": "display_data",
          "data": {
            "text/plain": [
              "<IPython.core.display.HTML object>"
            ],
            "text/html": [
              "<span style=\"background-color:rgba(135,206,250,0.2556192);\">wine</span> <span style=\"background-color:rgba(135,206,250,0.43147412);\">review</span> <span style=\"background-color:rgba(135,206,250,0.2111783);\">:</span> <span style=\"background-color:rgba(135,206,250,0.51184124);\">germany</span> <span style=\"background-color:rgba(135,206,250,0.19986574);\">:</span> <span style=\"background-color:rgba(135,206,250,0.21587297);\">mosel</span> <span style=\"background-color:rgba(135,206,250,0.095010705);\">:</span> <span style=\"background-color:rgba(135,206,250,0.24868493);\">riesling</span> <span style=\"background-color:rgba(135,206,250,0.09006669);\">:</span> <span style=\"background-color:rgba(135,206,250,0.1035117);\">fresh</span> <span style=\"background-color:rgba(135,206,250,0.05596866);\">and</span> <span style=\"background-color:rgba(135,206,250,0.120275006);\">fruity</span> <span style=\"background-color:rgba(135,206,250,0.04959611);\">,</span> <span style=\"background-color:rgba(135,206,250,0.069794826);\">this</span> <span style=\"background-color:rgba(135,206,250,0.07979075);\">riesling</span> <span style=\"background-color:rgba(135,206,250,0.04940129);\">has</span> <span style=\"background-color:rgba(135,206,250,0.038861524);\">a</span> <span style=\"background-color:rgba(135,206,250,0.054563843);\">slightly</span> <span style=\"background-color:rgba(135,206,250,0.03736497);\">off</span> <span style=\"background-color:rgba(135,206,250,0.034511287);\">-</span> <span style=\"background-color:rgba(135,206,250,0.12180489);\">dry</span> <span style=\"background-color:rgba(135,206,250,0.06492666);\">,</span> <span style=\"background-color:rgba(135,206,250,0.14820732);\">crisp</span> <span style=\"background-color:rgba(135,206,250,0.10537923);\">apple</span> <span style=\"background-color:rgba(135,206,250,0.08657126);\">and</span> <span style=\"background-color:rgba(135,206,250,0.13151146);\">pear</span> <span style=\"background-color:rgba(135,206,250,0.27855337);\">flavors</span> <span style=\"background-color:rgba(135,206,250,0.45495552);\">.</span> <span style=\"background-color:rgba(135,206,250,0.15893286);\">it</span> <span style=\"background-color:rgba(135,206,250,0.043968715);\">'</span> <span style=\"background-color:rgba(135,206,250,0.25249073);\">s</span> <span style=\"background-color:rgba(135,206,250,1.0);\">balanced</span> <span style=\"background-color:rgba(135,206,250,0.3340978);\">with</span>"
            ]
          },
          "metadata": {}
        },
        {
          "output_type": "stream",
          "name": "stdout",
          "text": [
            "a:   \t83.63999938964844%\n",
            "crisp:   \t7.829999923706055%\n",
            "fresh:   \t1.5199999809265137%\n",
            "brisk:   \t1.4500000476837158%\n",
            "refreshing:   \t1.190000057220459%\n",
            "--------\n",
            "\n"
          ]
        },
        {
          "output_type": "display_data",
          "data": {
            "text/plain": [
              "<IPython.core.display.HTML object>"
            ],
            "text/html": [
              "<span style=\"background-color:rgba(135,206,250,0.17473884);\">wine</span> <span style=\"background-color:rgba(135,206,250,0.24818756);\">review</span> <span style=\"background-color:rgba(135,206,250,0.14989577);\">:</span> <span style=\"background-color:rgba(135,206,250,0.40409577);\">germany</span> <span style=\"background-color:rgba(135,206,250,0.08594739);\">:</span> <span style=\"background-color:rgba(135,206,250,0.20566136);\">mosel</span> <span style=\"background-color:rgba(135,206,250,0.043451782);\">:</span> <span style=\"background-color:rgba(135,206,250,0.20149156);\">riesling</span> <span style=\"background-color:rgba(135,206,250,0.066995814);\">:</span> <span style=\"background-color:rgba(135,206,250,0.104928635);\">fresh</span> <span style=\"background-color:rgba(135,206,250,0.040385064);\">and</span> <span style=\"background-color:rgba(135,206,250,0.10025271);\">fruity</span> <span style=\"background-color:rgba(135,206,250,0.039744884);\">,</span> <span style=\"background-color:rgba(135,206,250,0.07441169);\">this</span> <span style=\"background-color:rgba(135,206,250,0.072786205);\">riesling</span> <span style=\"background-color:rgba(135,206,250,0.05833603);\">has</span> <span style=\"background-color:rgba(135,206,250,0.023448588);\">a</span> <span style=\"background-color:rgba(135,206,250,0.04904431);\">slightly</span> <span style=\"background-color:rgba(135,206,250,0.05062018);\">off</span> <span style=\"background-color:rgba(135,206,250,0.026863214);\">-</span> <span style=\"background-color:rgba(135,206,250,0.11288151);\">dry</span> <span style=\"background-color:rgba(135,206,250,0.053434603);\">,</span> <span style=\"background-color:rgba(135,206,250,0.14390017);\">crisp</span> <span style=\"background-color:rgba(135,206,250,0.11406944);\">apple</span> <span style=\"background-color:rgba(135,206,250,0.061912075);\">and</span> <span style=\"background-color:rgba(135,206,250,0.13848524);\">pear</span> <span style=\"background-color:rgba(135,206,250,0.22381124);\">flavors</span> <span style=\"background-color:rgba(135,206,250,0.38075757);\">.</span> <span style=\"background-color:rgba(135,206,250,0.2133907);\">it</span> <span style=\"background-color:rgba(135,206,250,0.052209795);\">'</span> <span style=\"background-color:rgba(135,206,250,0.31758747);\">s</span> <span style=\"background-color:rgba(135,206,250,0.6261494);\">balanced</span> <span style=\"background-color:rgba(135,206,250,1.0);\">with</span> <span style=\"background-color:rgba(135,206,250,0.21212219);\">a</span>"
            ]
          },
          "metadata": {}
        },
        {
          "output_type": "stream",
          "name": "stdout",
          "text": [
            "crisp:   \t15.609999656677246%\n",
            "refreshing:   \t14.8100004196167%\n",
            "delicate:   \t13.289999961853027%\n",
            "brisk:   \t7.440000057220459%\n",
            "touch:   \t6.019999980926514%\n",
            "--------\n",
            "\n"
          ]
        },
        {
          "output_type": "display_data",
          "data": {
            "text/plain": [
              "<IPython.core.display.HTML object>"
            ],
            "text/html": [
              "<span style=\"background-color:rgba(135,206,250,0.120660275);\">wine</span> <span style=\"background-color:rgba(135,206,250,0.23566367);\">review</span> <span style=\"background-color:rgba(135,206,250,0.11954808);\">:</span> <span style=\"background-color:rgba(135,206,250,0.41032815);\">germany</span> <span style=\"background-color:rgba(135,206,250,0.07809482);\">:</span> <span style=\"background-color:rgba(135,206,250,0.15165645);\">mosel</span> <span style=\"background-color:rgba(135,206,250,0.055036657);\">:</span> <span style=\"background-color:rgba(135,206,250,0.22458649);\">riesling</span> <span style=\"background-color:rgba(135,206,250,0.07474114);\">:</span> <span style=\"background-color:rgba(135,206,250,0.053628474);\">fresh</span> <span style=\"background-color:rgba(135,206,250,0.04141944);\">and</span> <span style=\"background-color:rgba(135,206,250,0.08148051);\">fruity</span> <span style=\"background-color:rgba(135,206,250,0.038171995);\">,</span> <span style=\"background-color:rgba(135,206,250,0.0499195);\">this</span> <span style=\"background-color:rgba(135,206,250,0.07409663);\">riesling</span> <span style=\"background-color:rgba(135,206,250,0.06897137);\">has</span> <span style=\"background-color:rgba(135,206,250,0.020735033);\">a</span> <span style=\"background-color:rgba(135,206,250,0.036615632);\">slightly</span> <span style=\"background-color:rgba(135,206,250,0.038435575);\">off</span> <span style=\"background-color:rgba(135,206,250,0.021781638);\">-</span> <span style=\"background-color:rgba(135,206,250,0.07703581);\">dry</span> <span style=\"background-color:rgba(135,206,250,0.05135343);\">,</span> <span style=\"background-color:rgba(135,206,250,0.059895843);\">crisp</span> <span style=\"background-color:rgba(135,206,250,0.1331791);\">apple</span> <span style=\"background-color:rgba(135,206,250,0.062516876);\">and</span> <span style=\"background-color:rgba(135,206,250,0.15149818);\">pear</span> <span style=\"background-color:rgba(135,206,250,0.30008626);\">flavors</span> <span style=\"background-color:rgba(135,206,250,0.37243813);\">.</span> <span style=\"background-color:rgba(135,206,250,0.25615102);\">it</span> <span style=\"background-color:rgba(135,206,250,0.05838742);\">'</span> <span style=\"background-color:rgba(135,206,250,0.3584269);\">s</span> <span style=\"background-color:rgba(135,206,250,0.23330921);\">balanced</span> <span style=\"background-color:rgba(135,206,250,0.95401555);\">with</span> <span style=\"background-color:rgba(135,206,250,1.0);\">a</span> <span style=\"background-color:rgba(135,206,250,0.27718008);\">crisp</span>"
            ]
          },
          "metadata": {}
        },
        {
          "output_type": "stream",
          "name": "stdout",
          "text": [
            ",:   \t99.44999694824219%\n",
            "finish:   \t0.15000000596046448%\n",
            "acidity:   \t0.12999999523162842%\n",
            "streak:   \t0.07000000029802322%\n",
            "edge:   \t0.07000000029802322%\n",
            "--------\n",
            "\n"
          ]
        },
        {
          "output_type": "display_data",
          "data": {
            "text/plain": [
              "<IPython.core.display.HTML object>"
            ],
            "text/html": [
              "<span style=\"background-color:rgba(135,206,250,0.124085866);\">wine</span> <span style=\"background-color:rgba(135,206,250,0.25853017);\">review</span> <span style=\"background-color:rgba(135,206,250,0.15587701);\">:</span> <span style=\"background-color:rgba(135,206,250,0.33979177);\">germany</span> <span style=\"background-color:rgba(135,206,250,0.08049487);\">:</span> <span style=\"background-color:rgba(135,206,250,0.13920812);\">mosel</span> <span style=\"background-color:rgba(135,206,250,0.042774506);\">:</span> <span style=\"background-color:rgba(135,206,250,0.22531775);\">riesling</span> <span style=\"background-color:rgba(135,206,250,0.06441001);\">:</span> <span style=\"background-color:rgba(135,206,250,0.05671022);\">fresh</span> <span style=\"background-color:rgba(135,206,250,0.051802974);\">and</span> <span style=\"background-color:rgba(135,206,250,0.069729656);\">fruity</span> <span style=\"background-color:rgba(135,206,250,0.030561013);\">,</span> <span style=\"background-color:rgba(135,206,250,0.10466221);\">this</span> <span style=\"background-color:rgba(135,206,250,0.06282143);\">riesling</span> <span style=\"background-color:rgba(135,206,250,0.102741726);\">has</span> <span style=\"background-color:rgba(135,206,250,0.02386187);\">a</span> <span style=\"background-color:rgba(135,206,250,0.028326387);\">slightly</span> <span style=\"background-color:rgba(135,206,250,0.038426038);\">off</span> <span style=\"background-color:rgba(135,206,250,0.021500086);\">-</span> <span style=\"background-color:rgba(135,206,250,0.077620186);\">dry</span> <span style=\"background-color:rgba(135,206,250,0.036972873);\">,</span> <span style=\"background-color:rgba(135,206,250,0.09788881);\">crisp</span> <span style=\"background-color:rgba(135,206,250,0.09289345);\">apple</span> <span style=\"background-color:rgba(135,206,250,0.08265307);\">and</span> <span style=\"background-color:rgba(135,206,250,0.1171559);\">pear</span> <span style=\"background-color:rgba(135,206,250,0.16436182);\">flavors</span> <span style=\"background-color:rgba(135,206,250,0.37655503);\">.</span> <span style=\"background-color:rgba(135,206,250,0.25599632);\">it</span> <span style=\"background-color:rgba(135,206,250,0.04640739);\">'</span> <span style=\"background-color:rgba(135,206,250,0.3321773);\">s</span> <span style=\"background-color:rgba(135,206,250,0.28423);\">balanced</span> <span style=\"background-color:rgba(135,206,250,0.69407535);\">with</span> <span style=\"background-color:rgba(135,206,250,0.50245);\">a</span> <span style=\"background-color:rgba(135,206,250,1.0);\">crisp</span> <span style=\"background-color:rgba(135,206,250,0.36371782);\">,</span>"
            ]
          },
          "metadata": {}
        },
        {
          "output_type": "stream",
          "name": "stdout",
          "text": [
            "clean:   \t67.0999984741211%\n",
            "refreshing:   \t16.90999984741211%\n",
            "lemony:   \t8.180000305175781%\n",
            "fresh:   \t1.5499999523162842%\n",
            "citrusy:   \t1.4800000190734863%\n",
            "--------\n",
            "\n"
          ]
        },
        {
          "output_type": "display_data",
          "data": {
            "text/plain": [
              "<IPython.core.display.HTML object>"
            ],
            "text/html": [
              "<span style=\"background-color:rgba(135,206,250,0.22812742);\">wine</span> <span style=\"background-color:rgba(135,206,250,0.40495285);\">review</span> <span style=\"background-color:rgba(135,206,250,0.2203473);\">:</span> <span style=\"background-color:rgba(135,206,250,0.51666486);\">germany</span> <span style=\"background-color:rgba(135,206,250,0.1579309);\">:</span> <span style=\"background-color:rgba(135,206,250,0.21578537);\">mosel</span> <span style=\"background-color:rgba(135,206,250,0.10156882);\">:</span> <span style=\"background-color:rgba(135,206,250,0.3404983);\">riesling</span> <span style=\"background-color:rgba(135,206,250,0.1326238);\">:</span> <span style=\"background-color:rgba(135,206,250,0.082021974);\">fresh</span> <span style=\"background-color:rgba(135,206,250,0.059355967);\">and</span> <span style=\"background-color:rgba(135,206,250,0.10138699);\">fruity</span> <span style=\"background-color:rgba(135,206,250,0.060420763);\">,</span> <span style=\"background-color:rgba(135,206,250,0.06620121);\">this</span> <span style=\"background-color:rgba(135,206,250,0.106673166);\">riesling</span> <span style=\"background-color:rgba(135,206,250,0.09827651);\">has</span> <span style=\"background-color:rgba(135,206,250,0.03348826);\">a</span> <span style=\"background-color:rgba(135,206,250,0.04421648);\">slightly</span> <span style=\"background-color:rgba(135,206,250,0.06514066);\">off</span> <span style=\"background-color:rgba(135,206,250,0.038402226);\">-</span> <span style=\"background-color:rgba(135,206,250,0.1100616);\">dry</span> <span style=\"background-color:rgba(135,206,250,0.07639936);\">,</span> <span style=\"background-color:rgba(135,206,250,0.088462435);\">crisp</span> <span style=\"background-color:rgba(135,206,250,0.13598606);\">apple</span> <span style=\"background-color:rgba(135,206,250,0.07437213);\">and</span> <span style=\"background-color:rgba(135,206,250,0.14559159);\">pear</span> <span style=\"background-color:rgba(135,206,250,0.38000286);\">flavors</span> <span style=\"background-color:rgba(135,206,250,0.42978656);\">.</span> <span style=\"background-color:rgba(135,206,250,0.27530774);\">it</span> <span style=\"background-color:rgba(135,206,250,0.06926114);\">'</span> <span style=\"background-color:rgba(135,206,250,0.3289782);\">s</span> <span style=\"background-color:rgba(135,206,250,0.21629058);\">balanced</span> <span style=\"background-color:rgba(135,206,250,0.95804644);\">with</span> <span style=\"background-color:rgba(135,206,250,0.8351198);\">a</span> <span style=\"background-color:rgba(135,206,250,0.35309502);\">crisp</span> <span style=\"background-color:rgba(135,206,250,1.0);\">,</span> <span style=\"background-color:rgba(135,206,250,0.6395731);\">refreshing</span>"
            ]
          },
          "metadata": {}
        },
        {
          "output_type": "stream",
          "name": "stdout",
          "text": [
            "finish:   \t75.2300033569336%\n",
            "acidity:   \t7.610000133514404%\n",
            ",:   \t6.920000076293945%\n",
            "feel:   \t2.2200000286102295%\n",
            "mouthfeel:   \t1.8799999952316284%\n",
            "--------\n",
            "\n"
          ]
        },
        {
          "output_type": "display_data",
          "data": {
            "text/plain": [
              "<IPython.core.display.HTML object>"
            ],
            "text/html": [
              "<span style=\"background-color:rgba(135,206,250,0.24897347);\">wine</span> <span style=\"background-color:rgba(135,206,250,0.44095063);\">review</span> <span style=\"background-color:rgba(135,206,250,0.27152747);\">:</span> <span style=\"background-color:rgba(135,206,250,0.46499044);\">germany</span> <span style=\"background-color:rgba(135,206,250,0.1987403);\">:</span> <span style=\"background-color:rgba(135,206,250,0.15855065);\">mosel</span> <span style=\"background-color:rgba(135,206,250,0.10266087);\">:</span> <span style=\"background-color:rgba(135,206,250,0.11685319);\">riesling</span> <span style=\"background-color:rgba(135,206,250,0.101549685);\">:</span> <span style=\"background-color:rgba(135,206,250,0.049918417);\">fresh</span> <span style=\"background-color:rgba(135,206,250,0.054379754);\">and</span> <span style=\"background-color:rgba(135,206,250,0.06579193);\">fruity</span> <span style=\"background-color:rgba(135,206,250,0.049462065);\">,</span> <span style=\"background-color:rgba(135,206,250,0.0789908);\">this</span> <span style=\"background-color:rgba(135,206,250,0.05153271);\">riesling</span> <span style=\"background-color:rgba(135,206,250,0.12085122);\">has</span> <span style=\"background-color:rgba(135,206,250,0.055619013);\">a</span> <span style=\"background-color:rgba(135,206,250,0.040491458);\">slightly</span> <span style=\"background-color:rgba(135,206,250,0.0599392);\">off</span> <span style=\"background-color:rgba(135,206,250,0.03735268);\">-</span> <span style=\"background-color:rgba(135,206,250,0.07149377);\">dry</span> <span style=\"background-color:rgba(135,206,250,0.057784047);\">,</span> <span style=\"background-color:rgba(135,206,250,0.08589731);\">crisp</span> <span style=\"background-color:rgba(135,206,250,0.082431756);\">apple</span> <span style=\"background-color:rgba(135,206,250,0.06795651);\">and</span> <span style=\"background-color:rgba(135,206,250,0.09199234);\">pear</span> <span style=\"background-color:rgba(135,206,250,0.15285102);\">flavors</span> <span style=\"background-color:rgba(135,206,250,0.43085432);\">.</span> <span style=\"background-color:rgba(135,206,250,0.17714262);\">it</span> <span style=\"background-color:rgba(135,206,250,0.075464725);\">'</span> <span style=\"background-color:rgba(135,206,250,0.2705118);\">s</span> <span style=\"background-color:rgba(135,206,250,0.23389615);\">balanced</span> <span style=\"background-color:rgba(135,206,250,0.76400334);\">with</span> <span style=\"background-color:rgba(135,206,250,0.6498215);\">a</span> <span style=\"background-color:rgba(135,206,250,0.5022065);\">crisp</span> <span style=\"background-color:rgba(135,206,250,0.72918314);\">,</span> <span style=\"background-color:rgba(135,206,250,1.0);\">refreshing</span> <span style=\"background-color:rgba(135,206,250,0.6074537);\">finish</span>"
            ]
          },
          "metadata": {}
        },
        {
          "output_type": "stream",
          "name": "stdout",
          "text": [
            ".:   \t98.63999938964844%\n",
            "that:   \t0.8100000023841858%\n",
            ",:   \t0.5199999809265137%\n",
            "with:   \t0.019999999552965164%\n",
            "marked:   \t0.009999999776482582%\n",
            "--------\n",
            "\n"
          ]
        },
        {
          "output_type": "display_data",
          "data": {
            "text/plain": [
              "<IPython.core.display.HTML object>"
            ],
            "text/html": [
              "<span style=\"background-color:rgba(135,206,250,0.35092846);\">wine</span> <span style=\"background-color:rgba(135,206,250,0.8291237);\">review</span> <span style=\"background-color:rgba(135,206,250,0.44304675);\">:</span> <span style=\"background-color:rgba(135,206,250,1.0);\">germany</span> <span style=\"background-color:rgba(135,206,250,0.37912485);\">:</span> <span style=\"background-color:rgba(135,206,250,0.32660648);\">mosel</span> <span style=\"background-color:rgba(135,206,250,0.17473803);\">:</span> <span style=\"background-color:rgba(135,206,250,0.31175715);\">riesling</span> <span style=\"background-color:rgba(135,206,250,0.11026911);\">:</span> <span style=\"background-color:rgba(135,206,250,0.058093626);\">fresh</span> <span style=\"background-color:rgba(135,206,250,0.05067871);\">and</span> <span style=\"background-color:rgba(135,206,250,0.07746011);\">fruity</span> <span style=\"background-color:rgba(135,206,250,0.04368992);\">,</span> <span style=\"background-color:rgba(135,206,250,0.10538464);\">this</span> <span style=\"background-color:rgba(135,206,250,0.075094044);\">riesling</span> <span style=\"background-color:rgba(135,206,250,0.06186241);\">has</span> <span style=\"background-color:rgba(135,206,250,0.029433854);\">a</span> <span style=\"background-color:rgba(135,206,250,0.055209685);\">slightly</span> <span style=\"background-color:rgba(135,206,250,0.035734087);\">off</span> <span style=\"background-color:rgba(135,206,250,0.02910228);\">-</span> <span style=\"background-color:rgba(135,206,250,0.075864896);\">dry</span> <span style=\"background-color:rgba(135,206,250,0.04412185);\">,</span> <span style=\"background-color:rgba(135,206,250,0.08571713);\">crisp</span> <span style=\"background-color:rgba(135,206,250,0.08796544);\">apple</span> <span style=\"background-color:rgba(135,206,250,0.052523486);\">and</span> <span style=\"background-color:rgba(135,206,250,0.11358118);\">pear</span> <span style=\"background-color:rgba(135,206,250,0.20966612);\">flavors</span> <span style=\"background-color:rgba(135,206,250,0.1558697);\">.</span> <span style=\"background-color:rgba(135,206,250,0.102823436);\">it</span> <span style=\"background-color:rgba(135,206,250,0.02727689);\">'</span> <span style=\"background-color:rgba(135,206,250,0.07298097);\">s</span> <span style=\"background-color:rgba(135,206,250,0.110984586);\">balanced</span> <span style=\"background-color:rgba(135,206,250,0.1304682);\">with</span> <span style=\"background-color:rgba(135,206,250,0.07755765);\">a</span> <span style=\"background-color:rgba(135,206,250,0.15239993);\">crisp</span> <span style=\"background-color:rgba(135,206,250,0.13518617);\">,</span> <span style=\"background-color:rgba(135,206,250,0.2750559);\">refreshing</span> <span style=\"background-color:rgba(135,206,250,0.56112283);\">finish</span> <span style=\"background-color:rgba(135,206,250,0.42986396);\">.</span>"
            ]
          },
          "metadata": {}
        },
        {
          "output_type": "stream",
          "name": "stdout",
          "text": [
            ":   \t95.29000091552734%\n",
            "drink:   \t4.5%\n",
            "it:   \t0.10999999940395355%\n",
            "enjoy:   \t0.029999999329447746%\n",
            "the:   \t0.029999999329447746%\n",
            "--------\n",
            "\n"
          ]
        }
      ],
      "source": [
        "info = text_generator.generate(\n",
        "    \"wine review : germany\", max_tokens=80, temperature=0.5\n",
        ")\n",
        "print_probs(info, vocab)"
      ]
    },
    {
      "cell_type": "markdown",
      "source": [
        "Ref.: David Foster. Generative Deep Learning. O'Reilly Media; 2nd ed. 2023.\n",
        "\n",
        "Link para o original: https://github.com/davidADSP/Generative_Deep_Learning_2nd_Edition/blob/main/notebooks/09_transformer/gpt/gpt.ipynb"
      ],
      "metadata": {
        "id": "iJZ9Y-f7TWDd"
      },
      "id": "iJZ9Y-f7TWDd"
    }
  ],
  "metadata": {
    "kernelspec": {
      "display_name": "Python 3",
      "name": "python3"
    },
    "language_info": {
      "codemirror_mode": {
        "name": "ipython",
        "version": 3
      },
      "file_extension": ".py",
      "mimetype": "text/x-python",
      "name": "python",
      "nbconvert_exporter": "python",
      "pygments_lexer": "ipython3",
      "version": "3.8.10"
    },
    "vscode": {
      "interpreter": {
        "hash": "31f2aee4e71d21fbe5cf8b01ff0e069b9275f58929596ceb00d14d90e3e16cd6"
      }
    },
    "colab": {
      "provenance": [],
      "gpuType": "T4",
      "include_colab_link": true
    },
    "accelerator": "GPU"
  },
  "nbformat": 4,
  "nbformat_minor": 5
}