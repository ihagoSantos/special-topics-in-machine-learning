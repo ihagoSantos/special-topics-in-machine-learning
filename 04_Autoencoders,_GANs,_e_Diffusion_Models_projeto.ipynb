{
  "cells": [
    {
      "cell_type": "markdown",
      "metadata": {
        "id": "view-in-github",
        "colab_type": "text"
      },
      "source": [
        "<a href=\"https://colab.research.google.com/github/ihagoSantos/special-topics-in-machine-learning/blob/main/04_Autoencoders%2C_GANs%2C_e_Diffusion_Models_projeto.ipynb\" target=\"_parent\"><img src=\"https://colab.research.google.com/assets/colab-badge.svg\" alt=\"Open In Colab\"/></a>"
      ]
    },
    {
      "cell_type": "markdown",
      "metadata": {
        "id": "dFXIv9qNpKzt",
        "tags": []
      },
      "source": [
        "# Setup"
      ]
    },
    {
      "cell_type": "code",
      "execution_count": 1,
      "metadata": {
        "id": "TFSU3FCOpKzu"
      },
      "outputs": [],
      "source": [
        "import sys\n",
        "\n",
        "assert sys.version_info >= (3, 7)"
      ]
    },
    {
      "cell_type": "code",
      "execution_count": 2,
      "metadata": {
        "id": "YqCwW7cMpKzw"
      },
      "outputs": [],
      "source": [
        "from packaging import version\n",
        "import sklearn\n",
        "\n",
        "assert version.parse(sklearn.__version__) >= version.parse(\"1.0.1\")"
      ]
    },
    {
      "cell_type": "code",
      "execution_count": 3,
      "metadata": {
        "id": "0Piq5se2pKzx"
      },
      "outputs": [],
      "source": [
        "import tensorflow as tf\n",
        "\n",
        "assert version.parse(tf.__version__) >= version.parse(\"2.8.0\")"
      ]
    },
    {
      "cell_type": "code",
      "execution_count": 4,
      "metadata": {
        "id": "8d4TH3NbpKzx"
      },
      "outputs": [],
      "source": [
        "import matplotlib.pyplot as plt\n",
        "\n",
        "plt.rc('font', size=14)\n",
        "plt.rc('axes', labelsize=14, titlesize=14)\n",
        "plt.rc('legend', fontsize=14)\n",
        "plt.rc('xtick', labelsize=10)\n",
        "plt.rc('ytick', labelsize=10)"
      ]
    },
    {
      "cell_type": "markdown",
      "metadata": {
        "id": "YTsawKlapKzy"
      },
      "source": [
        "Verifique se existe uma GPU disponível"
      ]
    },
    {
      "cell_type": "code",
      "execution_count": 5,
      "metadata": {
        "id": "Ekxzo6pOpKzy"
      },
      "outputs": [],
      "source": [
        "if not tf.config.list_physical_devices('GPU'):\n",
        "    print(\"No GPU was detected. Neural nets can be very slow without a GPU.\")\n",
        "    if \"google.colab\" in sys.modules:\n",
        "        print(\"Go to Runtime > Change runtime and select a GPU hardware \"\n",
        "              \"accelerator.\")\n",
        "    if \"kaggle_secrets\" in sys.modules:\n",
        "        print(\"Go to Settings > Accelerator and select GPU.\")"
      ]
    },
    {
      "cell_type": "markdown",
      "source": [
        "**Projeto**"
      ],
      "metadata": {
        "id": "lwyUuHTqlxxN"
      }
    },
    {
      "cell_type": "markdown",
      "metadata": {
        "id": "0GXqpaDHyLhY"
      },
      "source": [
        "Projeto: tente usar um autoencoder de eliminação de ruído para pré-treinar um classificador de imagem. Você pode usar MNIST (a opção mais simples) ou um conjunto de dados de imagens mais complexo como [CIFAR10](https://homl.info/122).\n",
        "\n",
        "Independentemente do conjunto de dados que você está usando, siga estas etapas:_\n",
        "* Divida o conjunto de dados em um conjunto de treinamento e um conjunto de teste. Treine um autoencoder com eliminação de ruído no conjunto de treinamento.\n"
      ]
    },
    {
      "cell_type": "code",
      "execution_count": 6,
      "metadata": {
        "id": "RVAVmIznyLhY",
        "colab": {
          "base_uri": "https://localhost:8080/"
        },
        "outputId": "6bdcfe07-96b9-480d-9417-8acb4117fd60"
      },
      "outputs": [
        {
          "output_type": "stream",
          "name": "stdout",
          "text": [
            "Downloading data from https://storage.googleapis.com/tensorflow/tf-keras-datasets/mnist.npz\n",
            "\u001b[1m11490434/11490434\u001b[0m \u001b[32m━━━━━━━━━━━━━━━━━━━━\u001b[0m\u001b[37m\u001b[0m \u001b[1m0s\u001b[0m 0us/step\n"
          ]
        }
      ],
      "source": [
        "# (X_train, y_train), (X_test, y_test) = tf.keras.datasets.cifar10.load_data()\n",
        "(X_train, y_train), (X_test, y_test) = tf.keras.datasets.mnist.load_data()\n",
        "\n",
        "X_train = X_train / 255\n",
        "X_test = X_test / 255\n",
        "\n",
        "X_train = X_train.reshape(60000, 28, 28, 1)\n",
        "X_test = X_test.reshape(10000, 28, 28, 1)\n"
      ]
    },
    {
      "cell_type": "code",
      "execution_count": 7,
      "metadata": {
        "id": "qXcft-kHyLhY"
      },
      "outputs": [],
      "source": [
        "tf.random.set_seed(42)\n",
        "\n",
        "denoising_encoder = tf.keras.Sequential([\n",
        "    tf.keras.layers.GaussianNoise(0.1),\n",
        "    tf.keras.layers.Conv2D(28, 1, padding=\"same\", activation=\"relu\"),\n",
        "    tf.keras.layers.MaxPool2D(),\n",
        "    tf.keras.layers.Flatten(),\n",
        "    tf.keras.layers.Dense(512, activation=\"relu\"),\n",
        "])"
      ]
    },
    {
      "cell_type": "code",
      "execution_count": 8,
      "metadata": {
        "id": "a2lC7XBqyLhY"
      },
      "outputs": [],
      "source": [
        "denoising_decoder = tf.keras.Sequential([\n",
        "    tf.keras.layers.Dense(14 * 14 * 28, activation=\"relu\"),\n",
        "    tf.keras.layers.Reshape([14, 14, 28]),\n",
        "    tf.keras.layers.Conv2DTranspose(filters=1, kernel_size=3, strides=2,\n",
        "                                 padding=\"same\", activation=\"sigmoid\")\n",
        "])"
      ]
    },
    {
      "cell_type": "code",
      "execution_count": 10,
      "metadata": {
        "id": "RgtxA9BjyLhY",
        "colab": {
          "base_uri": "https://localhost:8080/"
        },
        "outputId": "81496bbf-0100-4651-9982-01a7007f5b94"
      },
      "outputs": [
        {
          "output_type": "stream",
          "name": "stdout",
          "text": [
            "Epoch 1/10\n",
            "\u001b[1m1875/1875\u001b[0m \u001b[32m━━━━━━━━━━━━━━━━━━━━\u001b[0m\u001b[37m\u001b[0m \u001b[1m16s\u001b[0m 5ms/step - loss: 0.1675 - mse: 0.0352 - val_loss: 0.0796 - val_mse: 0.0060\n",
            "Epoch 2/10\n",
            "\u001b[1m1875/1875\u001b[0m \u001b[32m━━━━━━━━━━━━━━━━━━━━\u001b[0m\u001b[37m\u001b[0m \u001b[1m15s\u001b[0m 4ms/step - loss: 0.0810 - mse: 0.0064 - val_loss: 0.0760 - val_mse: 0.0048\n",
            "Epoch 3/10\n",
            "\u001b[1m1875/1875\u001b[0m \u001b[32m━━━━━━━━━━━━━━━━━━━━\u001b[0m\u001b[37m\u001b[0m \u001b[1m11s\u001b[0m 4ms/step - loss: 0.0782 - mse: 0.0056 - val_loss: 0.0747 - val_mse: 0.0044\n",
            "Epoch 4/10\n",
            "\u001b[1m1875/1875\u001b[0m \u001b[32m━━━━━━━━━━━━━━━━━━━━\u001b[0m\u001b[37m\u001b[0m \u001b[1m10s\u001b[0m 4ms/step - loss: 0.0771 - mse: 0.0052 - val_loss: 0.0741 - val_mse: 0.0042\n",
            "Epoch 5/10\n",
            "\u001b[1m1875/1875\u001b[0m \u001b[32m━━━━━━━━━━━━━━━━━━━━\u001b[0m\u001b[37m\u001b[0m \u001b[1m11s\u001b[0m 5ms/step - loss: 0.0765 - mse: 0.0050 - val_loss: 0.0737 - val_mse: 0.0041\n",
            "Epoch 6/10\n",
            "\u001b[1m1875/1875\u001b[0m \u001b[32m━━━━━━━━━━━━━━━━━━━━\u001b[0m\u001b[37m\u001b[0m \u001b[1m7s\u001b[0m 4ms/step - loss: 0.0761 - mse: 0.0049 - val_loss: 0.0734 - val_mse: 0.0040\n",
            "Epoch 7/10\n",
            "\u001b[1m1875/1875\u001b[0m \u001b[32m━━━━━━━━━━━━━━━━━━━━\u001b[0m\u001b[37m\u001b[0m \u001b[1m11s\u001b[0m 4ms/step - loss: 0.0757 - mse: 0.0048 - val_loss: 0.0730 - val_mse: 0.0039\n",
            "Epoch 8/10\n",
            "\u001b[1m1875/1875\u001b[0m \u001b[32m━━━━━━━━━━━━━━━━━━━━\u001b[0m\u001b[37m\u001b[0m \u001b[1m8s\u001b[0m 4ms/step - loss: 0.0754 - mse: 0.0047 - val_loss: 0.0729 - val_mse: 0.0038\n",
            "Epoch 9/10\n",
            "\u001b[1m1875/1875\u001b[0m \u001b[32m━━━━━━━━━━━━━━━━━━━━\u001b[0m\u001b[37m\u001b[0m \u001b[1m8s\u001b[0m 4ms/step - loss: 0.0752 - mse: 0.0046 - val_loss: 0.0727 - val_mse: 0.0038\n",
            "Epoch 10/10\n",
            "\u001b[1m1875/1875\u001b[0m \u001b[32m━━━━━━━━━━━━━━━━━━━━\u001b[0m\u001b[37m\u001b[0m \u001b[1m7s\u001b[0m 4ms/step - loss: 0.0750 - mse: 0.0046 - val_loss: 0.0726 - val_mse: 0.0038\n"
          ]
        }
      ],
      "source": [
        "denoising_ae = tf.keras.Sequential([denoising_encoder, denoising_decoder])\n",
        "denoising_ae.compile(loss=\"binary_crossentropy\", optimizer=\"nadam\",\n",
        "                     metrics=[\"mse\"])\n",
        "history = denoising_ae.fit(X_train, X_train, epochs=10,\n",
        "                           validation_data=(X_test, X_test))"
      ]
    },
    {
      "cell_type": "code",
      "execution_count": 11,
      "metadata": {
        "id": "dTlFyrmSyLhY",
        "colab": {
          "base_uri": "https://localhost:8080/",
          "height": 847
        },
        "outputId": "63b843d0-1e1b-45c1-f06b-dad7561a7554"
      },
      "outputs": [
        {
          "output_type": "stream",
          "name": "stdout",
          "text": [
            "\u001b[1m1/1\u001b[0m \u001b[32m━━━━━━━━━━━━━━━━━━━━\u001b[0m\u001b[37m\u001b[0m \u001b[1m0s\u001b[0m 451ms/step\n"
          ]
        },
        {
          "output_type": "display_data",
          "data": {
            "text/plain": [
              "<Figure size 600x1000 with 15 Axes>"
            ],
            "image/png": "[encoded data removed]"
          },
          "metadata": {}
        }
      ],
      "source": [
        "import numpy as np\n",
        "\n",
        "n_images = 5\n",
        "new_images = X_test[:n_images]\n",
        "new_images_noisy = new_images + np.random.randn(n_images, 28, 28, 1) * 0.1\n",
        "new_images_denoised = denoising_ae.predict(new_images_noisy)\n",
        "\n",
        "plt.figure(figsize=(6, n_images * 2))\n",
        "for index in range(n_images):\n",
        "    plt.subplot(n_images, 3, index * 3 + 1)\n",
        "    plt.imshow(new_images[index])\n",
        "    plt.axis('off')\n",
        "    if index == 0:\n",
        "        plt.title(\"Original\")\n",
        "    plt.subplot(n_images, 3, index * 3 + 2)\n",
        "    plt.imshow(new_images_noisy[index].clip(0., 1.))\n",
        "    plt.axis('off')\n",
        "    if index == 0:\n",
        "        plt.title(\"Noisy\")\n",
        "    plt.subplot(n_images, 3, index * 3 + 3)\n",
        "    plt.imshow(new_images_denoised[index])\n",
        "    plt.axis('off')\n",
        "    if index == 0:\n",
        "        plt.title(\"Denoised\")\n",
        "\n",
        "plt.show()"
      ]
    }
  ],
  "metadata": {
    "accelerator": "GPU",
    "colab": {
      "provenance": [],
      "include_colab_link": true
    },
    "kernelspec": {
      "display_name": "Python 3",
      "language": "python",
      "name": "python3"
    },
    "language_info": {
      "codemirror_mode": {
        "name": "ipython",
        "version": 3
      },
      "file_extension": ".py",
      "mimetype": "text/x-python",
      "name": "python",
      "nbconvert_exporter": "python",
      "pygments_lexer": "ipython3",
      "version": "3.10.6"
    },
    "nav_menu": {
      "height": "381px",
      "width": "453px"
    },
    "toc": {
      "navigate_menu": true,
      "number_sections": true,
      "sideBar": true,
      "threshold": 6,
      "toc_cell": false,
      "toc_section_display": "block",
      "toc_window_display": false
    }
  },
  "nbformat": 4,
  "nbformat_minor": 0
}